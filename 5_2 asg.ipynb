{
 "cells": [
  {
   "cell_type": "raw",
   "id": "5716bc47-413e-4107-adb3-a88e150fbca0",
   "metadata": {},
   "source": [
    "Q1. Explain Class and Object with respect to Object-Oriented Programming. Give a suitable example."
   ]
  },
  {
   "cell_type": "code",
   "execution_count": 1,
   "id": "fe2d72ce-a9e2-4973-93af-ec75b9686888",
   "metadata": {},
   "outputs": [],
   "source": [
    "class test :\n",
    "    pass"
   ]
  },
  {
   "cell_type": "code",
   "execution_count": 5,
   "id": "0c98ddf7-7666-47f2-90ef-981eb3f16fed",
   "metadata": {},
   "outputs": [
    {
     "name": "stdout",
     "output_type": "stream",
     "text": [
      "<class 'int'>\n"
     ]
    },
    {
     "data": {
      "text/plain": [
       "75"
      ]
     },
     "execution_count": 5,
     "metadata": {},
     "output_type": "execute_result"
    }
   ],
   "source": [
    "a = 75 \n",
    "print(type(a)) #class int ?? "
   ]
  },
  {
   "cell_type": "code",
   "execution_count": 6,
   "id": "2ded5677-8f1e-4d5f-9254-dfe91d0687fa",
   "metadata": {},
   "outputs": [],
   "source": [
    "a = test()"
   ]
  },
  {
   "cell_type": "code",
   "execution_count": 8,
   "id": "080bc544-c3e4-4648-9b3a-2f8becdec259",
   "metadata": {},
   "outputs": [
    {
     "name": "stdout",
     "output_type": "stream",
     "text": [
      "<class '__main__.test'>\n"
     ]
    }
   ],
   "source": [
    "print(type(a))"
   ]
  },
  {
   "cell_type": "raw",
   "id": "28a2ef6f-1acc-4665-89a7-1f9756c25e47",
   "metadata": {},
   "source": [
    "Object-Oriented Programming is the concept of using classes and objects in programming. \n",
    "This makes code more structured , modular , and reuseable. \n",
    "In object-oriented programming (OOPs), a class is a blueprint (Skeleton) for creating objects (also known as instances). An object is an instance of a class that contains data (attributes) and functions (methods) that act on that data."
   ]
  },
  {
   "cell_type": "raw",
   "id": "5ac9d264-2311-45fe-8fae-a79d87e68154",
   "metadata": {},
   "source": [
    " concept of classes - one kind of 'blue print' / 'skeleton' / used to 'define', in case of oops.\n",
    "eg : To more precisely describe the concept of class in OOPs : We consider an example of car parked with many cars in the parking yard, the person x tells the person y to go and sit in the car .. but doesn't specify which car ? but as the person x knows the car, the properties of a car , a vehicle with 4 tyres, a stearing , a engine etc .. but doesn't specify which car, like the model number, the color, the number plate etc . This concept of knowing the over all properties but not the specific property is what a 'class' can be defined as in OOPs.\n",
    "## class - classification of real world entity. - characterization -- not specific to real world entity\n",
    "##  class int - but which int ?\n",
    "##  class str - but which str ? #over all idea \n",
    "#> OBJECT - real world entity.\n",
    "#  a- variable / instance / object\n",
    "## a - variable of class int / instance or object of class int"
   ]
  },
  {
   "cell_type": "code",
   "execution_count": 11,
   "id": "61a044e4-b680-4035-8602-2b5bc88599b0",
   "metadata": {},
   "outputs": [
    {
     "name": "stdout",
     "output_type": "stream",
     "text": [
      "Hello, my name is Mustafa and I am 10 years old.\n"
     ]
    }
   ],
   "source": [
    "class person :\n",
    "    def __init__(self, name, age): #self is always passed as the first parameter/attribute, but is not a keyword in case.\n",
    "        #The __init__ method is a special method that gets called when we create an object of the class. \n",
    "        #> It initializes the attributes of the object.\n",
    "        self.name = name\n",
    "        self.age = age\n",
    "    \n",
    "    def say_hello(self):\n",
    "        print(\"Hello, my name is\", self.name, \"and I am\", self.age, \"years old.\") \n",
    "\n",
    "# Creating an object of the Person class\n",
    "p1 = person(\"Mustafa\", 10) \n",
    "\n",
    "# Calling the say_hello method on the p1 object\n",
    "p1.say_hello()\n",
    "#We can create multiple objects of the Person class, each with its own attributes and methods."
   ]
  },
  {
   "cell_type": "raw",
   "id": "f0e6345d-f3de-420a-a899-48f279d878e8",
   "metadata": {},
   "source": [
    "2. Name the four pillars of OOPs."
   ]
  },
  {
   "cell_type": "raw",
   "id": "b9e0d5ce-55e9-4764-9abb-788226a463c3",
   "metadata": {},
   "source": [
    "> Encapsulation\n",
    "> Inhertitance \n",
    "> Abstarction\n",
    "> Polymorphism "
   ]
  },
  {
   "cell_type": "raw",
   "id": "4f3edf95-2313-4990-8b90-f994d5005588",
   "metadata": {},
   "source": [
    "3. Explain why the __init__() function is used. Give a suitable example."
   ]
  },
  {
   "cell_type": "raw",
   "id": "7d0aec6f-23f8-4ea0-8e25-e6e1771a8a32",
   "metadata": {},
   "source": [
    " the __init__() method is a special method that is automatically called when an object of a class is created. It is used to initialize the attributes of the object and perform any other setup required before the object can be used."
   ]
  },
  {
   "cell_type": "code",
   "execution_count": 2,
   "id": "273ac1d6-a76e-4b2d-b419-2011dd6e2452",
   "metadata": {},
   "outputs": [
    {
     "name": "stdout",
     "output_type": "stream",
     "text": [
      "Hi, my name is Rehan and I'm 10 years old.\n"
     ]
    }
   ],
   "source": [
    "class Person:\n",
    "    def __init__(self, name, age):\n",
    "        self.name = name\n",
    "        self.age = age\n",
    "\n",
    "    def introduce(self):\n",
    "        print(\"Hi, my name is\", self.name, \"and I'm\", self.age, \"years old.\")\n",
    "\n",
    "person1 = Person(\"Rehan\", 10)\n",
    "person1.introduce() "
   ]
  },
  {
   "cell_type": "raw",
   "id": "fc2deff3-c0e9-4abd-b2a2-3880c162ae4d",
   "metadata": {},
   "source": [
    "4. Why self is used in OOPs?"
   ]
  },
  {
   "cell_type": "raw",
   "id": "e07cbc59-a12f-4dd2-89c4-44c44e30e54c",
   "metadata": {},
   "source": [
    "The self parameter is used in Python methods to refer to the object that the method is called on.\n",
    "It is a convention in Python to name this parameter as self, though any other name could be used as well."
   ]
  },
  {
   "cell_type": "raw",
   "id": "450eb52d-78ea-4c96-b80e-fc0499615fd1",
   "metadata": {},
   "source": [
    "5. What is inheritance? "
   ]
  },
  {
   "cell_type": "raw",
   "id": "c5475b9c-d19b-4df4-8c22-464eb8cc9526",
   "metadata": {},
   "source": [
    "Inheritance is a mechanism in object-oriented programming (OOP) that allows a new class to be based on an existing class, inheriting its attributes and methods. The existing class is called the parent class, base class, or superclass, while the new class is called the child class, derived class, or subclass. Inheritance helps to reuse code, enhance modularity, and create hierarchies of related classes."
   ]
  }
 ],
 "metadata": {
  "kernelspec": {
   "display_name": "Python 3 (ipykernel)",
   "language": "python",
   "name": "python3"
  },
  "language_info": {
   "codemirror_mode": {
    "name": "ipython",
    "version": 3
   },
   "file_extension": ".py",
   "mimetype": "text/x-python",
   "name": "python",
   "nbconvert_exporter": "python",
   "pygments_lexer": "ipython3",
   "version": "3.10.8"
  }
 },
 "nbformat": 4,
 "nbformat_minor": 5
}
