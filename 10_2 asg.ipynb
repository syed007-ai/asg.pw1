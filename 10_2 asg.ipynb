{
 "cells": [
  {
   "cell_type": "markdown",
   "id": "48decb6d-2367-4bf6-97c5-1f452fae1aef",
   "metadata": {},
   "source": [
    "# 1.) Which function is used to open a file? What are the different modes of opening a file? Explain each mode of file opening."
   ]
  },
  {
   "cell_type": "code",
   "execution_count": 4,
   "id": "aec2ffc8-73d5-4116-9803-95c7ff396275",
   "metadata": {},
   "outputs": [],
   "source": [
    "file = open(\"sample.txt\" , \"w\")"
   ]
  },
  {
   "cell_type": "code",
   "execution_count": 5,
   "id": "25d7c416-3b55-409b-aedc-a41a86ace325",
   "metadata": {},
   "outputs": [
    {
     "data": {
      "text/plain": [
       "21"
      ]
     },
     "execution_count": 5,
     "metadata": {},
     "output_type": "execute_result"
    }
   ],
   "source": [
    "file.write(\"This is my sample txt\")"
   ]
  },
  {
   "cell_type": "markdown",
   "id": "f0d88420-05f9-42bb-8838-880073de9f9d",
   "metadata": {},
   "source": [
    "we use \"open()\" func to open a file , it takes two arguments , the first argument is the name of the file and the second argument is the mode in which the file is to be opened."
   ]
  },
  {
   "cell_type": "markdown",
   "id": "58880437-9674-48a7-9281-20c758c5bcd0",
   "metadata": {},
   "source": [
    "there are various modes of opening a file. They are :\n",
    "read , write , append , read in binary , write in binary , exclusive mode."
   ]
  },
  {
   "cell_type": "code",
   "execution_count": 6,
   "id": "d91fb501-758c-4adc-aa87-87b9e271083f",
   "metadata": {},
   "outputs": [],
   "source": [
    "file.close()"
   ]
  },
  {
   "cell_type": "markdown",
   "id": "01d15551-d9d4-43c6-9a8c-469355a0fdbf",
   "metadata": {},
   "source": [
    "(read)\"r\" \n",
    "> This is the default mode. It opens the file in read-only mode, this allows you to read the contents of the file but not modify it. If the file does not exist, an error is raised."
   ]
  },
  {
   "cell_type": "code",
   "execution_count": 7,
   "id": "39964a77-db32-4a15-808e-b729eb783967",
   "metadata": {},
   "outputs": [
    {
     "name": "stdout",
     "output_type": "stream",
     "text": [
      "This is my sample txt\n"
     ]
    }
   ],
   "source": [
    "f = open(\"sample.txt\" , \"r\")\n",
    "content = f.read()\n",
    "print(content)\n",
    "f.close()"
   ]
  },
  {
   "cell_type": "markdown",
   "id": "5f049ccb-8526-4b09-aea5-5effe759b288",
   "metadata": {},
   "source": [
    "(write)\"w\"\n",
    "> This mode opens the file in write mode, this allows you to modify the contents of the file. If the file does not exist, a new file is created. If the file already exists, its contents are truncated/ over-written"
   ]
  },
  {
   "cell_type": "code",
   "execution_count": 8,
   "id": "fc0d85ec-9687-4bdb-b123-5f6477ab489e",
   "metadata": {},
   "outputs": [],
   "source": [
    "f1 = open(\"sample2.txt\" ,\"w\")\n",
    "f1.write(\" this is my sample 2 txt\")\n",
    "f1.close()"
   ]
  },
  {
   "cell_type": "markdown",
   "id": "5dcc83de-da88-4e29-a2c6-72ece88ed438",
   "metadata": {},
   "source": [
    "(append)\"a\" \n",
    "> this mode opens the file in append mode, this allows you to modify the contents of the file. If, the file already exists, then the content is added to the file. If the file doesnot exist , a new file is created."
   ]
  },
  {
   "cell_type": "code",
   "execution_count": 13,
   "id": "74dff1fc-345a-4a68-9931-ddc416cb9f71",
   "metadata": {},
   "outputs": [
    {
     "name": "stdout",
     "output_type": "stream",
     "text": [
      " this is my sample 2 txt I'm adding this to sample  2 txt  I'm adding this to sample  2 txt  I'm adding this to sample  2 txt  I'm adding this to sample  2 txt  I'm adding this to sample  2 txt \n",
      "I'm from sample 3 txtI'm from sample 3 txt , I wasn't there but got into existence because of append mode\n"
     ]
    }
   ],
   "source": [
    "f1 = open(\"sample2.txt\" , \"a\")\n",
    "f1.write(\" I'm adding this to sample  2 txt \")\n",
    "f1.close()\n",
    "f1 = open(\"sample2.txt\" , \"r\")\n",
    "content1 = f1.read()\n",
    "print(content1)\n",
    "f1.close()\n",
    "f1_test = open(\"sample3.txt\" , \"a\")\n",
    "f1_test.write(\"I'm from sample 3 txt , I wasn't there but got into existence because of append mode\")\n",
    "f1_test.close()\n",
    "file_test = open(\"sample3.txt\" , \"r\")\n",
    "content2 = file_test.read()\n",
    "print(content2)\n",
    "file_test.close()"
   ]
  },
  {
   "cell_type": "markdown",
   "id": "f85752e4-30c3-46be-8eb2-aa776d5c992a",
   "metadata": {},
   "source": [
    "(write binary) \"wb\"\n",
    "> This mode is used to open a file in binary mode. This is usually used when working with non-text files, such as image or audio files."
   ]
  },
  {
   "cell_type": "code",
   "execution_count": 17,
   "id": "455bb51d-4c88-40f9-81a7-aefbe7d41c07",
   "metadata": {},
   "outputs": [],
   "source": [
    "binary_test = open(\"test.bin\" , \"wb\")\n",
    "binary_test.write(b\"\\x01\\x02\\x03\\x367328\")\n",
    "binary_test.close()"
   ]
  },
  {
   "cell_type": "markdown",
   "id": "7dbc104f-f57b-4956-891c-bea57c08591b",
   "metadata": {},
   "source": [
    "(read binary) \"rb\"\n",
    "> This mode is used to read a file in binary mode. This is usually used when working with non-text files , such as image or audio files"
   ]
  },
  {
   "cell_type": "code",
   "execution_count": 18,
   "id": "bfbeee9e-bb0d-46d0-952a-34192c99b22f",
   "metadata": {},
   "outputs": [
    {
     "name": "stdout",
     "output_type": "stream",
     "text": [
      "b'\\x01\\x02\\x0367328'\n"
     ]
    }
   ],
   "source": [
    "file = open(\"test.bin\" , \"rb\")\n",
    "print(file.read())\n",
    "file.close()"
   ]
  },
  {
   "cell_type": "markdown",
   "id": "502227ec-67cf-4f65-8a8f-e3b8337ebb8a",
   "metadata": {},
   "source": [
    "(exclusive) \"x\"\n",
    "> This mode opens the file in exclusive creation mode,  this allows you to create a new file but only if it does not already exist. If the file already exists, an error is raised."
   ]
  },
  {
   "cell_type": "code",
   "execution_count": 19,
   "id": "50459a1a-04dd-4e40-8bd7-47e6dd775a1e",
   "metadata": {},
   "outputs": [],
   "source": [
    "file1 = open(\"new.txt\" , \"x\")\n",
    "file1.write(\"As I'm a non-existing file, hence able to execute and write the given text\")\n",
    "file1.close()"
   ]
  },
  {
   "cell_type": "markdown",
   "id": "b36219b6-3699-49b7-8c0f-39ff467157bd",
   "metadata": {},
   "source": [
    "# 2)  Why close() function is used? Why is it important to close a file?"
   ]
  },
  {
   "cell_type": "markdown",
   "id": "94d3f136-d075-4a34-8699-6e2f1a569c6f",
   "metadata": {},
   "source": [
    "* close() function is used to close the opened file.\n",
    "* It is importants to close a file, because unless we close the file, we cannot access the file in either of any of the modes. \n"
   ]
  },
  {
   "cell_type": "markdown",
   "id": "0b95286b-ae1d-4867-8231-d5bb582f35c1",
   "metadata": {},
   "source": [
    "# 3) Write a python program to create a text file. Write ‘I want to become a Data Scientist’ in that file. Then close the file. Open this file and read the content of the file."
   ]
  },
  {
   "cell_type": "code",
   "execution_count": 1,
   "id": "490b3cc3-2b9a-45f8-a419-ccce69acd1a8",
   "metadata": {},
   "outputs": [],
   "source": [
    "text_file = open(\"text.txt\" , \"w\")\n",
    "text_file.write(\" I want to become a Data Scientist \")\n",
    "text_file.close()"
   ]
  },
  {
   "cell_type": "code",
   "execution_count": 2,
   "id": "6f258231-fb9a-412a-9596-b6daf11994a1",
   "metadata": {},
   "outputs": [
    {
     "name": "stdout",
     "output_type": "stream",
     "text": [
      " I want to become a Data Scientist \n"
     ]
    }
   ],
   "source": [
    "read_file = open(\"text.txt\" ,\"r\")\n",
    "print(read_file.read())\n",
    "read_file.close()"
   ]
  },
  {
   "cell_type": "markdown",
   "id": "71a7b40f-ec4b-4cd3-822b-717c8eba3296",
   "metadata": {},
   "source": [
    "# 4) Explain the following with python code: read(), readline() and readlines()."
   ]
  },
  {
   "cell_type": "code",
   "execution_count": 3,
   "id": "e25de703-52ac-4b09-a97b-d64276bf3664",
   "metadata": {},
   "outputs": [],
   "source": [
    "f = open(\"some.txt\" , \"w\")\n",
    "f.write(\"this is some txt\")\n",
    "f.close()"
   ]
  },
  {
   "cell_type": "code",
   "execution_count": 2,
   "id": "7f7ff928-2b05-4d85-9dfb-af0f3bb726af",
   "metadata": {},
   "outputs": [],
   "source": [
    "f = open(\"some.txt\" , \"a\")\n",
    "f.write(\"this is the line 2 \")\n",
    "f.write(\"this is the line 3\" )\n",
    "f.close()"
   ]
  },
  {
   "cell_type": "code",
   "execution_count": 3,
   "id": "e5dfecb4-3302-4e06-8f88-71acdd5552da",
   "metadata": {},
   "outputs": [
    {
     "name": "stdout",
     "output_type": "stream",
     "text": [
      "this is some txt this is the line 2  this is the line 3this is the line 2 this is the line 3\n"
     ]
    }
   ],
   "source": [
    "f1 = open(\"some.txt\" , \"r\")\n",
    "context = f1.read()\n",
    "print(context)\n",
    "f1.close()"
   ]
  },
  {
   "cell_type": "code",
   "execution_count": 4,
   "id": "572e3c6c-16c1-45bd-ae90-ccaf46538e7a",
   "metadata": {},
   "outputs": [
    {
     "name": "stdout",
     "output_type": "stream",
     "text": [
      "this is some txt this is the line 2  this is the line 3this is the line 2 this is the line 3\n",
      "\n",
      "this is some txt this is the line 2  this is the line 3this is the line 2 this is the line 3\n",
      "\n"
     ]
    }
   ],
   "source": [
    "f2 = open(\"some.txt\" , \"r\")\n",
    "l1 = f2.readline()\n",
    "l2 = f2.readline()\n",
    "print(l1)\n",
    "print(l2)\n",
    "f2.close()\n",
    "print(l1)\n",
    "print(l2)"
   ]
  },
  {
   "cell_type": "code",
   "execution_count": 5,
   "id": "03d28f18-5ad9-4ef9-8ae9-214ca9f840f8",
   "metadata": {},
   "outputs": [
    {
     "name": "stdout",
     "output_type": "stream",
     "text": [
      "['this is some txt this is the line 2  this is the line 3this is the line 2 this is the line 3']\n"
     ]
    }
   ],
   "source": [
    "f3 = open(\"some.txt\" , \"r\")\n",
    "lines = f3.readlines()\n",
    "print(lines)\n",
    "f3.close()"
   ]
  },
  {
   "cell_type": "code",
   "execution_count": 8,
   "id": "a5ee6f92-09bf-4fda-9808-ded754b3144b",
   "metadata": {},
   "outputs": [
    {
     "name": "stdout",
     "output_type": "stream",
     "text": [
      "this is some txt this is the line 2  this is the line 3this is the line 2 this is the line 3\n"
     ]
    }
   ],
   "source": [
    "f3 =  open(\"some.txt\" ,\"r\")\n",
    "lines =  f3.readlines()\n",
    "for line in lines :\n",
    "    print(line.strip())\n",
    "f3.close()    "
   ]
  },
  {
   "cell_type": "markdown",
   "id": "8119e6b6-f0c7-4773-83d3-8845d4afe9bb",
   "metadata": {},
   "source": [
    "* read(): This method reads the entire file and returns its contents as a single string. It's like reading a whole book and getting it all in one piece.\n",
    "\n",
    "* readline(): This method reads one line at a time from the file and returns each line as a string. It's like reading a book and getting one line at a time.\n",
    "\n",
    "* readlines(): This method reads all the lines from the file and returns them as a list of strings. It's like reading a book and getting all the lines one by one in a list."
   ]
  },
  {
   "cell_type": "markdown",
   "id": "b6b7c3c2-08e0-4c58-8d93-203eca32f98c",
   "metadata": {},
   "source": [
    "# 5) Explain why with statement is used with open(). What is the advantage of using with statement and open() together?"
   ]
  },
  {
   "cell_type": "code",
   "execution_count": 9,
   "id": "b5627bd5-150a-46f0-a07c-a3bef1add38c",
   "metadata": {},
   "outputs": [],
   "source": [
    "with open(\"new.txt\" , \"w\") as  f :\n",
    "    f.write(\"using this to avoid closing the file everytime, as we open the file.. it also closes it after its execution.\")"
   ]
  },
  {
   "cell_type": "code",
   "execution_count": 13,
   "id": "47659d8e-54ec-4b28-8ebf-d275c4b7caf6",
   "metadata": {},
   "outputs": [
    {
     "name": "stdout",
     "output_type": "stream",
     "text": [
      "using this to avoid closing the file everytime, as we open the file.. it also closes it after its execution.\n"
     ]
    }
   ],
   "source": [
    "with open(\"new.txt\" , \"r\") as f :\n",
    "    print(f.read())"
   ]
  },
  {
   "cell_type": "markdown",
   "id": "1064d703-05f2-4fc2-a171-2fabf9f9fc9a",
   "metadata": {},
   "source": [
    "* The with statement is used with the open() function in Python to ensure that a file is properly opened and closed. It is used to create a temporary context in which the file object is available, and when the context is exited, the file is automatically closed.\n",
    "\n",
    "* The advantage of using the with statement and open() together is that it helps to avoid common problems that can arise while working with files, such as forgetting to close the file, or accidentally modifying the file while it is open. By using the with statement, we don't have to worry about manually closing the file or accidentally modifying it after it has been closed.\n",
    "\n",
    "* with statement and open() function together provide a convenient way to work with files in Python, ensuring that files are properly opened and closed, without having to worry about closing the file manually or accidentally modifying the file after it's been closed."
   ]
  },
  {
   "cell_type": "markdown",
   "id": "0a8f876f-5d53-41ac-bc55-555a7cb98f5b",
   "metadata": {},
   "source": [
    "# 6) Explain the write() and writelines() functions. Give a suitable example."
   ]
  },
  {
   "cell_type": "code",
   "execution_count": 14,
   "id": "67f69813-77f9-47e4-b675-ae54feb61565",
   "metadata": {},
   "outputs": [],
   "source": [
    "with open(\"new1.txt\" , \"w\") as f :\n",
    "    f.write(\"This line is added to my new.txt file\")"
   ]
  },
  {
   "cell_type": "code",
   "execution_count": 15,
   "id": "116742e0-d893-4f48-8fd4-d1f234b1c71d",
   "metadata": {},
   "outputs": [],
   "source": [
    "with open(\"new1.txt\" , \"w\") as f :\n",
    "    f.writelines(\"what should I write here\")"
   ]
  },
  {
   "cell_type": "code",
   "execution_count": 16,
   "id": "dde2ed68-8e26-41e9-8338-0bbe77497b05",
   "metadata": {},
   "outputs": [
    {
     "name": "stdout",
     "output_type": "stream",
     "text": [
      "what should I write here\n"
     ]
    }
   ],
   "source": [
    "with open(\"new1.txt\" , \"r\") as f  :\n",
    "    print(f.read())"
   ]
  },
  {
   "cell_type": "markdown",
   "id": "99d21472-40a1-4da8-8d9b-4280522d9004",
   "metadata": {},
   "source": [
    "* write() and writelines() functions in Python are used to write data to a file.\n",
    "\n",
    "* The write() function is used to write a single string to a file. It takes a string argument and writes it to the file that was opened for writing. If the file does not exist, it is created. If the file does exist, the contents of the file are overwritten. It's like writing a message on a piece of paper.\n"
   ]
  },
  {
   "cell_type": "code",
   "execution_count": 17,
   "id": "7b732445-87fd-4f42-9aa2-40a9206f7f67",
   "metadata": {},
   "outputs": [],
   "source": [
    "with open(\"new1.txt\" , \"w\") as f :\n",
    "    f.write(\"This line is added to my new.txt file\")"
   ]
  },
  {
   "cell_type": "markdown",
   "id": "99009908-37b2-4224-9887-ed39938ccda2",
   "metadata": {},
   "source": [
    "\"\"\"\n",
    "the with statement is used to create a temporary context in which the file object is available. The open() function is used to open the file named new1.txt in write mode. The as keyword is used to assign the file object to the variable f. The write() method is then used to write the string to the file. The file is then automatically closed when the with block is exited.\n",
    "\"\"\" "
   ]
  },
  {
   "cell_type": "code",
   "execution_count": 18,
   "id": "dfb13b53-553a-42ae-9690-e58257e6b331",
   "metadata": {},
   "outputs": [],
   "source": [
    "with open('eg.txt', 'w') as f:\n",
    "    messages = [\"what's\" ,\"up ?\", 'How', 'are', 'you?']\n",
    "    f.writelines(messages)"
   ]
  },
  {
   "cell_type": "code",
   "execution_count": 19,
   "id": "0c710393-f5af-4649-8800-86c314e93853",
   "metadata": {},
   "outputs": [
    {
     "name": "stdout",
     "output_type": "stream",
     "text": [
      "what'sup ?Howareyou?\n"
     ]
    }
   ],
   "source": [
    "with open(\"eg.txt\" ,\"r\") as f :\n",
    "    print(f.read())"
   ]
  },
  {
   "cell_type": "code",
   "execution_count": 20,
   "id": "2b07f40a-a876-45b4-9c32-07abd3cc7ac5",
   "metadata": {},
   "outputs": [
    {
     "ename": "TypeError",
     "evalue": "write() argument must be str, not list",
     "output_type": "error",
     "traceback": [
      "\u001b[0;31m---------------------------------------------------------------------------\u001b[0m",
      "\u001b[0;31mTypeError\u001b[0m                                 Traceback (most recent call last)",
      "Cell \u001b[0;32mIn[20], line 3\u001b[0m\n\u001b[1;32m      1\u001b[0m \u001b[38;5;28;01mwith\u001b[39;00m \u001b[38;5;28mopen\u001b[39m(\u001b[38;5;124m'\u001b[39m\u001b[38;5;124meg.txt\u001b[39m\u001b[38;5;124m'\u001b[39m, \u001b[38;5;124m'\u001b[39m\u001b[38;5;124mw\u001b[39m\u001b[38;5;124m'\u001b[39m) \u001b[38;5;28;01mas\u001b[39;00m f:\n\u001b[1;32m      2\u001b[0m     messages \u001b[38;5;241m=\u001b[39m [\u001b[38;5;124m\"\u001b[39m\u001b[38;5;124mwhat\u001b[39m\u001b[38;5;124m'\u001b[39m\u001b[38;5;124ms\u001b[39m\u001b[38;5;124m\"\u001b[39m ,\u001b[38;5;124m\"\u001b[39m\u001b[38;5;124mup ?\u001b[39m\u001b[38;5;124m\"\u001b[39m, \u001b[38;5;124m'\u001b[39m\u001b[38;5;124mHow\u001b[39m\u001b[38;5;124m'\u001b[39m, \u001b[38;5;124m'\u001b[39m\u001b[38;5;124mare\u001b[39m\u001b[38;5;124m'\u001b[39m, \u001b[38;5;124m'\u001b[39m\u001b[38;5;124myou?\u001b[39m\u001b[38;5;124m'\u001b[39m]\n\u001b[0;32m----> 3\u001b[0m     \u001b[43mf\u001b[49m\u001b[38;5;241;43m.\u001b[39;49m\u001b[43mwrite\u001b[49m\u001b[43m(\u001b[49m\u001b[43mmessages\u001b[49m\u001b[43m)\u001b[49m\n",
      "\u001b[0;31mTypeError\u001b[0m: write() argument must be str, not list"
     ]
    }
   ],
   "source": [
    "with open('eg.txt', 'w') as f:\n",
    "    messages = [\"what's\" ,\"up ?\", 'How', 'are', 'you?']\n",
    "    f.write(messages)"
   ]
  },
  {
   "cell_type": "markdown",
   "id": "62d79ff9-9648-4863-864f-42c6bf45c540",
   "metadata": {},
   "source": [
    "* hence this is the advantage of writing/modifying the file using the writelines() method "
   ]
  },
  {
   "cell_type": "markdown",
   "id": "e4f9414f-ddd2-4fb0-9e81-dba89b7f05b0",
   "metadata": {},
   "source": [
    "* writelines() function is used to write a sequence of strings to a file. It takes a list of strings as an argument and writes each string to the file on a new line. It's like writing a list of messages on a piece of paper."
   ]
  },
  {
   "cell_type": "code",
   "execution_count": null,
   "id": "70a2bf44-2c12-4ef4-a30f-7f77fb534e93",
   "metadata": {},
   "outputs": [],
   "source": []
  }
 ],
 "metadata": {
  "kernelspec": {
   "display_name": "Python 3 (ipykernel)",
   "language": "python",
   "name": "python3"
  },
  "language_info": {
   "codemirror_mode": {
    "name": "ipython",
    "version": 3
   },
   "file_extension": ".py",
   "mimetype": "text/x-python",
   "name": "python",
   "nbconvert_exporter": "python",
   "pygments_lexer": "ipython3",
   "version": "3.10.8"
  }
 },
 "nbformat": 4,
 "nbformat_minor": 5
}
