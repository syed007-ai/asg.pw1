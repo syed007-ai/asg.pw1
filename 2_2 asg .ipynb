{
 "cells": [
  {
   "cell_type": "raw",
   "id": "e6481b17-c0f8-4399-9a90-570d77136af6",
   "metadata": {},
   "source": [
    "#1) Explain with an example each when to use a for loop and a while loop."
   ]
  },
  {
   "cell_type": "markdown",
   "id": "0385338e-e995-4c82-b073-1b1c15a2f0ce",
   "metadata": {},
   "source": [
    "#) for loop - for loop is used when we know the no.of iterations. It can be used when we know the exact no.f times \n",
    "we need to iterate. "
   ]
  },
  {
   "cell_type": "code",
   "execution_count": 3,
   "id": "fb375a20-2ecb-4f34-be71-68cdf6a9cd3e",
   "metadata": {},
   "outputs": [
    {
     "name": "stdout",
     "output_type": "stream",
     "text": [
      "mango\n",
      "musk melon\n",
      "water melon\n"
     ]
    }
   ],
   "source": [
    "#eg :\n",
    "summer = [\"mango\",\"musk melon\",\"water melon\"]\n",
    "for fruit in summer :\n",
    "    print(fruit)"
   ]
  },
  {
   "cell_type": "markdown",
   "id": "4d678af7-fb7c-4c57-90b6-609e74989f5e",
   "metadata": {},
   "source": [
    "#) while loop - while loop is used when we don't know the no.of iterations and the loop is carried on until the \n",
    "condition gets False "
   ]
  },
  {
   "cell_type": "code",
   "execution_count": 5,
   "id": "b9edd112-4066-4100-965f-8f43a1ff105f",
   "metadata": {},
   "outputs": [
    {
     "name": "stdin",
     "output_type": "stream",
     "text": [
      "Enter a positive number :  -8118\n",
      "Enter a positive number :  -32901\n",
      "Enter a positive number :  -3981\n",
      "Enter a positive number :  34\n"
     ]
    }
   ],
   "source": [
    "#eg :\n",
    "num = -1\n",
    "while num <= 0:\n",
    "    num = int(input(\"Enter a positive number : \"))\n",
    "    "
   ]
  },
  {
   "cell_type": "raw",
   "id": "49eb5e24-faab-45e3-bf89-49a081cec977",
   "metadata": {},
   "source": [
    "Q2. Write a python program to print the sum and product of the first 10 natural numbers using for\n",
    "and while loop."
   ]
  },
  {
   "cell_type": "code",
   "execution_count": 6,
   "id": "85ec6de2-9a2a-4eba-b6d0-8b63dedcabcc",
   "metadata": {},
   "outputs": [],
   "source": [
    "# using while loop :"
   ]
  },
  {
   "cell_type": "code",
   "execution_count": 7,
   "id": "bf79e4ee-9108-4020-b2c1-565cb46fa418",
   "metadata": {},
   "outputs": [
    {
     "name": "stdout",
     "output_type": "stream",
     "text": [
      "The sum of the first 10 natural numbers is 55\n"
     ]
    }
   ],
   "source": [
    "i = 1\n",
    "sum = 0      #1+2+3+4+5+6+7+8+9+10\n",
    "while i <= 10:\n",
    "    sum+=i\n",
    "    i+=1\n",
    "print(\"The sum of the first 10 natural numbers is\", sum)    \n",
    "    "
   ]
  },
  {
   "cell_type": "code",
   "execution_count": 8,
   "id": "3d7f3ff5-1808-47c1-bc6d-276d7611f4c3",
   "metadata": {},
   "outputs": [
    {
     "name": "stdout",
     "output_type": "stream",
     "text": [
      "The product of the first 10 natural numbers is 3628800\n"
     ]
    }
   ],
   "source": [
    "i = 1\n",
    "prod = 1   #1*2*3*4*5*6*7*8*9*10 = i \n",
    "while i <= 10:\n",
    "    prod*=i #prod= prod * i\n",
    "    i+=1\n",
    "print(\"The product of the first 10 natural numbers is\", prod) "
   ]
  },
  {
   "cell_type": "code",
   "execution_count": 9,
   "id": "35f448bd-60bd-458e-8d75-d462f7176b58",
   "metadata": {},
   "outputs": [],
   "source": [
    "# using for loop :"
   ]
  },
  {
   "cell_type": "code",
   "execution_count": 11,
   "id": "a2a60f6b-1f83-4546-b43e-30103d30cf76",
   "metadata": {},
   "outputs": [
    {
     "name": "stdout",
     "output_type": "stream",
     "text": [
      "The sum of first 10 natural numbers is 10\n"
     ]
    }
   ],
   "source": [
    "sum = 0\n",
    "for i in range(1,11) :\n",
    "    sum+=1\n",
    "print(\"The sum of first 10 natural numbers is\", sum)  "
   ]
  },
  {
   "cell_type": "code",
   "execution_count": 10,
   "id": "542c73b0-1a45-43fe-9ae1-c69ee5e0589d",
   "metadata": {},
   "outputs": [
    {
     "name": "stdout",
     "output_type": "stream",
     "text": [
      "The product of first 10 natural numbers is 3628800\n"
     ]
    }
   ],
   "source": [
    "prod = 1\n",
    "for i in range(1,11):\n",
    "    prod*=i\n",
    "print(\"The product of first 10 natural numbers is\", prod)   "
   ]
  },
  {
   "cell_type": "raw",
   "id": "cf776122-bf9c-4dde-aca5-7e1e9c29980d",
   "metadata": {},
   "source": [
    "#3) Create a python program to compute the electricity bill for a household.\n",
    "\n",
    "The per-unit charges in rupees are as follows: For the first 100 units, the user will be charged Rs. 4.5 per\n",
    "unit, for the next 100 units, the user will be charged Rs. 6 per unit, and for the next 100 units, the user will\n",
    "be charged Rs. 10 per unit, After 300 units and above the user will be charged Rs. 20 per unit.\n",
    "You are required to take the units of electricity consumed in a month from the user as input.\n",
    "Your program must pass this test case: when the unit of electricity consumed by the user in a month is\n",
    "310, the total electricity bill should be 2250."
   ]
  },
  {
   "cell_type": "code",
   "execution_count": 7,
   "id": "8250416c-17d5-4ac0-b6c3-aed34c20fcca",
   "metadata": {},
   "outputs": [
    {
     "name": "stdin",
     "output_type": "stream",
     "text": [
      "Enter the units of electricity consumed in the month :  310\n"
     ]
    },
    {
     "name": "stdout",
     "output_type": "stream",
     "text": [
      "The total electricity bill is: Rupees 2250.0\n"
     ]
    }
   ],
   "source": [
    "units = int(input(\"Enter the units of electricity consumed in the month : \"))\n",
    "if units <= 300 :\n",
    "    if units <= 100 :\n",
    "        bill = units*4.5 \n",
    "        print(\"The total electricity bill is: Rupees\", bill)\n",
    "    elif units <= 200 :\n",
    "        bill = 100*4.5+((units-100)* 6) #remaining 100 units *6\n",
    "        print(\"The total electricity bill is: Rupees\", bill)\n",
    "    elif units <=300 :\n",
    "        bill = 100*4.5+100*6+((units-200)*10) #first 100, second 100, remaining units *10\n",
    "        print(\"The total electricity bill is: Rupees\", bill)\n",
    "elif units >= 300 :\n",
    "    bill = 100*4.5+100*6+100*10+((units-300)*20) \n",
    "    print(\"The total electricity bill is: Rupees\", bill) #first 100,second 100, third 100, remaining 100 *20"
   ]
  },
  {
   "cell_type": "raw",
   "id": "204236a8-324e-47ba-bd01-78251c190bed",
   "metadata": {},
   "source": [
    "Q4. Create a list of numbers from 1 to 100. Use for loop and while loop to calculate the cube of each\n",
    "number and if the cube of that number is divisible by 4 or 5 then append that number in a list and print\n",
    "that list."
   ]
  },
  {
   "cell_type": "code",
   "execution_count": 18,
   "id": "9e87ca08-9d0c-43e8-b523-9c21041d49ce",
   "metadata": {},
   "outputs": [
    {
     "name": "stdout",
     "output_type": "stream",
     "text": [
      "[8, 64, 125, 216, 512, 1000, 1728, 2744, 3375, 4096, 5832, 8000, 10648, 13824, 15625, 17576, 21952, 27000, 32768, 39304, 42875, 46656, 54872, 64000, 74088, 85184, 91125, 97336, 110592, 125000, 140608, 157464, 166375, 175616, 195112, 216000, 238328, 262144, 274625, 287496, 314432, 343000, 373248, 405224, 421875, 438976, 474552, 512000, 551368, 592704, 614125, 636056, 681472, 729000, 778688, 830584, 857375, 884736, 941192, 1000000]\n"
     ]
    }
   ],
   "source": [
    "l = list(range(1,101)) # list of umbers from 1 to 100\n",
    "l1 =[]\n",
    "for i in l :\n",
    "    if i**3 % 4 == 0 or i**3 % 5 == 0 :\n",
    "        l1.append(i**3)\n",
    "print(l1)    "
   ]
  },
  {
   "cell_type": "raw",
   "id": "f53d3dea-b854-4b7d-b865-c34ee05ed3ae",
   "metadata": {},
   "source": [
    "#5) Write a program to filter count vowels in the below-given string.\n",
    "string = \"I want to become a data scientist\""
   ]
  },
  {
   "cell_type": "code",
   "execution_count": 12,
   "id": "00613bd3-80f8-4813-beeb-b6308e12d833",
   "metadata": {},
   "outputs": [
    {
     "name": "stdout",
     "output_type": "stream",
     "text": [
      "The no.of vowels in the given string are :  11\n"
     ]
    }
   ],
   "source": [
    "s = \"I want to become a data scientist\"\n",
    "vowels = [\"a\",\"e\",\"i\",\"o\",\"u\"]\n",
    "count = 0\n",
    "for a in s:\n",
    "    if a in vowels:\n",
    "        count+=1\n",
    "print(\"The no.of vowels in the given string are : \", count)        "
   ]
  }
 ],
 "metadata": {
  "kernelspec": {
   "display_name": "Python 3 (ipykernel)",
   "language": "python",
   "name": "python3"
  },
  "language_info": {
   "codemirror_mode": {
    "name": "ipython",
    "version": 3
   },
   "file_extension": ".py",
   "mimetype": "text/x-python",
   "name": "python",
   "nbconvert_exporter": "python",
   "pygments_lexer": "ipython3",
   "version": "3.10.8"
  }
 },
 "nbformat": 4,
 "nbformat_minor": 5
}
