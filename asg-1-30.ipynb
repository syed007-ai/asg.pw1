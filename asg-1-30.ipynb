{
 "cells": [
  {
   "cell_type": "code",
   "execution_count": 3,
   "id": "d5f5a7aa-2920-48d1-8e79-f09ad2489b8a",
   "metadata": {},
   "outputs": [
    {
     "name": "stdin",
     "output_type": "stream",
     "text": [
      "Enter your marks :  95\n"
     ]
    },
    {
     "name": "stdout",
     "output_type": "stream",
     "text": [
      "Your Grade is : A\n"
     ]
    }
   ],
   "source": [
    "#1.\n",
    "marks = int(input(\"Enter your marks : \"))\n",
    "if marks > 90 :\n",
    "    print(\"Your Grade is : A\")\n",
    "elif marks <= 90 and marks > 80 :\n",
    "    print(\"Your Grade is : B\")\n",
    "elif marks <=80 and marks >=60 :\n",
    "    print(\"Your Grade is : C\")\n",
    "elif marks <60 :\n",
    "    print(\"Your Grade is : D\")"
   ]
  },
  {
   "cell_type": "code",
   "execution_count": 6,
   "id": "f281b635-39ba-4737-ac29-1e31a9559da5",
   "metadata": {},
   "outputs": [
    {
     "name": "stdin",
     "output_type": "stream",
     "text": [
      "Enter the cost price (in rupees only) :  600000\n"
     ]
    },
    {
     "name": "stdout",
     "output_type": "stream",
     "text": [
      " The road tax to be paid is : 15% \n"
     ]
    }
   ],
   "source": [
    "#2) \n",
    "cost = int(input(\"Enter the cost price (in rupees only) : \"))\n",
    "if cost > 100000 :\n",
    "    print(\" The road tax to be paid is : 15% \")\n",
    "elif cost <=100000 and cost > 50000 :\n",
    "    print(\"The road tax to be paid is : 10% \")\n",
    "elif cost <= 50000 and cost > 10000 :\n",
    "    print(\"The tax to be paid is : 5%\")\n",
    "else :\n",
    "    print(\"Enter a valid cost\")"
   ]
  },
  {
   "cell_type": "code",
   "execution_count": 12,
   "id": "32f1659b-d0ce-446d-bb5e-cd289e47cf1b",
   "metadata": {},
   "outputs": [
    {
     "name": "stdin",
     "output_type": "stream",
     "text": [
      "Enter the city name :  delhi\n"
     ]
    },
    {
     "name": "stdout",
     "output_type": "stream",
     "text": [
      "The most famous monument of Delhi is : Red Fort \n"
     ]
    }
   ],
   "source": [
    "#3)\n",
    "cities  = [\"Delhi\", \" Agra\", \"Jaipur\" ]\n",
    "city = input(\"Enter the city name : \")\n",
    "if city.lower().title() in cities :\n",
    "    if city.lower().title() == \"Delhi\" :\n",
    "        print(\"The most famous monument of Delhi is : Red Fort \")\n",
    "    elif city.lower().title() == \"Agra\" :\n",
    "        print(\"The most famous monument of  Agra is : Taj Mahal \" )\n",
    "    elif city.lower().title() == \"Jaipur\":\n",
    "        print(\"The most famous monument of Jaipur is : Jal Mahal \") \n",
    "else :\n",
    "    print(\"Enter a valid city name \")\n"
   ]
  },
  {
   "cell_type": "code",
   "execution_count": 9,
   "id": "23e2bb3d-34ca-4e9b-9b4f-618e17996fc6",
   "metadata": {},
   "outputs": [
    {
     "name": "stdin",
     "output_type": "stream",
     "text": [
      "Enter a number :  90\n"
     ]
    },
    {
     "name": "stdout",
     "output_type": "stream",
     "text": [
      " The given number 90 can be divided by 3 2 times, before it is equal to or less than 10 \n"
     ]
    }
   ],
   "source": [
    "#4 ]\n",
    "n = int(input(\"Enter a number : \"))\n",
    "count = 0\n",
    "temp = n # to store n, as the value of n gets updated everytime and we get the last value of n, hence used temp here\n",
    "\n",
    "while n > 10 :\n",
    "    n = n/3  #as it is not given that the number should completely be divided by 3, hence we didn't use // \n",
    "    count+=1\n",
    "    \n",
    "print(f' The given number {temp} can be divided by 3 {count} times, before it is equal to or less than 10 ')    \n",
    "    "
   ]
  },
  {
   "cell_type": "code",
   "execution_count": 14,
   "id": "fcb165db-a810-4ae7-846c-958d19764e05",
   "metadata": {},
   "outputs": [
    {
     "name": "stdout",
     "output_type": "stream",
     "text": [
      "0\n",
      "1\n",
      "2\n",
      "3\n",
      "4\n",
      "5\n",
      "6\n",
      "7\n",
      "8\n",
      "9\n",
      "10\n"
     ]
    }
   ],
   "source": [
    "#5 ]\n",
    "x = 0\n",
    "while x <= 10 :\n",
    "    print(x)\n",
    "    x+=1"
   ]
  },
  {
   "cell_type": "raw",
   "id": "f52ccc12-3854-4664-aa01-2a4ef1a44df3",
   "metadata": {},
   "source": [
    "The above is a simple example where we used a while loop.\n",
    "A while loop is used where the no.of iterations are unknown. When we don't know the no.of iterations the loop may carry. Hence we use while loop in these cases.\n",
    "For using a while loop, the condition acts as a terminator.. which means as the condition is true, the loop gets carried on. Once the gets gets FAILED, the loop terminates. Initialisation of the loop is also the vital part in running the while loop, like from where to where. And the Updation part of the loop too. As the intialisation value gets updated on every iteration of the while loop, The condition is checked again. And as the condition gets True, the flow enters the loo"
   ]
  },
  {
   "cell_type": "code",
   "execution_count": 2,
   "id": "177eb697-f4a6-49cd-a4ee-036f67e1cf7b",
   "metadata": {},
   "outputs": [
    {
     "name": "stdout",
     "output_type": "stream",
     "text": [
      "*\n",
      "**\n",
      "***\n",
      "****\n",
      "*****\n",
      "2nd pattern-\n",
      "*****\n",
      "****\n",
      "***\n",
      "**\n",
      "*\n",
      "3rd pattern-\n",
      "1\n",
      "22\n",
      "333\n",
      "4444\n",
      "55555\n"
     ]
    }
   ],
   "source": [
    "#6 ] Using nested while loop to print three different patterns. \n",
    "'''\n",
    "*\n",
    "**\n",
    "***\n",
    "****\n",
    "***** '''\n",
    "'''\n",
    "*****\n",
    "****\n",
    "***\n",
    "**\n",
    "* '''\n",
    "'''\n",
    "1\n",
    "22\n",
    "333\n",
    "4444\n",
    "55555 '''\n",
    "i = 1\n",
    "while i <= 5: # no.of rows - \n",
    "    j=1  # '*' in each row.\n",
    "    while j <= i : #the current row number \n",
    "        print('*' , end='') #print a new line char after '*'\n",
    "        j+=1  # j = j+1 -- \n",
    "    print() #move to the next row.\n",
    "    i+=1 #i = i+1\n",
    "     \n",
    "print(\"2nd pattern-\")    \n",
    "i = 5 \n",
    "while i >= 1:\n",
    "    j=1 \n",
    "    while j<=i :\n",
    "        print('*', end='')\n",
    "        j+=1\n",
    "    print()\n",
    "    i-=1 \n",
    "print(\"3rd pattern-\")    \n",
    "i = 1\n",
    "while i<=5 :\n",
    "    j = 1\n",
    "    while j <= i :\n",
    "        print(i, end='')\n",
    "        j+=1\n",
    "    print()\n",
    "    i+=1"
   ]
  },
  {
   "cell_type": "raw",
   "id": "6a1ddbd2-1d26-41d1-b071-3dda3552c17c",
   "metadata": {},
   "source": [
    "Nested Loops :\n",
    "A nested loop is a loop inside another loop. \n",
    "The outer loop is behind the no.of iterations the loop carries. # controls no.of iterations.\n",
    "The inner loop is behind the operation inside the loop for every iteration. # controls what happens inside the iteration of outer loop .\n"
   ]
  },
  {
   "cell_type": "code",
   "execution_count": 21,
   "id": "70497aae-9a50-4d06-a688-3c5bea1ecbc9",
   "metadata": {},
   "outputs": [
    {
     "name": "stdout",
     "output_type": "stream",
     "text": [
      "10\n",
      "9\n",
      "8\n",
      "7\n",
      "6\n",
      "5\n",
      "4\n",
      "3\n",
      "2\n",
      "1\n"
     ]
    }
   ],
   "source": [
    "#7 ]\n",
    "n = 10\n",
    "while n > 0 :\n",
    "    print(n)\n",
    "    n-=1\n"
   ]
  },
  {
   "cell_type": "code",
   "execution_count": 3,
   "id": "59c5626c-9b22-4836-9e06-5a0c24f2451d",
   "metadata": {},
   "outputs": [
    {
     "name": "stdout",
     "output_type": "stream",
     "text": [
      "This is Syed Obaid from UBC\n",
      "\n",
      " Glad meeting you Mr.Kong \n"
     ]
    }
   ],
   "source": [
    "print(\"This is Syed Obaid from UBC\")\n",
    "print() #prints new line bas .\n",
    "print(\" Glad meeting you Mr.Kong \")"
   ]
  },
  {
   "cell_type": "code",
   "execution_count": null,
   "id": "098e1a94-7fce-4d43-90e6-0a2b6d230eff",
   "metadata": {},
   "outputs": [],
   "source": []
  }
 ],
 "metadata": {
  "kernelspec": {
   "display_name": "Python 3 (ipykernel)",
   "language": "python",
   "name": "python3"
  },
  "language_info": {
   "codemirror_mode": {
    "name": "ipython",
    "version": 3
   },
   "file_extension": ".py",
   "mimetype": "text/x-python",
   "name": "python",
   "nbconvert_exporter": "python",
   "pygments_lexer": "ipython3",
   "version": "3.10.8"
  }
 },
 "nbformat": 4,
 "nbformat_minor": 5
}
