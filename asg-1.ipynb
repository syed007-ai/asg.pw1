{
 "cells": [
  {
   "cell_type": "raw",
   "id": "3638fc2f-5e4d-4610-aa9d-27185b9838c1",
   "metadata": {},
   "source": [
    "#1. Who developed python programming language -\n",
    "\"Guido van Rossum \" "
   ]
  },
  {
   "cell_type": "raw",
   "id": "5c5e7636-75a0-49de-9b24-a82677c43b43",
   "metadata": {},
   "source": [
    "#2. Which type of programming does python support ?\n",
    "\" Python supports - object oriented (oops) , structured and functional programming .\"\n"
   ]
  },
  {
   "cell_type": "raw",
   "id": "b4f050d1-b1ad-44ef-922d-7ef43ee09ae7",
   "metadata": {},
   "source": [
    "#3. Is python case sensitive when dealing with identifiers ?\n",
    "\" Yes, Python is a case sensitive language, it treats uppercase and lowercase characters differently. This also applies to identifiers\""
   ]
  },
  {
   "cell_type": "raw",
   "id": "06db0b68-10dc-45b4-9d4c-c5dee1d903ef",
   "metadata": {},
   "source": [
    "#4. What is the correct extension of the python file ?\n",
    "\" .py \""
   ]
  },
  {
   "cell_type": "raw",
   "id": "4b31b994-ba1e-49de-a238-f88f84f204fd",
   "metadata": {},
   "source": [
    "#5. Name a few blocks of code, used to define in python language.\n",
    "\" Module , function body and a class definition \" "
   ]
  },
  {
   "cell_type": "raw",
   "id": "c51550eb-2591-4540-879d-2100746d9435",
   "metadata": {},
   "source": [
    "#6. Is python ode compiled or interpreted ?\n",
    "\" Interpreted \""
   ]
  },
  {
   "cell_type": "raw",
   "id": "deec0860-228d-4627-a6bc-7bca903d2ea9",
   "metadata": {},
   "source": [
    "#7. State a character used to give single line comments in python ?\n",
    "\" # \""
   ]
  },
  {
   "cell_type": "raw",
   "id": "d7f26505-a2e7-45c0-a84c-81d9418501fe",
   "metadata": {},
   "source": [
    "#8. Mention functions to find out which version of python we are working ?\n",
    "# python_version()\n"
   ]
  },
  {
   "cell_type": "raw",
   "id": "bbba305c-1430-4360-a03b-7b1d27088534",
   "metadata": {},
   "source": [
    "#9. Python supports the creation of anonymous functions at run time, using a construct called ___\n",
    "#lambda "
   ]
  },
  {
   "cell_type": "raw",
   "id": "03dfdd92-fb91-4a88-a336-8fe76ff4cd0a",
   "metadata": {},
   "source": [
    "#10. what does pip stands for in python -\n",
    "pip - install packages"
   ]
  },
  {
   "cell_type": "raw",
   "id": "f8354451-a34a-431b-8e54-19b7e0785bb0",
   "metadata": {},
   "source": [
    "#11. Mention a few built-in functions in python.\n",
    "print()\n",
    "type()\n",
    "__init__()\n",
    "id()\n",
    "len()"
   ]
  },
  {
   "cell_type": "raw",
   "id": "f184e3ce-d08c-47da-a390-066a9c4248e9",
   "metadata": {},
   "source": [
    "#12. What is the max pssible length of an identifier in python\n",
    "79 characters."
   ]
  },
  {
   "cell_type": "raw",
   "id": "eb7bc7c7-e4c4-432e-a5a5-5a30612b4900",
   "metadata": {},
   "source": [
    "#13. What are the benefits of using python ?\n",
    "> Flexibility, lot of applications, used in AI, a huge active community."
   ]
  },
  {
   "cell_type": "raw",
   "id": "43582151-1b6e-43ed-af9c-952c65dfb2ff",
   "metadata": {},
   "source": [
    "#14. How is memory managed in python?\n",
    "> Memory in Python is managed by Python private heap space.\n",
    "All Python objects and data structures are located in a private heap.\n",
    "This private heap is taken care of by Python Interpreter itself, and a programmer doesn't have access to this private heap."
   ]
  },
  {
   "cell_type": "raw",
   "id": "5a8bd06f-74d2-408a-853e-35ef3834f654",
   "metadata": {},
   "source": [
    "#15. How to install python on windows and set path variables?\n",
    "\n",
    "> Install python from this link https://www.python.org/downloads/\n",
    "After this, install it on your PC. Look for the location where PYTHON has been installed on your PC using tge following command on your command prompt: cmd python.\n",
    "Then go to advanced system settings and add new variable and name it as PYTHON_NAME and paste the copied path.\n",
    "Then look for the path variable, select it's value and select edit\n",
    "Add a semicolon towards the end of the value if it's not present and then type %PYTHON_HOME%"
   ]
  },
  {
   "cell_type": "raw",
   "id": "5349e073-0aa2-471f-a7da-5bf23b38423f",
   "metadata": {},
   "source": [
    "#16. Is indedtation required in python ?\n",
    "\n",
    "> Yes, indendtation plays the most vital role in python. As the blocks of code are differentiated on the basis if indentation , that's how it gets interpreted and compiled."
   ]
  }
 ],
 "metadata": {
  "kernelspec": {
   "display_name": "Python 3 (ipykernel)",
   "language": "python",
   "name": "python3"
  },
  "language_info": {
   "codemirror_mode": {
    "name": "ipython",
    "version": 3
   },
   "file_extension": ".py",
   "mimetype": "text/x-python",
   "name": "python",
   "nbconvert_exporter": "python",
   "pygments_lexer": "ipython3",
   "version": "3.10.8"
  }
 },
 "nbformat": 4,
 "nbformat_minor": 5
}
