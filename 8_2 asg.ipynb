{
 "cells": [
  {
   "cell_type": "raw",
   "id": "fd5e4d7b-2619-49a5-9e13-7595b071d57f",
   "metadata": {},
   "source": [
    "1. What is Abstraction in OOps? Explain with an example."
   ]
  },
  {
   "cell_type": "markdown",
   "id": "a0cf21d9-2562-4258-9b1f-3b97943cb9ad",
   "metadata": {},
   "source": [
    "1. Abstraction in OOPs is defined as a class which behaves as a skeleton to the whole code, which is basically an out-line of the code. \n",
    "2. abc library is imported -- which has the abstractmethod and this is binded with the methods of the class and in this way abstraction is achieved.\n",
    "3. abstract in simple word means existing only as an idea , without any physical form"
   ]
  },
  {
   "cell_type": "code",
   "execution_count": 5,
   "id": "129788d2-a8b4-4d7a-9846-539b33de633a",
   "metadata": {},
   "outputs": [],
   "source": [
    "import abc\n",
    "class abstract_example :\n",
    "    \n",
    "    @abc.abstractmethod\n",
    "    def student_details (ob) :\n",
    "        pass\n",
    "    \n",
    "    @abc.abstractmethod\n",
    "    def student_assignments (ob) :\n",
    "        pass\n",
    "    \n",
    "    @abc.abstractmethod\n",
    "    def student_marks (ob) :\n",
    "        pass "
   ]
  },
  {
   "cell_type": "code",
   "execution_count": 6,
   "id": "569f863b-9669-4b31-a799-f25b05f9e15b",
   "metadata": {},
   "outputs": [],
   "source": [
    "class web_dev(abstract_example):\n",
    "    \n",
    "    def student_details(ob) :\n",
    "        return \"this returns the student details \"\n",
    "    \n",
    "    def student_assignments(ob) :\n",
    "        return \"this provides the assignments to the students \"\n",
    "    \n",
    "    def student_marks(ob) :\n",
    "        return \"this returns the assignment scores of the students \""
   ]
  },
  {
   "cell_type": "code",
   "execution_count": 7,
   "id": "09e3df82-54fd-4233-afd8-a7e0613e12ae",
   "metadata": {},
   "outputs": [],
   "source": [
    "class data_science_masters(abstract_example) :\n",
    "    \n",
    "    def student_assignments(ob) :\n",
    "        return \"this returns the student details in dsm \"\n",
    "    \n",
    "    def student_marks(ob) :\n",
    "        return \"this returns the assignment marks of dsm \"\n"
   ]
  },
  {
   "cell_type": "code",
   "execution_count": 8,
   "id": "1d53dcd4-b148-490c-9932-7fedec8faed1",
   "metadata": {},
   "outputs": [
    {
     "data": {
      "text/plain": [
       "'this returns the student details in dsm '"
      ]
     },
     "execution_count": 8,
     "metadata": {},
     "output_type": "execute_result"
    }
   ],
   "source": [
    "dsm = data_science_masters()\n",
    "dsm.student_assignments()"
   ]
  },
  {
   "cell_type": "code",
   "execution_count": 9,
   "id": "39d3124b-aef0-404a-a8fe-075d6c4ef7da",
   "metadata": {},
   "outputs": [
    {
     "data": {
      "text/plain": [
       "'this returns the assignment scores of the students '"
      ]
     },
     "execution_count": 9,
     "metadata": {},
     "output_type": "execute_result"
    }
   ],
   "source": [
    "web_dev = web_dev()\n",
    "web_dev.student_marks()"
   ]
  },
  {
   "cell_type": "code",
   "execution_count": 4,
   "id": "d30c128d-5e30-4d92-a9ab-e6628e08e65f",
   "metadata": {},
   "outputs": [
    {
     "name": "stdout",
     "output_type": "stream",
     "text": [
      "bow bow\n",
      "meow meow\n"
     ]
    }
   ],
   "source": [
    "class animal :\n",
    "    \n",
    "    def __init__ (ob , name , breed) :\n",
    "        ob.name = name \n",
    "        ob.breed =  breed \n",
    "        \n",
    "    def make_sound (ob):\n",
    "        pass                    #animal class is now abstract \n",
    "\n",
    "class dog(animal) : #inherited animal class here\n",
    "    \n",
    "    def make_sound (ob) :\n",
    "        return \"bow bow\"\n",
    "    \n",
    "class cat(animal) :\n",
    "    \n",
    "    def make_sound (ob) :\n",
    "        return \"meow meow\"\n",
    "    \n",
    "my_dog = dog(\"tiger\",\"German Shepherd\")  \n",
    "my_cat = cat(\"minnu\" , \"persian\")\n",
    "\n",
    "print(my_dog.make_sound())\n",
    "print(my_cat.make_sound())"
   ]
  },
  {
   "cell_type": "markdown",
   "id": "1312fbaa-bfa8-4581-9d22-93085488a9e3",
   "metadata": {},
   "source": [
    "1. in the above example , animal class is the abstract class, where the make_sound method is only declared but not defined, \n",
    "2. the dog class and the cat class inherit the animal class and use its properties / method of make_sound according to their respective data.. \n",
    "3. hence the goal of abstraction concept of OOPs is achieved here. \n",
    "4. which is to, make a skeleton of the code and then implement it in the various other classes according to the data.\n",
    "5. the __init__ is a special function, which gets into the picture while we have the need to take data."
   ]
  },
  {
   "cell_type": "markdown",
   "id": "aee32aa4-eab9-44a2-9176-098b10df298b",
   "metadata": {},
   "source": [
    "* Abstraction is like using a remote control to operate a TV. You don't need to know the inner workings of the TV to use it. The remote control provides a simpler interface, with just a few buttons to press to do what you want. In the same way, abstraction in programming hides complex details and provides a simpler interface for the user to interact with"
   ]
  },
  {
   "cell_type": "raw",
   "id": "912e6d9c-32e0-4495-a9ae-379c953a0330",
   "metadata": {},
   "source": [
    "2) . Differentiate between Abstraction and Encapsulation. Explain with an example."
   ]
  },
  {
   "cell_type": "raw",
   "id": "423c6585-7312-4545-985e-3b140c20a4fb",
   "metadata": {},
   "source": [
    "To explain the difference between abstraction and encapsulation, let's use a car as an example.\n",
    "\n",
    "Abstraction: When you drive a car, you don't need to know how the engine works or how the transmission shifts gears. You only need to know how to operate the gas pedal, brake pedal, and steering wheel. This is an example of abstraction, where the complex details of the car's internal mechanisms are hidden from the driver, and only the essential features are presented.\n",
    "\n",
    "Encapsulation: When you buy a car, you don't have access to the internal workings of the car's engine or transmission. Instead, you can only interact with the car through a defined interface, such as the steering wheel, gas pedal, and brake pedal. This is an example of encapsulation, where the car's internal details are hidden from the outside world and can only be accessed through a defined interface (in this case, the driver's controls)."
   ]
  },
  {
   "cell_type": "raw",
   "id": "55c267b3-70a4-46de-9b06-1fdb17d5866c",
   "metadata": {},
   "source": [
    "abstraction and encapsulation are the important concepts of programming. They are a part of the four OOPs methods,\n",
    "tho they are not same.\n",
    ">. abstraction in simple words means a skeleton, or the outline of the code. \"abstract\" - the word itself defines that this is a class without its physical form but exists as an idea.\n",
    ">. encapsulation in other words mean, hiding the methods/ properties from the user so that they may not change the properties by overwriting them , yet accessing the required properties with the given methods is possible either to take the i/p and to give the o/p."
   ]
  },
  {
   "cell_type": "markdown",
   "id": "73fa4225-8b2c-4dff-ab15-a13ade136e04",
   "metadata": {},
   "source": [
    ">. Abstraction is the process of hiding complex implementation details and presenting only the essential features of an object or system to the user. It provides a simplified view of an object or system and makes it easier to use. (eg : a tv remote, where you don't need to know the inner workings of the TV to use it. The remote control provides a simpler interface, with just a few buttons to press to do what you want. In the same way, abstraction in programming hides complex details and provides a simpler interface for the user to interact with.)\n",
    "\n",
    ">. Encapsulation is the process of hiding the internal details of an object or system from the outside world. It ensures that the object's data is only accessible through a defined interface (methods), and not directly"
   ]
  },
  {
   "cell_type": "code",
   "execution_count": 5,
   "id": "89ee1ba9-ac19-4405-83d0-cd1b138dda0b",
   "metadata": {},
   "outputs": [
    {
     "name": "stdout",
     "output_type": "stream",
     "text": [
      "bow bow\n",
      "meow meow\n"
     ]
    }
   ],
   "source": [
    "#eg for abstraction :\n",
    "class animal :\n",
    "    \n",
    "    def __init__ (ob , name , breed) :\n",
    "        ob.name = name \n",
    "        ob.breed =  breed \n",
    "        \n",
    "    def make_sound (ob):\n",
    "        pass                    #animal class is now abstract \n",
    "\n",
    "class dog(animal) : #inherited animal class here\n",
    "    \n",
    "    def make_sound (ob) :\n",
    "        return \"bow bow\"\n",
    "    \n",
    "class cat(animal) :\n",
    "    \n",
    "    def make_sound (ob) :\n",
    "        return \"meow meow\"\n",
    "    \n",
    "my_dog = dog(\"tiger\",\"German Shepherd\")  \n",
    "my_cat = cat(\"minnu\" , \"persian\")\n",
    "\n",
    "print(my_dog.make_sound())\n",
    "print(my_cat.make_sound())"
   ]
  },
  {
   "cell_type": "code",
   "execution_count": 6,
   "id": "f58884c0-d870-4314-8c8a-b78145417f9b",
   "metadata": {},
   "outputs": [
    {
     "name": "stdout",
     "output_type": "stream",
     "text": [
      "Honda\n",
      "toyota\n",
      "2020\n"
     ]
    }
   ],
   "source": [
    "#eg for encapsulation \n",
    "class Car:\n",
    "    def __init__(self, make, model, year):\n",
    "        self.__make = make\n",
    "        self.__model = model\n",
    "        self.__year = year\n",
    "\n",
    "    def get_make(self):\n",
    "        return self.__make\n",
    "\n",
    "    def get_model(self):\n",
    "        return self.__model\n",
    "\n",
    "    def get_year(self):\n",
    "        return self.__year\n",
    "\n",
    "my_car = Car(\"Honda\", \"toyota\", 2020)\n",
    "\n",
    "print(my_car.get_make())  \n",
    "print(my_car.get_model())  \n",
    "print(my_car.get_year())   \n"
   ]
  },
  {
   "cell_type": "code",
   "execution_count": 8,
   "id": "d1e0d4a1-8bc6-467c-980c-d77b92490e54",
   "metadata": {},
   "outputs": [
    {
     "name": "stdout",
     "output_type": "stream",
     "text": [
      "1000\n",
      "1500\n"
     ]
    },
    {
     "data": {
      "text/plain": [
       "False"
      ]
     },
     "execution_count": 8,
     "metadata": {},
     "output_type": "execute_result"
    }
   ],
   "source": [
    "#eg for encapsulation : \n",
    "\n",
    "class BankAccount:\n",
    "    def __init__(self, account_number, balance):\n",
    "        self.__account_number = account_number\n",
    "        self.__balance = balance\n",
    "\n",
    "    def get_balance(self):\n",
    "        return self.__balance\n",
    "\n",
    "    def deposit(self, amount):\n",
    "        self.__balance += amount\n",
    "\n",
    "    def withdraw(self, amount):\n",
    "        if amount <= self.__balance:\n",
    "            self.__balance -= amount\n",
    "            return True\n",
    "        else:\n",
    "            return False \n",
    "\n",
    "my_account = BankAccount(\"123456\", 1000)\n",
    "\n",
    "print(my_account.get_balance()) \n",
    "my_account.deposit(500)\n",
    "print(my_account.get_balance())  \n",
    "my_account.withdraw(2000)  \n"
   ]
  },
  {
   "cell_type": "code",
   "execution_count": 9,
   "id": "f90085ff-7c95-4767-88ad-ef45e4c8d8fb",
   "metadata": {},
   "outputs": [
    {
     "name": "stdout",
     "output_type": "stream",
     "text": [
      "25\n",
      "28.259999999999998\n"
     ]
    }
   ],
   "source": [
    "#eg for abstraction :\n",
    "class Shape:\n",
    "    def area(self):          #abstract class\n",
    "        pass    \n",
    "\n",
    "class Square(Shape):\n",
    "    def __init__(self, side):\n",
    "        self.side = side\n",
    "\n",
    "    def area(self):\n",
    "        return self.side * self.side\n",
    "\n",
    "class Circle(Shape):\n",
    "    def __init__(self, radius):\n",
    "        self.radius = radius\n",
    "\n",
    "    def area(self):\n",
    "        return 3.14 * self.radius * self.radius\n",
    "\n",
    "my_square = Square(5)\n",
    "my_circle = Circle(3)\n",
    "\n",
    "print(my_square.area()) \n",
    "print(my_circle.area())  \n"
   ]
  },
  {
   "cell_type": "raw",
   "id": "200c1482-a759-4b86-a2c4-430627741fe7",
   "metadata": {},
   "source": [
    "3) What is abc module in python? Why is it used?"
   ]
  },
  {
   "cell_type": "raw",
   "id": "bae9a3ac-4fd0-4295-b55a-75381fb57e23",
   "metadata": {},
   "source": [
    " abc module in python is used to achieve abstraction in programming.\n",
    " @abc.abstractmethod is used to bind the methods to the class and make it an abstract class."
   ]
  },
  {
   "cell_type": "raw",
   "id": "a80d8713-8abe-46a3-b16a-9b6646c18602",
   "metadata": {},
   "source": [
    "4) How can we achieve data abstraction?"
   ]
  },
  {
   "cell_type": "raw",
   "id": "6e022870-f203-4b93-8af1-9865bd580bc7",
   "metadata": {},
   "source": [
    "we can achieve data abstraction by using the abc module's abstract method, we use it to bind the methods/properties of the class as an abstract class using\n",
    "@abc.abstractmethod -- this binds the methods/properties to the class and makes it an abstract class.\n",
    "the abstract class is now inherited by the other classes, and the properties and methods of the abstract class are moulded as the required data.\n",
    "in this way data abstraction is achieved,which in layman way means the outline of the code or the skeleton of the code."
   ]
  },
  {
   "cell_type": "raw",
   "id": "4bde1dd3-525c-4bc3-b2db-2f6fa0bafb54",
   "metadata": {},
   "source": [
    "5) Can we create an instance of an abstract class? Explain your answer."
   ]
  },
  {
   "cell_type": "raw",
   "id": "7e4a4522-6025-4d5f-8a37-43f71c7a600b",
   "metadata": {},
   "source": [
    "No, we cannot create an instance of an abstract class in Python.\n",
    "\n",
    "An abstract class is a special type of class that is not meant to be instantiated directly.\n",
    "Instead, it is designed to be subclassed, where the subclass can provide concrete implementations for the abstract methods declared in the abstract class.\n",
    "\n",
    "concrete implementations mean, the whole working code of the problem statement.\n",
    "\n",
    "> An abstract class is a class that cannot be instantiated on its own, but rather serves as a blueprint for other classes to inherit from and implement their own specific behavior.\n",
    "\n",
    "Think of it like a cookie cutter.\n",
    "An abstract class is like a cookie cutter that defines the shape and general characteristics of a cookie, but it cannot be used on its own to make an actual cookie. Instead, you need to use the cookie cutter to create a specific cookie by adding the dough and baking it in the oven.\n",
    "\n",
    "Similarly, in Python, an abstract class provides a template or a set of guidelines for other classes to inherit from, but it cannot be used on its own to create objects. Instead, you need to create a concrete subclass that implements the abstract methods and properties defined in the abstract class.\n",
    "\n",
    "So, if you try to create an instance of an abstract class in Python, you will get a TypeError because Python knows that abstract classes cannot be instantiated directly.\n",
    "\n",
    "> as in the above eg\n",
    "we define an abstract class called Animal with one abstract method called make_sound(). We then define a concrete subclass called Dog that inherits from the Animal abstract class and implements the make_sound() method by printing \"Woof!\".\n",
    "\n",
    "Finally, we create an \"instance\" of the Dog class called my_dog and call its make_sound() method, which prints \"Woof!\" to the console. Notice that we are able to create an instance of the concrete subclass Dog, but not of the abstract class Animal."
   ]
  },
  {
   "cell_type": "code",
   "execution_count": null,
   "id": "68185760-0c2d-4f8b-8790-bb985bb43ecf",
   "metadata": {},
   "outputs": [],
   "source": [
    "from abc import ABC, abstractmethod\n",
    "\n",
    "class Animal(ABC):  # abstract class definition\n",
    "    @abstractmethod\n",
    "    def make_sound(self):\n",
    "        pass\n",
    "\n",
    "class Dog(Animal):  # concrete subclass definition\n",
    "    def make_sound(self):\n",
    "        print(\"Woof!\")\n",
    "\n",
    "my_dog = Dog()\n",
    "my_dog.make_sound()  # prints \"Woof!\""
   ]
  }
 ],
 "metadata": {
  "kernelspec": {
   "display_name": "Python 3 (ipykernel)",
   "language": "python",
   "name": "python3"
  },
  "language_info": {
   "codemirror_mode": {
    "name": "ipython",
    "version": 3
   },
   "file_extension": ".py",
   "mimetype": "text/x-python",
   "name": "python",
   "nbconvert_exporter": "python",
   "pygments_lexer": "ipython3",
   "version": "3.10.8"
  }
 },
 "nbformat": 4,
 "nbformat_minor": 5
}
