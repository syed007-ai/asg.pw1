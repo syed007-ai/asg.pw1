{
 "cells": [
  {
   "cell_type": "raw",
   "id": "f0069b85-8ff0-488b-ad2b-2b095e115818",
   "metadata": {},
   "source": [
    "Q1. You are writing code for a company. The requirement of the company is that you create a python\n",
    "function that will check whether the password entered by the user is correct or not. The function should\n",
    "take the password as input and return the string “Valid Password” if the entered password follows the\n",
    "below-given password guidelines else it should return “Invalid Password”.\n",
    "Note: 1. The Password should contain at least two uppercase letters and at least two lowercase letters.\n",
    "2. The Password should contain at least a number and three special characters.\n",
    "3. The length of the password should be 10 characters long."
   ]
  },
  {
   "cell_type": "code",
   "execution_count": 1,
   "id": "ddbbe2dd-825a-41e3-a220-03029815be53",
   "metadata": {},
   "outputs": [
    {
     "name": "stdin",
     "output_type": "stream",
     "text": [
      "Enter your password :  SyedMustafa123#$%D\n"
     ]
    },
    {
     "data": {
      "text/plain": [
       "'valid password'"
      ]
     },
     "execution_count": 1,
     "metadata": {},
     "output_type": "execute_result"
    }
   ],
   "source": [
    "def verification_password ():\n",
    "    s = input(\"Enter your password : \")\n",
    "    if len(s) < 10 :\n",
    "        return \"invalid password -- very short! \"\n",
    "    lower_chars = 0\n",
    "    upper_chars = 0\n",
    "    for i in s :\n",
    "        if  i.islower():\n",
    "            lower_chars += 1\n",
    "        elif i.isupper():\n",
    "            upper_chars +=1\n",
    "    if lower_chars < 2 and upper_chars < 2 :\n",
    "        return \"invalid password\"\n",
    "    digit_count = 0\n",
    "    special_chars = 0\n",
    "    for i in s :\n",
    "        if i.isdigit() :\n",
    "            digit_count  += 1\n",
    "        elif not i.isalpha() :\n",
    "            special_chars += 1\n",
    "    if digit_count < 1 and special_chars < 3 :\n",
    "        return \"invalid password\"\n",
    "    \n",
    "    return \"valid password\"\n",
    "              \n",
    "        \n",
    "verification_password()        "
   ]
  },
  {
   "cell_type": "raw",
   "id": "1272960a-3cde-4bc0-85ff-626bb537097f",
   "metadata": {},
   "source": [
    "#2. Solve the below-given questions using at least one of the following:\n",
    "i. Lambda function\n",
    "ii. Filter function\n",
    "iii. Map function\n",
    "iv. List Comprehension\n",
    "\n",
    "> Check if the string starts with a particular letter \n",
    "> Check if the string is numeric \n",
    "> Sort a list of tuples having fruit names and their quantity. [(\"mango\",99),(\"orange\",80), (\"grapes\", 1000)]\n",
    "> Find the squares of numbers from 1 to 10\n",
    "> Find the cube root of numbers from 1 to 10\n",
    "> Check if a given number is evenY\n",
    "> Filter odd numbers from the given list.\n",
    "  [1,2,3,4,5,6,7,8,9,10]\n",
    "> Sort a list of integers into positive and negative integers lists.\n",
    "  [1,2,3,4,5,6,-1,-2,-3,-4,-5,0]"
   ]
  },
  {
   "cell_type": "code",
   "execution_count": 47,
   "id": "f289776f-0f3e-4b21-a801-50b0e122e8dd",
   "metadata": {},
   "outputs": [
    {
     "name": "stdout",
     "output_type": "stream",
     "text": [
      "False\n",
      "False\n",
      "[('grapes', 1000), ('mango', 99), ('orange', 80)]\n",
      "[('orange', 80), ('mango', 99), ('grapes', 1000)]\n",
      "[1, 4, 9, 16, 25, 36, 49, 64, 81, 100]\n",
      "[0.3333333333333333, 0.6666666666666666, 1.0, 1.3333333333333333, 1.6666666666666667, 2.0, 2.3333333333333335, 2.6666666666666665, 3.0, 3.3333333333333335]\n",
      "[1, 3, 5, 7, 9]\n",
      "[1, 2, 3, 4, 5, 6, 0]\n",
      "[-1, -2, -3, -4, -5]\n"
     ]
    }
   ],
   "source": [
    "starts_with_letter = lambda l, string: string.startswith(l)\n",
    "print(starts_with_letter(\"H\", \"mustafa\"))\n",
    "\n",
    "string_numeric = lambda string : string.isnumeric()\n",
    "print(string_numeric(\"abcd\"))\n",
    "\n",
    "fruits =  [(\"mango\",99),(\"orange\",80), (\"grapes\", 1000)]\n",
    "fruits_sorted = sorted(fruits) #sorts the list alphabetically\n",
    "fruits_sorted1 = sorted(fruits , key = lambda fruits : fruits[1] )\n",
    "print(fruits_sorted)\n",
    "print(fruits_sorted1)\n",
    "\n",
    "l = list(range(1,11))\n",
    "sq_numbers = [i**2 for i in l ]\n",
    "print(sq_numbers)\n",
    "\n",
    "\n",
    "l1 = [1,2,3,4,5,6,7,8,9,10]\n",
    "cube_roots = list(map(lambda x : x**1/3 , l1))\n",
    "print(cube_roots)\n",
    "\n",
    "even_no = lambda x: x % 2 ==0\n",
    "even_no(2)\n",
    "\n",
    "l2 = [1,2,3,4,5,6,7,8,9,10]\n",
    "print(list(filter(lambda x : x % 2 != 0, l2))) #filters the list\n",
    "\n",
    "l3 = [1,2,3,4,5,6,-1,-2,-3,-4,-5,0]\n",
    "positive_numbers  =  [i for i in l3 if i >= 0]\n",
    "negative_numbers = [i for i in l3 if i < 0]\n",
    "print(positive_numbers)\n",
    "print(negative_numbers)"
   ]
  },
  {
   "cell_type": "code",
   "execution_count": null,
   "id": "df62e23c-5b7b-46c7-94ee-dee3f129e338",
   "metadata": {},
   "outputs": [],
   "source": []
  }
 ],
 "metadata": {
  "kernelspec": {
   "display_name": "Python 3 (ipykernel)",
   "language": "python",
   "name": "python3"
  },
  "language_info": {
   "codemirror_mode": {
    "name": "ipython",
    "version": 3
   },
   "file_extension": ".py",
   "mimetype": "text/x-python",
   "name": "python",
   "nbconvert_exporter": "python",
   "pygments_lexer": "ipython3",
   "version": "3.10.8"
  }
 },
 "nbformat": 4,
 "nbformat_minor": 5
}
