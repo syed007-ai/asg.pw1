{
 "cells": [
  {
   "cell_type": "markdown",
   "id": "b89928f0-b3fb-4958-8c95-ab48d567305b",
   "metadata": {},
   "source": [
    "1. What is MongoDB? Explain non-relational databases in short. In which scenarios it is preferred to use MongoDB over SQL databases?"
   ]
  },
  {
   "cell_type": "markdown",
   "id": "03e725f1-d213-4c98-9a8a-6edcf6f73fe9",
   "metadata": {},
   "source": [
    "* MongoDB is a popular NoSQL (non-relational) database management system that stores data in flexible, JSON-like documents, rather than in tables with rows and columns like SQL databases.\n",
    "\n",
    "* Non-relational databases, also known as NoSQL databases, do not rely on a fixed schema, unlike relational databases. They are designed to handle unstructured or semi-structured data, such as text, documents, images, or videos. Non-relational databases are often used for big data applications, real-time web applications, and IoT (Internet of Things) data management.\n",
    "\n",
    "* MongoDB is preferred over SQL databases in scenarios where data is unstructured or semi-structured, or when the data model is not clearly defined. MongoDB is also useful when data needs to be horizontally scaled across multiple servers or when there is a need for high availability and fast data access.\n",
    "\n",
    "* In simple words, MongoDB is a NoSQL database that stores data in flexible JSON-like documents, and it is preferred over SQL databases in scenarios where data is unstructured or semi-structured."
   ]
  },
  {
   "cell_type": "markdown",
   "id": "6e7418a2-4e91-4496-9fd0-62dd0b0ebbd0",
   "metadata": {},
   "source": [
    "2. State and Explain the features of MongoDB."
   ]
  },
  {
   "cell_type": "markdown",
   "id": "fb33a18a-19ea-4051-ac7f-22af9fb692f4",
   "metadata": {},
   "source": [
    "* Dynamic Schema: MongoDB uses a dynamic schema, which means that the structure of the data can be changed easily, even without changing the entire database schema. This allows for more flexible and agile development.\n",
    "\n",
    "* Document-based Storage: MongoDB stores data in a document-based format, which makes it easier to work with unstructured or semi-structured data. Each document is stored in a BSON format (Binary JSON), which includes rich data types and supports indexing and querying.\n",
    "\n",
    "* Scalability: MongoDB is highly scalable and can easily scale horizontally by adding more servers or nodes to a cluster. It also supports sharding, which means that data can be distributed across multiple servers for improved performance and scalability.\n",
    "\n",
    "* High Availability: MongoDB supports automatic replication, which ensures that data is always available, even if a node fails. It also supports failover, which means that if a node fails, another node will take over automatically.\n",
    "\n",
    "* Flexible Querying: MongoDB offers a rich query language with support for complex queries, indexing, and aggregation. It also supports geospatial queries, text search, and MapReduce.\n",
    "\n",
    "*  Integration with Other Tools: MongoDB integrates easily with other tools and platforms, such as Hadoop, Spark, and Kafka, making it a popular choice for big data applications.\n",
    "\n",
    "* Overall, MongoDB's features include a dynamic schema, document-based storage, scalability, high availability, flexible querying, and integration with other tools. These features make it an attractive option for developers who are working with unstructured or semi-structured data and need a highly scalable and flexible database solution."
   ]
  },
  {
   "cell_type": "markdown",
   "id": "89cbb866-2041-44af-b0f0-ae75e3a0d717",
   "metadata": {},
   "source": [
    "3. Write a code to connect MongoDB to Python. Also, create a database and a collection in MongoDB."
   ]
  },
  {
   "cell_type": "code",
   "execution_count": null,
   "id": "7d09ac90-a247-4c83-9c26-5746817dcb17",
   "metadata": {},
   "outputs": [],
   "source": [
    "import pymongo\n",
    "\n",
    "# connect to the local MongoDB instance\n",
    "client = pymongo.MongoClient(\"mongodb://localhost:27017/\")\n",
    "\n",
    "# create a new database\n",
    "db = client[\"mydatabase\"]\n",
    "\n",
    "# create a new collection within the database\n",
    "col = db[\"mycollection\"]\n"
   ]
  },
  {
   "cell_type": "markdown",
   "id": "559411a5-2e27-4df6-8553-30ee0c2f646f",
   "metadata": {},
   "source": [
    "this code assumes that MongoDB is running on the same machine as the Python code and listening on the default port of 27017. If MongoDB is running on a different machine or a different port, you will need to adjust the connection URL accordingly."
   ]
  },
  {
   "cell_type": "markdown",
   "id": "b0f45415-64a6-4651-a89b-04687fd95eed",
   "metadata": {},
   "source": [
    "4. Using the database and the collection created in question number 3, write a code to insert one record, and insert many records. Use the find() and find_one() methods to print the inserted record."
   ]
  },
  {
   "cell_type": "code",
   "execution_count": null,
   "id": "8bf54a42-1421-45e2-9220-347e70f49c4f",
   "metadata": {},
   "outputs": [],
   "source": [
    "import pymongo\n",
    "\n",
    "# establish connection with MongoDB server\n",
    "client = pymongo.MongoClient(\"mongodb://localhost:27017/\")\n",
    "\n",
    "# create a database\n",
    "mydb = client[\"mydatabase\"]\n",
    "\n",
    "# create a collection\n",
    "mycol = mydb[\"customers\"]\n",
    "\n",
    "# insert one record\n",
    "record_one = {\"name\": \"John\", \"address\": \"Highway 37\"}\n",
    "inserted_one = mycol.insert_one(record_one)\n",
    "\n",
    "# print the inserted record\n",
    "print(\"Inserted record ID:\", inserted_one.inserted_id)\n",
    "print(\"Inserted record:\", mycol.find_one({\"_id\": inserted_one.inserted_id}))\n",
    "\n",
    "# insert many records\n",
    "record_many = [\n",
    "  {\"name\": \"Amy\", \"address\": \"Apple st 652\"},\n",
    "  {\"name\": \"Hannah\", \"address\": \"Mountain 21\"},\n",
    "  {\"name\": \"Michael\", \"address\": \"Valley 345\"},\n",
    "  {\"name\": \"Sandy\", \"address\": \"Ocean blvd 2\"},\n",
    "  {\"name\": \"Betty\", \"address\": \"Green Grass 1\"},\n",
    "  {\"name\": \"Richard\", \"address\": \"Sky st 331\"},\n",
    "  {\"name\": \"Susan\", \"address\": \"One way 98\"},\n",
    "  {\"name\": \"Vicky\", \"address\": \"Yellow Garden 2\"},\n",
    "  {\"name\": \"Ben\", \"address\": \"Park Lane 38\"},\n",
    "  {\"name\": \"William\", \"address\": \"Central st 954\"},\n",
    "  {\"name\": \"Chuck\", \"address\": \"Main Road 989\"},\n",
    "  {\"name\": \"Viola\", \"address\": \"Sideway 1633\"}\n",
    "]\n",
    "inserted_many = mycol.insert_many(record_many)\n",
    "\n",
    "# print the inserted records\n",
    "print(\"Inserted record IDs:\", inserted_many.inserted_ids)\n",
    "print(\"Inserted records:\")\n",
    "for record in mycol.find():\n",
    "    print(record)\n"
   ]
  },
  {
   "cell_type": "markdown",
   "id": "52ae480e-1d03-455d-8e6c-7339c43b1db6",
   "metadata": {},
   "source": [
    "5. Explain how you can use the find() method to query the MongoDB database. Write a simple code to demonstrate this."
   ]
  },
  {
   "cell_type": "code",
   "execution_count": null,
   "id": "265a6b50-db76-48d4-b6c6-6e31b296a76b",
   "metadata": {},
   "outputs": [],
   "source": [
    "import pymongo\n",
    "\n",
    "# Connect to the MongoDB server\n",
    "client = pymongo.MongoClient(\"mongodb://localhost:27017/\")\n",
    "\n",
    "# Connect to the database\n",
    "db = client[\"mydatabase\"]\n",
    "\n",
    "# Connect to the collection\n",
    "collection = db[\"customers\"]\n",
    "\n",
    "# Retrieve all the documents in the collection\n",
    "results = collection.find({})\n",
    "\n",
    "# Print the results\n",
    "for result in results:\n",
    "    print(result)\n"
   ]
  },
  {
   "cell_type": "markdown",
   "id": "823c540b-be89-4691-8b61-50fc2523e406",
   "metadata": {},
   "source": [
    "> The find() method is used to query data from a collection in MongoDB. It is used to retrieve data that matches the specified criteria. The find() method takes a query object as its parameter and returns a cursor object that can be used to iterate over the results.\n",
    "\n",
    "* The query object passed to the find() method is a dictionary containing the criteria to be matched. For example, if we want to retrieve all the documents from a collection, we can pass an empty query object {} to the find() method."
   ]
  },
  {
   "cell_type": "markdown",
   "id": "0d283433-0d91-4349-a525-ff9a8582a97a",
   "metadata": {},
   "source": [
    "* we first connect to the MongoDB server using the MongoClient() method. Then, we connect to the database and collection using the appropriate methods. Finally, we pass an empty query object to the find() method to retrieve all the documents in the collection.\n",
    "\n",
    "* The results are then printed using a for loop that iterates over the cursor object returned by the find() method."
   ]
  },
  {
   "cell_type": "markdown",
   "id": "c3941f97-d7bb-4574-8f53-a0cbb3d68c84",
   "metadata": {},
   "source": [
    "6. Explain the sort() method. Give an example to demonstrate sorting in MongoDB."
   ]
  },
  {
   "cell_type": "markdown",
   "id": "713d7b83-5c18-406c-a941-f6c5a6d561c5",
   "metadata": {},
   "source": [
    "In MongoDB, the sort() method is used to sort the documents in a collection in ascending or descending order. It takes one parameter, which is a dictionary containing the field name and the sorting order.\n",
    "\n",
    "The sorting order can be specified using the value 1 for ascending order, and -1 for descending order.\n",
    "\n",
    "Here is an example to demonstrate sorting in MongoDB:\n",
    "\n",
    "Suppose we have a collection called students with the "
   ]
  },
  {
   "cell_type": "code",
   "execution_count": null,
   "id": "cd04916d-5af6-4e1a-9897-d4d132db2c68",
   "metadata": {},
   "outputs": [],
   "source": [
    "{ \"_id\" : 1, \"name\" : \"Alice\", \"age\" : 20, \"score\" : 85 }\n",
    "{ \"_id\" : 2, \"name\" : \"Bob\", \"age\" : 21, \"score\" : 80 }\n",
    "{ \"_id\" : 3, \"name\" : \"Charlie\", \"age\" : 19, \"score\" : 90 }\n"
   ]
  },
  {
   "cell_type": "markdown",
   "id": "31f4fb6b-292e-42fd-be01-3a4f4b57bd48",
   "metadata": {},
   "source": [
    "To sort the documents in ascending order based on the score field, we can use the following code:"
   ]
  },
  {
   "cell_type": "code",
   "execution_count": null,
   "id": "f1b3fe6b-859b-4c04-aaee-935d2f24d52f",
   "metadata": {},
   "outputs": [],
   "source": [
    "import pymongo\n",
    "\n",
    "# create a connection to the MongoDB server\n",
    "client = pymongo.MongoClient(\"mongodb://localhost:27017/\")\n",
    "\n",
    "# get the students collection from the test database\n",
    "db = client[\"test\"]\n",
    "collection = db[\"students\"]\n",
    "\n",
    "# find all documents and sort them in ascending order based on the score field\n",
    "result = collection.find().sort(\"score\", 1)\n",
    "\n",
    "# print the sorted documents\n",
    "for doc in result:\n",
    "    print(doc)\n"
   ]
  },
  {
   "cell_type": "markdown",
   "id": "2ac6e790-afac-42b8-a560-26d441b9c1c7",
   "metadata": {},
   "source": [
    "7. Explain why delete_one(), delete_many(), and drop() is used."
   ]
  },
  {
   "cell_type": "markdown",
   "id": "f8787a82-b30f-47e6-9e14-c1d20bce3e99",
   "metadata": {},
   "source": [
    "* in MongoDB, delete_one() method is used to delete a single document that matches the specified filter criteria. delete_many() method, on the other hand, deletes all documents that match the specified filter criteria.\n",
    "\n",
    "* The drop() method is used to drop an entire collection, including all its documents.\n",
    "\n",
    "* These methods are used to remove data from the database that is no longer needed or relevant. For example, if we want to remove a single user from our users collection, we would use delete_one(). If we want to remove all users who have not logged in for a certain period of time, we would use delete_many(). If we want to remove an entire collection, we would use drop().\n",
    "\n",
    "\n"
   ]
  }
 ],
 "metadata": {
  "kernelspec": {
   "display_name": "Python 3 (ipykernel)",
   "language": "python",
   "name": "python3"
  },
  "language_info": {
   "codemirror_mode": {
    "name": "ipython",
    "version": 3
   },
   "file_extension": ".py",
   "mimetype": "text/x-python",
   "name": "python",
   "nbconvert_exporter": "python",
   "pygments_lexer": "ipython3",
   "version": "3.10.8"
  }
 },
 "nbformat": 4,
 "nbformat_minor": 5
}
