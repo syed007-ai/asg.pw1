{
 "cells": [
  {
   "cell_type": "raw",
   "id": "bedc2ec4-e45d-4b4c-a2ff-1dc240fb1bc7",
   "metadata": {},
   "source": [
    "1) Which keyword is used to create a function? Create a function to return a list of odd numbers in the\n",
    "range of 1 to 25."
   ]
  },
  {
   "cell_type": "markdown",
   "id": "d1021ba5-184b-4d84-8cda-2a86842ee011",
   "metadata": {},
   "source": [
    "#) def is the keyword to initialise a function. "
   ]
  },
  {
   "cell_type": "code",
   "execution_count": 4,
   "id": "f59688cb-456c-47ea-8ab1-384607d40b14",
   "metadata": {},
   "outputs": [
    {
     "data": {
      "text/plain": [
       "[1, 3, 5, 7, 9, 11, 13, 15, 17, 19, 21, 23, 25]"
      ]
     },
     "execution_count": 4,
     "metadata": {},
     "output_type": "execute_result"
    }
   ],
   "source": [
    "def odd():\n",
    "    l = list(range(1,26))\n",
    "    l1 = []\n",
    "    for i in l:\n",
    "        if i % 2 != 0 :\n",
    "            l1.append(i)\n",
    "    return l1\n",
    "odd()"
   ]
  },
  {
   "cell_type": "raw",
   "id": "2c576383-5470-4fae-aa10-869a28eed84e",
   "metadata": {},
   "source": [
    "2) Why *args and **kwargs is used in some functions? Create a function each for *args and **kwargs\n",
    "to demonstrate their use."
   ]
  },
  {
   "cell_type": "markdown",
   "id": "cf633c67-4cd5-40b9-a438-d495e7b66af3",
   "metadata": {},
   "source": [
    "1. *args is used for - unpacking the arguments into tuple (non keyword pair). Can use n no.of parameters without defining them explicitly in the function signature \n",
    "\n",
    "2. ** kwargs is used for-  unpacking the arguments into dict (key-word pair). Can use n no.of parameters without defining them explicitly in the function signature \n"
   ]
  },
  {
   "cell_type": "code",
   "execution_count": 21,
   "id": "84dcd635-a1d5-4f12-ad6d-6ceeb5027725",
   "metadata": {},
   "outputs": [
    {
     "name": "stdout",
     "output_type": "stream",
     "text": [
      "9\n",
      "5\n",
      "2\n",
      "14\n"
     ]
    }
   ],
   "source": [
    "#using *args : returns the parameters as a whole tuple\n",
    "def sum(*args) :\n",
    "    result = 0\n",
    "    for arg in args :\n",
    "        result += arg\n",
    "    return result \n",
    "print(sum(2,3,4))\n",
    "print(sum(2,3))\n",
    "print(sum(2))\n",
    "print(sum(2,3,4,5))"
   ]
  },
  {
   "cell_type": "code",
   "execution_count": 24,
   "id": "c98c7f4b-a178-4331-b732-3fcdc9ac2c01",
   "metadata": {},
   "outputs": [
    {
     "name": "stdout",
     "output_type": "stream",
     "text": [
      "name : mustafa\n",
      "age : 10\n",
      "grade :  V class \n",
      "None\n"
     ]
    }
   ],
   "source": [
    "#using ** kwargs : returns the paramters as key-value pairs. \n",
    "def print_values (** kwargs ) :\n",
    "    for key , value in kwargs.items() :\n",
    "        print(key, \":\" ,value)\n",
    "print(print_values(name = \"mustafa\" , age = 10 , grade = \" V class \"))     "
   ]
  },
  {
   "cell_type": "raw",
   "id": "09f418bc-a2e0-4194-8800-39ef7957c77b",
   "metadata": {},
   "source": [
    "3) What is an iterator in python? Name the method used to initialise the iterator object and the method\n",
    "used for iteration. Use these methods to print the first five elements of the given list [2, 4, 6, 8, 10, 12, 14,\n",
    "16, 18, 20]."
   ]
  },
  {
   "cell_type": "raw",
   "id": "a8510688-da24-4d68-98fe-8c515bef10b0",
   "metadata": {},
   "source": [
    "> iterator - an object that allows us to traverse through a sequence of either list or string.\n",
    "> The method used to initialise the iterator object -- is using the iter() function -- this initialises the iterator object.\n",
    "> The method used for iteration is - next() -- this method iterates through the iterator and gives the data 1/1 as its excecuted and exhausts once the whole data from the object is extracted."
   ]
  },
  {
   "cell_type": "code",
   "execution_count": 11,
   "id": "e4f36b93-e0a2-4f3e-bf4b-c6814e9ff144",
   "metadata": {},
   "outputs": [
    {
     "data": {
      "text/plain": [
       "list_iterator"
      ]
     },
     "execution_count": 11,
     "metadata": {},
     "output_type": "execute_result"
    }
   ],
   "source": [
    "l = [2, 4, 6, 8, 10, 12, 14,16, 18, 20]\n",
    "s=iter(l)\n",
    "type(s)"
   ]
  },
  {
   "cell_type": "code",
   "execution_count": 3,
   "id": "ff858cf1-3903-4f32-b6bc-78cd4b1d369e",
   "metadata": {},
   "outputs": [
    {
     "data": {
      "text/plain": [
       "2"
      ]
     },
     "execution_count": 3,
     "metadata": {},
     "output_type": "execute_result"
    }
   ],
   "source": [
    "next(s)"
   ]
  },
  {
   "cell_type": "code",
   "execution_count": 4,
   "id": "22047912-9425-45dc-ac97-28b2d942dce5",
   "metadata": {},
   "outputs": [
    {
     "data": {
      "text/plain": [
       "4"
      ]
     },
     "execution_count": 4,
     "metadata": {},
     "output_type": "execute_result"
    }
   ],
   "source": [
    "next(s)"
   ]
  },
  {
   "cell_type": "code",
   "execution_count": 5,
   "id": "4e0a5c13-8edb-4fcd-9d69-ca37a04bbca4",
   "metadata": {},
   "outputs": [
    {
     "data": {
      "text/plain": [
       "6"
      ]
     },
     "execution_count": 5,
     "metadata": {},
     "output_type": "execute_result"
    }
   ],
   "source": [
    "next(s)"
   ]
  },
  {
   "cell_type": "code",
   "execution_count": 6,
   "id": "937e96ae-adbc-4671-a9e9-e99e43571576",
   "metadata": {},
   "outputs": [
    {
     "data": {
      "text/plain": [
       "8"
      ]
     },
     "execution_count": 6,
     "metadata": {},
     "output_type": "execute_result"
    }
   ],
   "source": [
    "next(s)"
   ]
  },
  {
   "cell_type": "code",
   "execution_count": 7,
   "id": "a216737f-ebd6-4e98-83ab-46575201681f",
   "metadata": {},
   "outputs": [
    {
     "data": {
      "text/plain": [
       "10"
      ]
     },
     "execution_count": 7,
     "metadata": {},
     "output_type": "execute_result"
    }
   ],
   "source": [
    "next(s)"
   ]
  },
  {
   "cell_type": "code",
   "execution_count": 8,
   "id": "86e8648b-0d45-4dc8-b8ce-dda696c066e5",
   "metadata": {},
   "outputs": [
    {
     "data": {
      "text/plain": [
       "12"
      ]
     },
     "execution_count": 8,
     "metadata": {},
     "output_type": "execute_result"
    }
   ],
   "source": [
    "next(s)"
   ]
  },
  {
   "cell_type": "code",
   "execution_count": 9,
   "id": "75c68e80-3475-4180-bd34-938d74ce0050",
   "metadata": {},
   "outputs": [
    {
     "data": {
      "text/plain": [
       "14"
      ]
     },
     "execution_count": 9,
     "metadata": {},
     "output_type": "execute_result"
    }
   ],
   "source": [
    "next(s)"
   ]
  },
  {
   "cell_type": "code",
   "execution_count": 11,
   "id": "90346b56-67ed-40b3-b8b3-b2334e3deded",
   "metadata": {},
   "outputs": [
    {
     "data": {
      "text/plain": [
       "16"
      ]
     },
     "execution_count": 11,
     "metadata": {},
     "output_type": "execute_result"
    }
   ],
   "source": [
    "next(s)"
   ]
  },
  {
   "cell_type": "code",
   "execution_count": 12,
   "id": "0da39f7a-fa48-4e6d-a2c8-205cf0d17402",
   "metadata": {},
   "outputs": [
    {
     "data": {
      "text/plain": [
       "18"
      ]
     },
     "execution_count": 12,
     "metadata": {},
     "output_type": "execute_result"
    }
   ],
   "source": [
    "next(s)"
   ]
  },
  {
   "cell_type": "code",
   "execution_count": 13,
   "id": "d996194b-ee50-41b7-a386-5668bce77bca",
   "metadata": {},
   "outputs": [
    {
     "data": {
      "text/plain": [
       "20"
      ]
     },
     "execution_count": 13,
     "metadata": {},
     "output_type": "execute_result"
    }
   ],
   "source": [
    "next(s)\n",
    "#stop's iteration at this point now, as the list is done."
   ]
  },
  {
   "cell_type": "code",
   "execution_count": 12,
   "id": "9d2c50d6-f49a-4215-929e-f78feb678876",
   "metadata": {},
   "outputs": [
    {
     "name": "stdout",
     "output_type": "stream",
     "text": [
      "2\n",
      "4\n",
      "6\n",
      "8\n",
      "10\n",
      "12\n",
      "14\n",
      "16\n",
      "18\n",
      "20\n"
     ]
    }
   ],
   "source": [
    "while True :\n",
    "    try:\n",
    "        value = next(s)\n",
    "        print(value) #do this until its true \n",
    "    except StopIteration :\n",
    "        break "
   ]
  },
  {
   "cell_type": "code",
   "execution_count": 17,
   "id": "2232bdd2-b77c-40a7-aa3a-a9db1f5e5d3a",
   "metadata": {},
   "outputs": [
    {
     "name": "stdout",
     "output_type": "stream",
     "text": [
      "2\n",
      "4\n",
      "6\n",
      "8\n",
      "10\n",
      "12\n",
      "14\n",
      "16\n",
      "18\n",
      "20\n"
     ]
    }
   ],
   "source": [
    "l = [2, 4, 6, 8, 10, 12, 14,16, 18, 20]\n",
    "s=iter(l)\n",
    "condition = True \n",
    "while condition :\n",
    "    value = next(s , None)\n",
    "    if (value is not None) :\n",
    "        print(value)\n",
    "    else :\n",
    "        condition = False "
   ]
  },
  {
   "cell_type": "raw",
   "id": "0b13d626-27c0-46ec-8e7b-e5810b9ba0dd",
   "metadata": {},
   "source": [
    "4. What is a generator function in python? Why yield keyword is used? Give an example of a generator\n",
    "function."
   ]
  },
  {
   "cell_type": "markdown",
   "id": "d1de0ba7-d66f-4c71-b943-37b3808ec61f",
   "metadata": {},
   "source": [
    "*generator function is a special type of function in python, that generates an iterator when called.\n",
    "> A generator function is defined like a regular function, but instead of returning a value using the *return* statement, it uses the *yield*  keyword.\n",
    "> When a generator function is called, it returns a generator object that can be used to iterate over the values produced by the generator function.\n",
    "> The *yield*  keyword is used to produce a value from the generator function and suspend its execution temporarily.\n",
    "> When a value is yielded, the generator function's state is saved, allowing it to resume where it left off the next time it is called. This allows a generator function to produce a sequence of values without having to generate them all at once, which can be useful for working with large data sets or long computations\n"
   ]
  },
  {
   "cell_type": "code",
   "execution_count": 1,
   "id": "a92e4c16-5668-4275-a6bc-f9f9b138d91a",
   "metadata": {},
   "outputs": [],
   "source": [
    "def count(start , end) :\n",
    "    for i in range (start , end +1) :\n",
    "        yield(i)\n",
    "    "
   ]
  },
  {
   "cell_type": "code",
   "execution_count": 2,
   "id": "6e43f497-e5b6-4368-8c73-e20b79fe2e50",
   "metadata": {},
   "outputs": [
    {
     "name": "stdout",
     "output_type": "stream",
     "text": [
      "3\n",
      "4\n",
      "5\n",
      "6\n",
      "7\n",
      "8\n",
      "9\n"
     ]
    }
   ],
   "source": [
    "counter = count(3,9)\n",
    "for i in counter :\n",
    "    print(i)"
   ]
  },
  {
   "cell_type": "raw",
   "id": "ba3c63f6-f31f-45a9-8c1a-d3bfcf645307",
   "metadata": {},
   "source": [
    "5. Create a generator function for prime numbers less than 1000. Use the next() method to print the\n",
    "first 20 prime numbers."
   ]
  },
  {
   "cell_type": "code",
   "execution_count": 6,
   "id": "8cae74ba-e28c-46df-afd5-c7368d38177b",
   "metadata": {},
   "outputs": [],
   "source": [
    "def prime_num() :\n",
    "    yield 2 \n",
    "    primes_list = [2]\n",
    "    num = 3\n",
    "    while num < 1000 :\n",
    "        for p in primes_list :\n",
    "            if num % p == 0 :\n",
    "                break\n",
    "        else :\n",
    "            primes_list.append(num)\n",
    "            yield num\n",
    "        num+=2    "
   ]
  },
  {
   "cell_type": "code",
   "execution_count": 9,
   "id": "0e1a7eba-0225-4282-8e44-454964a51a5a",
   "metadata": {},
   "outputs": [
    {
     "name": "stdout",
     "output_type": "stream",
     "text": [
      "2 3 5 7 11 13 17 19 23 29 31 37 41 43 47 53 59 61 67 71 "
     ]
    }
   ],
   "source": [
    "gen = prime_num() ## puura data isme aagaya \n",
    "for i in range(20):\n",
    "    print(next(gen),end =\" \")\n",
    "    "
   ]
  },
  {
   "cell_type": "raw",
   "id": "0884af7a-80b3-47fa-8e9f-0745fded9f0c",
   "metadata": {},
   "source": [
    "Q6. Write a python program to print the first 10 Fibonacci numbers using a while loop."
   ]
  },
  {
   "cell_type": "code",
   "execution_count": 33,
   "id": "a09c89c5-cba4-4dc1-a835-c03dc86397fd",
   "metadata": {},
   "outputs": [],
   "source": [
    "def fib():\n",
    "    a , b = 0, 1\n",
    "    while True :\n",
    "        yield a \n",
    "        a,b = b , a + b"
   ]
  },
  {
   "cell_type": "code",
   "execution_count": 36,
   "id": "55e56694-3955-49de-bada-7b28ae1f9925",
   "metadata": {},
   "outputs": [
    {
     "name": "stdout",
     "output_type": "stream",
     "text": [
      "0 1 1 2 3 5 8 13 21 34 "
     ]
    }
   ],
   "source": [
    "fib_series = fib()\n",
    "for i in range(10) :\n",
    "    print(next(fib_series ), end = \" \" )"
   ]
  },
  {
   "cell_type": "raw",
   "id": "ec9c55ae-aa68-4bf9-b293-d5b4c465f793",
   "metadata": {},
   "source": [
    "7 . Write a List Comprehension to iterate through the given string: ‘pwskills’.\n",
    "Expected output: ['p', 'w', 's', 'k', 'i', 'l', 'l', 's']"
   ]
  },
  {
   "cell_type": "code",
   "execution_count": 37,
   "id": "aae13e0c-4897-4d28-9c06-8318df2de598",
   "metadata": {},
   "outputs": [
    {
     "data": {
      "text/plain": [
       "['p', 'w', 's', 'k', 'i', 'l', 'l', 's']"
      ]
     },
     "execution_count": 37,
     "metadata": {},
     "output_type": "execute_result"
    }
   ],
   "source": [
    "l = ['p', 'w', 's', 'k', 'i', 'l', 'l', 's']\n",
    "[i for i in l]"
   ]
  },
  {
   "cell_type": "raw",
   "id": "77fc517c-d354-4d8b-ab7c-ae3799d0373b",
   "metadata": {},
   "source": [
    "8. Write a python program to check whether a given number is Palindrome or not using a while loop."
   ]
  },
  {
   "cell_type": "code",
   "execution_count": 11,
   "id": "60f743c5-0220-4577-be81-ba29e35e7fc0",
   "metadata": {},
   "outputs": [
    {
     "name": "stdin",
     "output_type": "stream",
     "text": [
      "Enter a number :  1121\n"
     ]
    },
    {
     "name": "stdout",
     "output_type": "stream",
     "text": [
      " sorry! 1121 is not a palindrome \n"
     ]
    }
   ],
   "source": [
    "num = int(input(\"Enter a number : \"))\n",
    "temp = num \n",
    "rev = 0  \n",
    "while temp > 0 :\n",
    "    digit = temp % 10 #returns the last digit of the number \n",
    "    rev = rev*10 + digit #brings back the number \n",
    "    temp = temp // 10 #returns the quotient of the number - i.e, the number without the digit part \n",
    "if num == rev :\n",
    "    print(f\"The given number {num} is a palindrome\")\n",
    "else :\n",
    "    print(f\" sorry! {num} is not a palindrome \")\n",
    "    "
   ]
  },
  {
   "cell_type": "raw",
   "id": "ad8419bd-57b0-4764-9445-ed4f079196c2",
   "metadata": {},
   "source": [
    "9. Write a code to print odd numbers from 1 to 100 using list comprehension."
   ]
  },
  {
   "cell_type": "code",
   "execution_count": 20,
   "id": "ba42fe0b-6796-4b3e-acf0-1f6eca7e9e0a",
   "metadata": {},
   "outputs": [
    {
     "name": "stdout",
     "output_type": "stream",
     "text": [
      "[1, 3, 5, 7, 9, 11, 13, 15, 17, 19, 21, 23, 25, 27, 29, 31, 33, 35, 37, 39, 41, 43, 45, 47, 49, 51, 53, 55, 57, 59, 61, 63, 65, 67, 69, 71, 73, 75, 77, 79, 81, 83, 85, 87, 89, 91, 93, 95, 97, 99] "
     ]
    }
   ],
   "source": [
    "l = list(range(1,100))\n",
    "odd = [i for i in l if i % 2 != 0]\n",
    "print(odd , end =\" \")"
   ]
  }
 ],
 "metadata": {
  "kernelspec": {
   "display_name": "Python 3 (ipykernel)",
   "language": "python",
   "name": "python3"
  },
  "language_info": {
   "codemirror_mode": {
    "name": "ipython",
    "version": 3
   },
   "file_extension": ".py",
   "mimetype": "text/x-python",
   "name": "python",
   "nbconvert_exporter": "python",
   "pygments_lexer": "ipython3",
   "version": "3.10.8"
  }
 },
 "nbformat": 4,
 "nbformat_minor": 5
}
