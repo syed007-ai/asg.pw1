{
 "cells": [
  {
   "cell_type": "markdown",
   "id": "35e5eed3-ef22-474f-82d8-4e5d5a5f6b08",
   "metadata": {},
   "source": [
    "1. What is Web Scraping? Why is it Used? Give three areas where Web Scraping is used to get data."
   ]
  },
  {
   "cell_type": "markdown",
   "id": "3a4aef51-eab1-401b-9859-986c73abd49d",
   "metadata": {},
   "source": [
    "* Web scraping is the process of automatically extracting data from websites using software tools or scripts. It involves sending requests to web pages, parsing the HTML or XML content of those pages, and extracting specific pieces of information."
   ]
  },
  {
   "cell_type": "markdown",
   "id": "9964aaac-ab69-41a8-9ef9-4673b8eebafd",
   "metadata": {},
   "source": [
    "> Web scraping is used for a variety of reasons, including:\n",
    "\n",
    "* Data collection: Web scraping is used to collect large amounts of data from websites that can be used for analysis, research, or business intelligence.\n",
    "* Price monitoring: Retailers and businesses use web scraping to monitor competitor prices and adjust their own pricing strategies accordingly.\n",
    "* Lead generation: Sales teams use web scraping to extract contact information from websites and social media platforms to generate leads.\n"
   ]
  },
  {
   "cell_type": "markdown",
   "id": "f9e2bf99-4334-4235-84b6-a20e12ea4c78",
   "metadata": {},
   "source": [
    "> Here ,are three areas where web scraping is commonly used:\n",
    "\n",
    "* E-commerce: Web scraping is used to extract product data, prices, reviews, and other information from e-commerce websites to help retailers and businesses make more informed decisions about their own products and pricing.\n",
    "* Finance: Web scraping is used in the finance industry to collect and analyze data on stock prices, economic indicators, and financial news to inform investment strategies.\n",
    "* Research: Web scraping is used by researchers in a variety of fields to collect data on a wide range of topics, from social media sentiment to scientific research papers."
   ]
  },
  {
   "cell_type": "markdown",
   "id": "cc51d72b-8414-4aa4-a5e6-20672f0fe671",
   "metadata": {},
   "source": [
    "2. What are the different methods used for Web Scraping?"
   ]
  },
  {
   "cell_type": "markdown",
   "id": "57c7ef92-0134-4789-a4b4-dc7c89e0aebd",
   "metadata": {},
   "source": [
    "> The various methods used for web scraping are :"
   ]
  },
  {
   "cell_type": "markdown",
   "id": "ee43fa58-fade-4b2e-adad-9d51e649ca3c",
   "metadata": {},
   "source": [
    "\n",
    "\n",
    "* Manual scraping is copying and pasting data from websites by hand, which can be slow and prone to errors.\n",
    "* Parsing HTML is using programming code to extract specific information from the HTML content of websites.\n",
    "* Web scraping tools are software that can be used to extract data from websites without needing to write code.\n",
    "* APIs are a structured way of accessing and extracting data from websites.\n",
    "* Headless browsers are web browsers that can be controlled by code, which makes it possible to scrape data from dynamic websites that require JavaScript or other interactive elements.\n",
    "* The choice of method depends on the amount and type of data needed, and the technical skills of the person doing the web scraping."
   ]
  },
  {
   "cell_type": "markdown",
   "id": "361c8597-62a7-4f77-9393-65fb9d522e3f",
   "metadata": {},
   "source": [
    "3. What is Beautiful Soup? Why is it used?"
   ]
  },
  {
   "cell_type": "markdown",
   "id": "eccbbee4-4622-46a4-8e3f-0f79c66f766a",
   "metadata": {},
   "source": [
    "> Beautiful Soup is a Python library that is commonly used for web scraping. It provides a set of functions for parsing HTML and XML documents and extracting specific information, such as text, links, and tags.\n",
    "\n",
    ">> Beautiful Soup is used for several reasons, including:\n",
    "\n",
    "* Ease of use: Beautiful Soup is easy to learn and use, even for beginners, due to its simple and intuitive syntax.\n",
    "* Compatibility: Beautiful Soup works with many Python versions and operating systems.\n",
    "* Flexibility: Beautiful Soup can handle poorly formatted HTML, making it a useful tool for scraping data from websites with inconsistent structures.\n",
    "* Integration: Beautiful Soup can be integrated with other Python libraries and tools, such as Requests and Pandas, to create a powerful web scraping pipeline.\n",
    "> Overall, Beautiful Soup is a popular and effective tool for web scraping due to its ease of use, compatibility, flexibility, and integration capabilities.\n"
   ]
  },
  {
   "cell_type": "markdown",
   "id": "60be0134-b2af-47ba-9f4e-e8f7054039c7",
   "metadata": {},
   "source": [
    "4. Why is flask used in this Web Scraping project?"
   ]
  },
  {
   "cell_type": "markdown",
   "id": "cfedd703-bafc-4779-8a2b-2218cc615767",
   "metadata": {},
   "source": [
    "> Flask is a Python web framework that is commonly used for developing web applications. In the context of web scraping, Flask can be used to build a web application that allows users to interact with the scraped data.\n",
    "\n",
    ">> For example, a Flask application can be used to display the scraped data in a user-friendly format, such as a table or chart. The application can also allow users to search or filter the data, or to export it in different formats.\n",
    "\n",
    ">> Flask can be used to deploy the web scraping application to a server, making it accessible to others over the internet. This can be useful for sharing the scraped data with colleagues or clients, or for making the data publicly available.\n",
    "\n"
   ]
  },
  {
   "cell_type": "markdown",
   "id": "bed974cf-8a27-4a5f-985e-38523f2e28cc",
   "metadata": {},
   "source": [
    "5. Write the names of AWS services used in this project. Also, explain the use of each service."
   ]
  },
  {
   "cell_type": "markdown",
   "id": "3c6091b3-2f0a-4287-8178-0f707538fded",
   "metadata": {},
   "source": [
    "> The AWS services used in the project are Code Pipeline and Bean stalk "
   ]
  },
  {
   "cell_type": "markdown",
   "id": "7e789937-4743-422a-b525-5ecfdfdb85af",
   "metadata": {},
   "source": [
    "* AWS Code Pipeline :  It's a tool that helps software developers to automate the process of deploying code changes. With CodePipeline, you can set up a pipeline that includes different stages such as building, testing, and deploying your code. This makes it easier to deploy your code without errors and saves time by automating the process"
   ]
  },
  {
   "cell_type": "markdown",
   "id": "82212fab-2f50-43bf-82cd-a07c3c64c4ef",
   "metadata": {},
   "source": [
    "* AWS Bean Stalk : It's a service that helps developers to easily deploy and manage web applications in the cloud. Elastic Beanstalk takes care of all the infrastructure (servers, operating system, middleware) so that developers can focus on developing and deploying their code. This means that you don't have to worry about the technical details of the infrastructure and can easily run your code in the cloud. Elastic Beanstalk can also automatically scale your application based on demand, making it easy to handle traffic spikes."
   ]
  }
 ],
 "metadata": {
  "kernelspec": {
   "display_name": "Python 3 (ipykernel)",
   "language": "python",
   "name": "python3"
  },
  "language_info": {
   "codemirror_mode": {
    "name": "ipython",
    "version": 3
   },
   "file_extension": ".py",
   "mimetype": "text/x-python",
   "name": "python",
   "nbconvert_exporter": "python",
   "pygments_lexer": "ipython3",
   "version": "3.10.8"
  }
 },
 "nbformat": 4,
 "nbformat_minor": 5
}
