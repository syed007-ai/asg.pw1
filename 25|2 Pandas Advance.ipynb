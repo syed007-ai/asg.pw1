{
 "cells": [
  {
   "cell_type": "code",
   "execution_count": 23,
   "id": "eb636430-5fb8-4a5b-9470-43902255f2ea",
   "metadata": {},
   "outputs": [],
   "source": [
    "import pandas as pd"
   ]
  },
  {
   "cell_type": "code",
   "execution_count": 2,
   "id": "53b1f51a-7ce4-4248-8a43-9c3bea50527c",
   "metadata": {},
   "outputs": [
    {
     "data": {
      "text/html": [
       "<div>\n",
       "<style scoped>\n",
       "    .dataframe tbody tr th:only-of-type {\n",
       "        vertical-align: middle;\n",
       "    }\n",
       "\n",
       "    .dataframe tbody tr th {\n",
       "        vertical-align: top;\n",
       "    }\n",
       "\n",
       "    .dataframe thead th {\n",
       "        text-align: right;\n",
       "    }\n",
       "</style>\n",
       "<table border=\"1\" class=\"dataframe\">\n",
       "  <thead>\n",
       "    <tr style=\"text-align: right;\">\n",
       "      <th></th>\n",
       "      <th>course_name</th>\n",
       "      <th>duration</th>\n",
       "    </tr>\n",
       "  </thead>\n",
       "  <tbody>\n",
       "    <tr>\n",
       "      <th>0</th>\n",
       "      <td>Data Science</td>\n",
       "      <td>2</td>\n",
       "    </tr>\n",
       "    <tr>\n",
       "      <th>1</th>\n",
       "      <td>Machine Learning</td>\n",
       "      <td>3</td>\n",
       "    </tr>\n",
       "    <tr>\n",
       "      <th>2</th>\n",
       "      <td>Big Data</td>\n",
       "      <td>6</td>\n",
       "    </tr>\n",
       "    <tr>\n",
       "      <th>3</th>\n",
       "      <td>Data Engineer</td>\n",
       "      <td>4</td>\n",
       "    </tr>\n",
       "  </tbody>\n",
       "</table>\n",
       "</div>"
      ],
      "text/plain": [
       "        course_name  duration\n",
       "0      Data Science         2\n",
       "1  Machine Learning         3\n",
       "2          Big Data         6\n",
       "3     Data Engineer         4"
      ]
     },
     "execution_count": 2,
     "metadata": {},
     "output_type": "execute_result"
    }
   ],
   "source": [
    "course_name = [\"Data Science\", \"Machine Learning\", \"Big Data\", \"Data Engineer\"]\n",
    "duration = [2,3,6,4]\n",
    "df = pd.DataFrame(data = {\"course_name\" : course_name, \"duration\" : duration})\n",
    "df"
   ]
  },
  {
   "cell_type": "markdown",
   "id": "b09ba74f-2d16-4fad-8ff7-0df8d83e05d9",
   "metadata": {},
   "source": [
    "1. Write a code to print the data present in the second row of the dataframe, df."
   ]
  },
  {
   "cell_type": "code",
   "execution_count": 11,
   "id": "cc1b20d6-8f31-4ee7-b47b-d75bb4ee27c4",
   "metadata": {},
   "outputs": [
    {
     "name": "stdout",
     "output_type": "stream",
     "text": [
      "course_name    Machine Learning\n",
      "duration                      3\n",
      "Name: 1, dtype: object\n",
      "     or     \n",
      "        course_name  duration\n",
      "1  Machine Learning         3\n"
     ]
    }
   ],
   "source": [
    "print(df.iloc[1])\n",
    "print(\"     or     \")\n",
    "print(df[1:2])"
   ]
  },
  {
   "cell_type": "markdown",
   "id": "c10d5881-ebb4-4c95-9a03-17d875576ac4",
   "metadata": {},
   "source": [
    "2. What is the difference between the functions loc and iloc in pandas.DataFrame?"
   ]
  },
  {
   "cell_type": "code",
   "execution_count": 36,
   "id": "6cc0a6dc-abca-49be-b553-59d0c8cb0c74",
   "metadata": {},
   "outputs": [
    {
     "data": {
      "text/html": [
       "<div>\n",
       "<style scoped>\n",
       "    .dataframe tbody tr th:only-of-type {\n",
       "        vertical-align: middle;\n",
       "    }\n",
       "\n",
       "    .dataframe tbody tr th {\n",
       "        vertical-align: top;\n",
       "    }\n",
       "\n",
       "    .dataframe thead th {\n",
       "        text-align: right;\n",
       "    }\n",
       "</style>\n",
       "<table border=\"1\" class=\"dataframe\">\n",
       "  <thead>\n",
       "    <tr style=\"text-align: right;\">\n",
       "      <th></th>\n",
       "      <th>Name</th>\n",
       "      <th>Math</th>\n",
       "      <th>Science</th>\n",
       "      <th>English</th>\n",
       "    </tr>\n",
       "  </thead>\n",
       "  <tbody>\n",
       "    <tr>\n",
       "      <th>0</th>\n",
       "      <td>Alice</td>\n",
       "      <td>90</td>\n",
       "      <td>75</td>\n",
       "      <td>95</td>\n",
       "    </tr>\n",
       "    <tr>\n",
       "      <th>1</th>\n",
       "      <td>Bob</td>\n",
       "      <td>80</td>\n",
       "      <td>85</td>\n",
       "      <td>90</td>\n",
       "    </tr>\n",
       "    <tr>\n",
       "      <th>2</th>\n",
       "      <td>Charlie</td>\n",
       "      <td>85</td>\n",
       "      <td>90</td>\n",
       "      <td>80</td>\n",
       "    </tr>\n",
       "    <tr>\n",
       "      <th>3</th>\n",
       "      <td>David</td>\n",
       "      <td>95</td>\n",
       "      <td>80</td>\n",
       "      <td>85</td>\n",
       "    </tr>\n",
       "  </tbody>\n",
       "</table>\n",
       "</div>"
      ],
      "text/plain": [
       "      Name  Math  Science  English\n",
       "0    Alice    90       75       95\n",
       "1      Bob    80       85       90\n",
       "2  Charlie    85       90       80\n",
       "3    David    95       80       85"
      ]
     },
     "execution_count": 36,
     "metadata": {},
     "output_type": "execute_result"
    }
   ],
   "source": [
    "data = {\n",
    "    'Name': ['Alice', 'Bob', 'Charlie', 'David'],\n",
    "    'Math': [90, 80, 85, 95],\n",
    "    'Science': [75, 85, 90, 80],\n",
    "    'English': [95, 90, 80, 85]\n",
    "}\n",
    "df2 = pd.DataFrame(data)\n",
    "df2"
   ]
  },
  {
   "cell_type": "code",
   "execution_count": 40,
   "id": "711e1690-4ef2-444a-97b9-af2a984a959e",
   "metadata": {},
   "outputs": [
    {
     "data": {
      "text/plain": [
       "Name       Bob\n",
       "Math        80\n",
       "Science     85\n",
       "English     90\n",
       "Name: 1, dtype: object"
      ]
     },
     "execution_count": 40,
     "metadata": {},
     "output_type": "execute_result"
    }
   ],
   "source": [
    "df2.loc[1] #using the index of the row"
   ]
  },
  {
   "cell_type": "markdown",
   "id": "4825c8fb-984c-4be6-9f7b-bb0823bb7257",
   "metadata": {},
   "source": [
    "> When we use loc[1], we are accessing the row with the label/index '1'. In this case, '1' represents the second row of the DataFrame. We get the row that corresponds to 'Bob' along with his grades in different subjects"
   ]
  },
  {
   "cell_type": "code",
   "execution_count": 42,
   "id": "dcd9319f-a16b-4b7b-8746-05630b2e39d6",
   "metadata": {},
   "outputs": [
    {
     "data": {
      "text/plain": [
       "Name       Bob\n",
       "Math        80\n",
       "Science     85\n",
       "English     90\n",
       "Name: 1, dtype: object"
      ]
     },
     "execution_count": 42,
     "metadata": {},
     "output_type": "execute_result"
    }
   ],
   "source": [
    "df2.iloc[1] # using the integer position of the row "
   ]
  },
  {
   "cell_type": "markdown",
   "id": "ff34f50e-b784-44f9-ae1c-40789fdf23db",
   "metadata": {},
   "source": [
    ">  when we use iloc[1], we are accessing the row at position '1', which is the second row of the DataFrame. Again, we get the same result as before, the row that represents 'Bob' with his grades."
   ]
  },
  {
   "cell_type": "markdown",
   "id": "a07579bf-918e-403c-9308-c1bdc57c2e66",
   "metadata": {},
   "source": [
    "> * the main difference between loc and iloc is the way we specify the row we want to access. With loc, we use the label/index of the row, while with iloc, we use the integer position of the row. The actual result we obtain from using either loc or iloc is the same, which is the row of data containing the specified label/index or integer position."
   ]
  },
  {
   "cell_type": "code",
   "execution_count": 49,
   "id": "bb1bc79c-cc89-46c3-ba56-63816b0ef29c",
   "metadata": {},
   "outputs": [
    {
     "data": {
      "text/html": [
       "<div>\n",
       "<style scoped>\n",
       "    .dataframe tbody tr th:only-of-type {\n",
       "        vertical-align: middle;\n",
       "    }\n",
       "\n",
       "    .dataframe tbody tr th {\n",
       "        vertical-align: top;\n",
       "    }\n",
       "\n",
       "    .dataframe thead th {\n",
       "        text-align: right;\n",
       "    }\n",
       "</style>\n",
       "<table border=\"1\" class=\"dataframe\">\n",
       "  <thead>\n",
       "    <tr style=\"text-align: right;\">\n",
       "      <th></th>\n",
       "      <th>Name</th>\n",
       "      <th>Math</th>\n",
       "      <th>Science</th>\n",
       "      <th>English</th>\n",
       "    </tr>\n",
       "  </thead>\n",
       "  <tbody>\n",
       "    <tr>\n",
       "      <th>0</th>\n",
       "      <td>Alice</td>\n",
       "      <td>90</td>\n",
       "      <td>75</td>\n",
       "      <td>95</td>\n",
       "    </tr>\n",
       "    <tr>\n",
       "      <th>0</th>\n",
       "      <td>Bob</td>\n",
       "      <td>80</td>\n",
       "      <td>85</td>\n",
       "      <td>90</td>\n",
       "    </tr>\n",
       "    <tr>\n",
       "      <th>1</th>\n",
       "      <td>Charlie</td>\n",
       "      <td>85</td>\n",
       "      <td>90</td>\n",
       "      <td>80</td>\n",
       "    </tr>\n",
       "    <tr>\n",
       "      <th>1</th>\n",
       "      <td>David</td>\n",
       "      <td>95</td>\n",
       "      <td>80</td>\n",
       "      <td>85</td>\n",
       "    </tr>\n",
       "  </tbody>\n",
       "</table>\n",
       "</div>"
      ],
      "text/plain": [
       "      Name  Math  Science  English\n",
       "0    Alice    90       75       95\n",
       "0      Bob    80       85       90\n",
       "1  Charlie    85       90       80\n",
       "1    David    95       80       85"
      ]
     },
     "execution_count": 49,
     "metadata": {},
     "output_type": "execute_result"
    }
   ],
   "source": [
    "df3 = pd.DataFrame(data , index = [0,0,1,1])\n",
    "df3"
   ]
  },
  {
   "cell_type": "code",
   "execution_count": 50,
   "id": "925580a8-5a5f-4949-929d-aea0d5170258",
   "metadata": {},
   "outputs": [
    {
     "data": {
      "text/html": [
       "<div>\n",
       "<style scoped>\n",
       "    .dataframe tbody tr th:only-of-type {\n",
       "        vertical-align: middle;\n",
       "    }\n",
       "\n",
       "    .dataframe tbody tr th {\n",
       "        vertical-align: top;\n",
       "    }\n",
       "\n",
       "    .dataframe thead th {\n",
       "        text-align: right;\n",
       "    }\n",
       "</style>\n",
       "<table border=\"1\" class=\"dataframe\">\n",
       "  <thead>\n",
       "    <tr style=\"text-align: right;\">\n",
       "      <th></th>\n",
       "      <th>Name</th>\n",
       "      <th>Math</th>\n",
       "      <th>Science</th>\n",
       "      <th>English</th>\n",
       "    </tr>\n",
       "  </thead>\n",
       "  <tbody>\n",
       "    <tr>\n",
       "      <th>0</th>\n",
       "      <td>Alice</td>\n",
       "      <td>90</td>\n",
       "      <td>75</td>\n",
       "      <td>95</td>\n",
       "    </tr>\n",
       "    <tr>\n",
       "      <th>0</th>\n",
       "      <td>Bob</td>\n",
       "      <td>80</td>\n",
       "      <td>85</td>\n",
       "      <td>90</td>\n",
       "    </tr>\n",
       "  </tbody>\n",
       "</table>\n",
       "</div>"
      ],
      "text/plain": [
       "    Name  Math  Science  English\n",
       "0  Alice    90       75       95\n",
       "0    Bob    80       85       90"
      ]
     },
     "execution_count": 50,
     "metadata": {},
     "output_type": "execute_result"
    }
   ],
   "source": [
    "df3.loc[0] # the indices which we set, \"labels\""
   ]
  },
  {
   "cell_type": "code",
   "execution_count": 52,
   "id": "c0a0c6ec-86fd-4f2e-aca6-b8f9be79a7e6",
   "metadata": {},
   "outputs": [
    {
     "data": {
      "text/plain": [
       "Name       Bob\n",
       "Math        80\n",
       "Science     85\n",
       "English     90\n",
       "Name: 0, dtype: object"
      ]
     },
     "execution_count": 52,
     "metadata": {},
     "output_type": "execute_result"
    }
   ],
   "source": [
    "df3.iloc[1] #by default compiler indices "
   ]
  },
  {
   "cell_type": "markdown",
   "id": "df44a35a-0154-4463-bb1c-9f40c9f7c6fe",
   "metadata": {},
   "source": [
    "3. Reindex the given dataframe using a variable, reindex = [3,0,1,2] and store it in the variable, new_df then find the output for both new_df.loc[2] and new_df.iloc[2].\n",
    "> Did you observe any difference in both the outputs? If so then explain it."
   ]
  },
  {
   "cell_type": "code",
   "execution_count": 53,
   "id": "68d36cbe-fcde-4e0c-85cb-9d7a0e23401d",
   "metadata": {},
   "outputs": [
    {
     "data": {
      "text/html": [
       "<div>\n",
       "<style scoped>\n",
       "    .dataframe tbody tr th:only-of-type {\n",
       "        vertical-align: middle;\n",
       "    }\n",
       "\n",
       "    .dataframe tbody tr th {\n",
       "        vertical-align: top;\n",
       "    }\n",
       "\n",
       "    .dataframe thead th {\n",
       "        text-align: right;\n",
       "    }\n",
       "</style>\n",
       "<table border=\"1\" class=\"dataframe\">\n",
       "  <thead>\n",
       "    <tr style=\"text-align: right;\">\n",
       "      <th></th>\n",
       "      <th>course_name</th>\n",
       "      <th>duration</th>\n",
       "    </tr>\n",
       "  </thead>\n",
       "  <tbody>\n",
       "    <tr>\n",
       "      <th>0</th>\n",
       "      <td>Data Science</td>\n",
       "      <td>2</td>\n",
       "    </tr>\n",
       "    <tr>\n",
       "      <th>1</th>\n",
       "      <td>Machine Learning</td>\n",
       "      <td>3</td>\n",
       "    </tr>\n",
       "    <tr>\n",
       "      <th>2</th>\n",
       "      <td>Big Data</td>\n",
       "      <td>6</td>\n",
       "    </tr>\n",
       "    <tr>\n",
       "      <th>3</th>\n",
       "      <td>Data Engineer</td>\n",
       "      <td>4</td>\n",
       "    </tr>\n",
       "  </tbody>\n",
       "</table>\n",
       "</div>"
      ],
      "text/plain": [
       "        course_name  duration\n",
       "0      Data Science         2\n",
       "1  Machine Learning         3\n",
       "2          Big Data         6\n",
       "3     Data Engineer         4"
      ]
     },
     "execution_count": 53,
     "metadata": {},
     "output_type": "execute_result"
    }
   ],
   "source": [
    "course_name = [\"Data Science\", \"Machine Learning\", \"Big Data\", \"Data Engineer\"]\n",
    "duration = [2,3,6,4]\n",
    "df = pd.DataFrame(data = {\"course_name\" : course_name, \"duration\" : duration})\n",
    "df"
   ]
  },
  {
   "cell_type": "code",
   "execution_count": 56,
   "id": "5d282eda-ff6b-41fe-965d-4896b95a7a0f",
   "metadata": {},
   "outputs": [
    {
     "data": {
      "text/html": [
       "<div>\n",
       "<style scoped>\n",
       "    .dataframe tbody tr th:only-of-type {\n",
       "        vertical-align: middle;\n",
       "    }\n",
       "\n",
       "    .dataframe tbody tr th {\n",
       "        vertical-align: top;\n",
       "    }\n",
       "\n",
       "    .dataframe thead th {\n",
       "        text-align: right;\n",
       "    }\n",
       "</style>\n",
       "<table border=\"1\" class=\"dataframe\">\n",
       "  <thead>\n",
       "    <tr style=\"text-align: right;\">\n",
       "      <th></th>\n",
       "      <th>course_name</th>\n",
       "      <th>duration</th>\n",
       "    </tr>\n",
       "  </thead>\n",
       "  <tbody>\n",
       "    <tr>\n",
       "      <th>3</th>\n",
       "      <td>Data Engineer</td>\n",
       "      <td>4</td>\n",
       "    </tr>\n",
       "    <tr>\n",
       "      <th>0</th>\n",
       "      <td>Data Science</td>\n",
       "      <td>2</td>\n",
       "    </tr>\n",
       "    <tr>\n",
       "      <th>1</th>\n",
       "      <td>Machine Learning</td>\n",
       "      <td>3</td>\n",
       "    </tr>\n",
       "    <tr>\n",
       "      <th>2</th>\n",
       "      <td>Big Data</td>\n",
       "      <td>6</td>\n",
       "    </tr>\n",
       "  </tbody>\n",
       "</table>\n",
       "</div>"
      ],
      "text/plain": [
       "        course_name  duration\n",
       "3     Data Engineer         4\n",
       "0      Data Science         2\n",
       "1  Machine Learning         3\n",
       "2          Big Data         6"
      ]
     },
     "execution_count": 56,
     "metadata": {},
     "output_type": "execute_result"
    }
   ],
   "source": [
    "new_df = df.reindex([3,0,1,2])\n",
    "new_df"
   ]
  },
  {
   "cell_type": "code",
   "execution_count": 57,
   "id": "c70aaee7-2fea-4b44-af94-5346cbfeb99a",
   "metadata": {},
   "outputs": [
    {
     "data": {
      "text/plain": [
       "course_name    Big Data\n",
       "duration              6\n",
       "Name: 2, dtype: object"
      ]
     },
     "execution_count": 57,
     "metadata": {},
     "output_type": "execute_result"
    }
   ],
   "source": [
    "new_df.loc[2] #label"
   ]
  },
  {
   "cell_type": "code",
   "execution_count": 58,
   "id": "be8909f1-4efb-4a1d-85f4-b7a6112aae74",
   "metadata": {},
   "outputs": [
    {
     "data": {
      "text/plain": [
       "course_name    Machine Learning\n",
       "duration                      3\n",
       "Name: 1, dtype: object"
      ]
     },
     "execution_count": 58,
     "metadata": {},
     "output_type": "execute_result"
    }
   ],
   "source": [
    "new_df.iloc[2] #index , position."
   ]
  },
  {
   "cell_type": "markdown",
   "id": "4d823e76-f89a-42f3-b4fc-66204e758445",
   "metadata": {},
   "source": [
    "> Yes, we observe the difference in the output. \n",
    "* new_df.loc[2] , access the label index, while new_df.iloc[2], access the positional index (which is already set by the python compiler). \n",
    "> It depends on how we want to access the data, if we want to access the data by using the label index, we use pd.loc[i] and if we want to access the data using the positional index we use pd.iloc[i]"
   ]
  },
  {
   "cell_type": "code",
   "execution_count": 61,
   "id": "50e7bb15-b42a-4189-b216-45b84a5666a1",
   "metadata": {},
   "outputs": [
    {
     "data": {
      "text/html": [
       "<div>\n",
       "<style scoped>\n",
       "    .dataframe tbody tr th:only-of-type {\n",
       "        vertical-align: middle;\n",
       "    }\n",
       "\n",
       "    .dataframe tbody tr th {\n",
       "        vertical-align: top;\n",
       "    }\n",
       "\n",
       "    .dataframe thead th {\n",
       "        text-align: right;\n",
       "    }\n",
       "</style>\n",
       "<table border=\"1\" class=\"dataframe\">\n",
       "  <thead>\n",
       "    <tr style=\"text-align: right;\">\n",
       "      <th></th>\n",
       "      <th>column_1</th>\n",
       "      <th>column_2</th>\n",
       "      <th>column_3</th>\n",
       "      <th>column_4</th>\n",
       "      <th>column_5</th>\n",
       "      <th>column_6</th>\n",
       "    </tr>\n",
       "  </thead>\n",
       "  <tbody>\n",
       "    <tr>\n",
       "      <th>1</th>\n",
       "      <td>0.176303</td>\n",
       "      <td>0.817217</td>\n",
       "      <td>0.036208</td>\n",
       "      <td>0.678919</td>\n",
       "      <td>0.998489</td>\n",
       "      <td>0.681266</td>\n",
       "    </tr>\n",
       "    <tr>\n",
       "      <th>2</th>\n",
       "      <td>0.460001</td>\n",
       "      <td>0.133802</td>\n",
       "      <td>0.885532</td>\n",
       "      <td>0.524179</td>\n",
       "      <td>0.113256</td>\n",
       "      <td>0.231608</td>\n",
       "    </tr>\n",
       "    <tr>\n",
       "      <th>3</th>\n",
       "      <td>0.121688</td>\n",
       "      <td>0.989424</td>\n",
       "      <td>0.541970</td>\n",
       "      <td>0.891620</td>\n",
       "      <td>0.876860</td>\n",
       "      <td>0.862043</td>\n",
       "    </tr>\n",
       "    <tr>\n",
       "      <th>4</th>\n",
       "      <td>0.846580</td>\n",
       "      <td>0.897784</td>\n",
       "      <td>0.692722</td>\n",
       "      <td>0.432172</td>\n",
       "      <td>0.363771</td>\n",
       "      <td>0.332720</td>\n",
       "    </tr>\n",
       "    <tr>\n",
       "      <th>5</th>\n",
       "      <td>0.907195</td>\n",
       "      <td>0.238299</td>\n",
       "      <td>0.031080</td>\n",
       "      <td>0.923202</td>\n",
       "      <td>0.922464</td>\n",
       "      <td>0.689374</td>\n",
       "    </tr>\n",
       "    <tr>\n",
       "      <th>6</th>\n",
       "      <td>0.470511</td>\n",
       "      <td>0.655432</td>\n",
       "      <td>0.539218</td>\n",
       "      <td>0.539248</td>\n",
       "      <td>0.572679</td>\n",
       "      <td>0.948212</td>\n",
       "    </tr>\n",
       "  </tbody>\n",
       "</table>\n",
       "</div>"
      ],
      "text/plain": [
       "   column_1  column_2  column_3  column_4  column_5  column_6\n",
       "1  0.176303  0.817217  0.036208  0.678919  0.998489  0.681266\n",
       "2  0.460001  0.133802  0.885532  0.524179  0.113256  0.231608\n",
       "3  0.121688  0.989424  0.541970  0.891620  0.876860  0.862043\n",
       "4  0.846580  0.897784  0.692722  0.432172  0.363771  0.332720\n",
       "5  0.907195  0.238299  0.031080  0.923202  0.922464  0.689374\n",
       "6  0.470511  0.655432  0.539218  0.539248  0.572679  0.948212"
      ]
     },
     "execution_count": 61,
     "metadata": {},
     "output_type": "execute_result"
    }
   ],
   "source": [
    "import pandas as pd\n",
    "import numpy as np\n",
    "columns = ['column_1', 'column_2', 'column_3', 'column_4', 'column_5', 'column_6']\n",
    "indices = [1,2,3,4,5,6]\n",
    "#Creating a dataframe:\n",
    "df11 = pd.DataFrame(np.random.rand(6,6), columns = columns, index = indices)\n",
    "df11"
   ]
  },
  {
   "cell_type": "markdown",
   "id": "ab7fbfa0-9ed0-48cf-be2b-023555f8c57b",
   "metadata": {},
   "source": [
    "4. Write a code to find the following statistical measurements for the above dataframe df11:\n",
    "* (i)  mean of each and every column present in the dataframe.\n",
    "* (ii) standard deviation of column, ‘column_2’"
   ]
  },
  {
   "cell_type": "code",
   "execution_count": 84,
   "id": "a1584717-ecd7-441a-8513-2476379e2cee",
   "metadata": {},
   "outputs": [
    {
     "name": "stdout",
     "output_type": "stream",
     "text": [
      "The mean of each and every column present in the dataframe : \n"
     ]
    },
    {
     "data": {
      "text/plain": [
       "column_1    0.497046\n",
       "column_2    0.621993\n",
       "column_3    0.454455\n",
       "column_4    0.664890\n",
       "column_5    0.641253\n",
       "column_6    0.624204\n",
       "dtype: float64"
      ]
     },
     "execution_count": 84,
     "metadata": {},
     "output_type": "execute_result"
    }
   ],
   "source": [
    "print(\"The mean of each and every column present in the dataframe : \")\n",
    "df11.mean()"
   ]
  },
  {
   "cell_type": "code",
   "execution_count": 75,
   "id": "803baabd-b2a8-4480-8f02-6c832e87984a",
   "metadata": {},
   "outputs": [
    {
     "name": "stdout",
     "output_type": "stream",
     "text": [
      "Std deviation of column, 'column_2' : \n"
     ]
    },
    {
     "data": {
      "text/plain": [
       "0.35660851280177175"
      ]
     },
     "execution_count": 75,
     "metadata": {},
     "output_type": "execute_result"
    }
   ],
   "source": [
    "print(\"Std deviation of column, 'column_2' : \")\n",
    "df11[\"column_2\"].std()"
   ]
  },
  {
   "cell_type": "markdown",
   "id": "85014400-e7a1-49e0-b9f9-214ae165be4e",
   "metadata": {},
   "source": [
    "5. Replace the data present in the second row of column, ‘column_2’ by a string variable then find the mean of column, column_2.\n",
    "> If you are getting errors in executing it then explain why.\n",
    "* [Hint: To replace the data use df1.loc[] and equate this to string data of your choice.]"
   ]
  },
  {
   "cell_type": "code",
   "execution_count": 85,
   "id": "f96a8d3d-8413-4e9c-a7c3-10a1f23eb233",
   "metadata": {},
   "outputs": [
    {
     "data": {
      "text/html": [
       "<div>\n",
       "<style scoped>\n",
       "    .dataframe tbody tr th:only-of-type {\n",
       "        vertical-align: middle;\n",
       "    }\n",
       "\n",
       "    .dataframe tbody tr th {\n",
       "        vertical-align: top;\n",
       "    }\n",
       "\n",
       "    .dataframe thead th {\n",
       "        text-align: right;\n",
       "    }\n",
       "</style>\n",
       "<table border=\"1\" class=\"dataframe\">\n",
       "  <thead>\n",
       "    <tr style=\"text-align: right;\">\n",
       "      <th></th>\n",
       "      <th>column_1</th>\n",
       "      <th>column_2</th>\n",
       "      <th>column_3</th>\n",
       "      <th>column_4</th>\n",
       "      <th>column_5</th>\n",
       "      <th>column_6</th>\n",
       "    </tr>\n",
       "  </thead>\n",
       "  <tbody>\n",
       "    <tr>\n",
       "      <th>1</th>\n",
       "      <td>0.176303</td>\n",
       "      <td>0.817217</td>\n",
       "      <td>0.036208</td>\n",
       "      <td>0.678919</td>\n",
       "      <td>0.998489</td>\n",
       "      <td>0.681266</td>\n",
       "    </tr>\n",
       "    <tr>\n",
       "      <th>2</th>\n",
       "      <td>0.460001</td>\n",
       "      <td>0.133802</td>\n",
       "      <td>0.885532</td>\n",
       "      <td>0.524179</td>\n",
       "      <td>0.113256</td>\n",
       "      <td>0.231608</td>\n",
       "    </tr>\n",
       "    <tr>\n",
       "      <th>3</th>\n",
       "      <td>0.121688</td>\n",
       "      <td>0.989424</td>\n",
       "      <td>0.541970</td>\n",
       "      <td>0.891620</td>\n",
       "      <td>0.876860</td>\n",
       "      <td>0.862043</td>\n",
       "    </tr>\n",
       "    <tr>\n",
       "      <th>4</th>\n",
       "      <td>0.846580</td>\n",
       "      <td>0.897784</td>\n",
       "      <td>0.692722</td>\n",
       "      <td>0.432172</td>\n",
       "      <td>0.363771</td>\n",
       "      <td>0.332720</td>\n",
       "    </tr>\n",
       "    <tr>\n",
       "      <th>5</th>\n",
       "      <td>0.907195</td>\n",
       "      <td>0.238299</td>\n",
       "      <td>0.031080</td>\n",
       "      <td>0.923202</td>\n",
       "      <td>0.922464</td>\n",
       "      <td>0.689374</td>\n",
       "    </tr>\n",
       "    <tr>\n",
       "      <th>6</th>\n",
       "      <td>0.470511</td>\n",
       "      <td>0.655432</td>\n",
       "      <td>0.539218</td>\n",
       "      <td>0.539248</td>\n",
       "      <td>0.572679</td>\n",
       "      <td>0.948212</td>\n",
       "    </tr>\n",
       "  </tbody>\n",
       "</table>\n",
       "</div>"
      ],
      "text/plain": [
       "   column_1  column_2  column_3  column_4  column_5  column_6\n",
       "1  0.176303  0.817217  0.036208  0.678919  0.998489  0.681266\n",
       "2  0.460001  0.133802  0.885532  0.524179  0.113256  0.231608\n",
       "3  0.121688  0.989424  0.541970  0.891620  0.876860  0.862043\n",
       "4  0.846580  0.897784  0.692722  0.432172  0.363771  0.332720\n",
       "5  0.907195  0.238299  0.031080  0.923202  0.922464  0.689374\n",
       "6  0.470511  0.655432  0.539218  0.539248  0.572679  0.948212"
      ]
     },
     "execution_count": 85,
     "metadata": {},
     "output_type": "execute_result"
    }
   ],
   "source": [
    "df11"
   ]
  },
  {
   "cell_type": "code",
   "execution_count": 88,
   "id": "68947e75-fda4-42ae-9224-3d3a361ad2c3",
   "metadata": {},
   "outputs": [],
   "source": [
    "df11[\"column_2\"][2] = \"I am Iron Man\""
   ]
  },
  {
   "cell_type": "code",
   "execution_count": 89,
   "id": "2f4993d1-4dd6-41fc-92d2-1da1da193340",
   "metadata": {},
   "outputs": [
    {
     "data": {
      "text/html": [
       "<div>\n",
       "<style scoped>\n",
       "    .dataframe tbody tr th:only-of-type {\n",
       "        vertical-align: middle;\n",
       "    }\n",
       "\n",
       "    .dataframe tbody tr th {\n",
       "        vertical-align: top;\n",
       "    }\n",
       "\n",
       "    .dataframe thead th {\n",
       "        text-align: right;\n",
       "    }\n",
       "</style>\n",
       "<table border=\"1\" class=\"dataframe\">\n",
       "  <thead>\n",
       "    <tr style=\"text-align: right;\">\n",
       "      <th></th>\n",
       "      <th>column_1</th>\n",
       "      <th>column_2</th>\n",
       "      <th>column_3</th>\n",
       "      <th>column_4</th>\n",
       "      <th>column_5</th>\n",
       "      <th>column_6</th>\n",
       "    </tr>\n",
       "  </thead>\n",
       "  <tbody>\n",
       "    <tr>\n",
       "      <th>1</th>\n",
       "      <td>0.176303</td>\n",
       "      <td>0.817217</td>\n",
       "      <td>0.036208</td>\n",
       "      <td>0.678919</td>\n",
       "      <td>0.998489</td>\n",
       "      <td>0.681266</td>\n",
       "    </tr>\n",
       "    <tr>\n",
       "      <th>2</th>\n",
       "      <td>0.460001</td>\n",
       "      <td>I am Iron Man</td>\n",
       "      <td>0.885532</td>\n",
       "      <td>0.524179</td>\n",
       "      <td>0.113256</td>\n",
       "      <td>0.231608</td>\n",
       "    </tr>\n",
       "    <tr>\n",
       "      <th>3</th>\n",
       "      <td>0.121688</td>\n",
       "      <td>0.989424</td>\n",
       "      <td>0.541970</td>\n",
       "      <td>0.891620</td>\n",
       "      <td>0.876860</td>\n",
       "      <td>0.862043</td>\n",
       "    </tr>\n",
       "    <tr>\n",
       "      <th>4</th>\n",
       "      <td>0.846580</td>\n",
       "      <td>0.897784</td>\n",
       "      <td>0.692722</td>\n",
       "      <td>0.432172</td>\n",
       "      <td>0.363771</td>\n",
       "      <td>0.332720</td>\n",
       "    </tr>\n",
       "    <tr>\n",
       "      <th>5</th>\n",
       "      <td>0.907195</td>\n",
       "      <td>0.238299</td>\n",
       "      <td>0.031080</td>\n",
       "      <td>0.923202</td>\n",
       "      <td>0.922464</td>\n",
       "      <td>0.689374</td>\n",
       "    </tr>\n",
       "    <tr>\n",
       "      <th>6</th>\n",
       "      <td>0.470511</td>\n",
       "      <td>0.655432</td>\n",
       "      <td>0.539218</td>\n",
       "      <td>0.539248</td>\n",
       "      <td>0.572679</td>\n",
       "      <td>0.948212</td>\n",
       "    </tr>\n",
       "  </tbody>\n",
       "</table>\n",
       "</div>"
      ],
      "text/plain": [
       "   column_1       column_2  column_3  column_4  column_5  column_6\n",
       "1  0.176303       0.817217  0.036208  0.678919  0.998489  0.681266\n",
       "2  0.460001  I am Iron Man  0.885532  0.524179  0.113256  0.231608\n",
       "3  0.121688       0.989424  0.541970  0.891620  0.876860  0.862043\n",
       "4  0.846580       0.897784  0.692722  0.432172  0.363771  0.332720\n",
       "5  0.907195       0.238299  0.031080  0.923202  0.922464  0.689374\n",
       "6  0.470511       0.655432  0.539218  0.539248  0.572679  0.948212"
      ]
     },
     "execution_count": 89,
     "metadata": {},
     "output_type": "execute_result"
    }
   ],
   "source": [
    "df11"
   ]
  },
  {
   "cell_type": "markdown",
   "id": "68804841-0924-4fb6-807a-4de84405af8b",
   "metadata": {},
   "source": [
    "* hence, we cannot find the mean of column_2, because float number cannot be added to a string."
   ]
  },
  {
   "cell_type": "markdown",
   "id": "13341175-370a-458a-b03f-eae4dcc86304",
   "metadata": {},
   "source": [
    "6. What do you understand about the windows function in pandas and list the types of windows functions?"
   ]
  },
  {
   "cell_type": "markdown",
   "id": "146f0d2c-7ce1-4822-bfb3-ef763699f1a1",
   "metadata": {},
   "source": [
    "> * A window can be visualized as a fixed-size or variable-size \"box\" that moves along the data, and the window function calculates a result based on the values within that window. The specific behavior of the window function depends on the type of window used."
   ]
  },
  {
   "cell_type": "markdown",
   "id": "ac357234-b1cb-4926-a518-8908b88c7480",
   "metadata": {},
   "source": [
    "* The common types of windows function are : Rolling window , expanding window , rolling time window , exponentially weighted window.\n",
    "> * Rolling Window:- Imagine a window of fixed size that moves along a set of numbers or data points. At each position, the window calculates a specific value based on the numbers inside it. For example, you can calculate the rolling average of a stock's closing prices over the past 5 days. As the window moves, the average value is updated, giving you insights into the recent trend.\n",
    "> * Expanding Window:- Similar to the rolling window, but with an expanding window, the size increases as it moves along the data. At each position, it includes all the previous numbers, giving you cumulative information. For example, you can calculate the cumulative sum of daily sales to see how the total sales grow over time.\n",
    "> * Rolling Time Window:- This is similar to the rolling window, but instead of a fixed number of data points, it uses a fixed time interval. For instance, you can calculate the rolling average of website visitors every hour over the past 24 hours. The window slides along the time axis, capturing data within that time frame.\n",
    "> * Exponential Weighted Window:- In this case, the window assigns different weights to data points within the window based on an exponential decay formula. Recent data points have higher weights, indicating they have more influence on the result. It is useful when you want to give more importance to recent data while still considering older data.\n"
   ]
  },
  {
   "cell_type": "code",
   "execution_count": 4,
   "id": "bf3ee66c-8954-424f-a9ae-e97d591eaca6",
   "metadata": {},
   "outputs": [
    {
     "data": {
      "text/html": [
       "<div>\n",
       "<style scoped>\n",
       "    .dataframe tbody tr th:only-of-type {\n",
       "        vertical-align: middle;\n",
       "    }\n",
       "\n",
       "    .dataframe tbody tr th {\n",
       "        vertical-align: top;\n",
       "    }\n",
       "\n",
       "    .dataframe thead th {\n",
       "        text-align: right;\n",
       "    }\n",
       "</style>\n",
       "<table border=\"1\" class=\"dataframe\">\n",
       "  <thead>\n",
       "    <tr style=\"text-align: right;\">\n",
       "      <th></th>\n",
       "      <th>A</th>\n",
       "      <th>B</th>\n",
       "      <th>C</th>\n",
       "    </tr>\n",
       "  </thead>\n",
       "  <tbody>\n",
       "    <tr>\n",
       "      <th>0</th>\n",
       "      <td>1</td>\n",
       "      <td>6</td>\n",
       "      <td>11</td>\n",
       "    </tr>\n",
       "    <tr>\n",
       "      <th>1</th>\n",
       "      <td>2</td>\n",
       "      <td>7</td>\n",
       "      <td>12</td>\n",
       "    </tr>\n",
       "    <tr>\n",
       "      <th>2</th>\n",
       "      <td>3</td>\n",
       "      <td>8</td>\n",
       "      <td>13</td>\n",
       "    </tr>\n",
       "    <tr>\n",
       "      <th>3</th>\n",
       "      <td>4</td>\n",
       "      <td>9</td>\n",
       "      <td>14</td>\n",
       "    </tr>\n",
       "    <tr>\n",
       "      <th>4</th>\n",
       "      <td>5</td>\n",
       "      <td>10</td>\n",
       "      <td>15</td>\n",
       "    </tr>\n",
       "  </tbody>\n",
       "</table>\n",
       "</div>"
      ],
      "text/plain": [
       "   A   B   C\n",
       "0  1   6  11\n",
       "1  2   7  12\n",
       "2  3   8  13\n",
       "3  4   9  14\n",
       "4  5  10  15"
      ]
     },
     "execution_count": 4,
     "metadata": {},
     "output_type": "execute_result"
    }
   ],
   "source": [
    "df5 = pd.DataFrame({'A': [1, 2, 3, 4, 5],\n",
    "                   'B': [6, 7, 8, 9, 10],\n",
    "                   'C': [11, 12, 13, 14, 15]})\n",
    "df5"
   ]
  },
  {
   "cell_type": "code",
   "execution_count": 5,
   "id": "50c2f833-335d-4c6a-8fe8-25c494f4f271",
   "metadata": {},
   "outputs": [],
   "source": [
    "rolling_mean = df5.rolling(window = 2).mean()"
   ]
  },
  {
   "cell_type": "code",
   "execution_count": 6,
   "id": "e4e79db6-a415-4178-8d6c-60569d9626ca",
   "metadata": {},
   "outputs": [
    {
     "data": {
      "text/html": [
       "<div>\n",
       "<style scoped>\n",
       "    .dataframe tbody tr th:only-of-type {\n",
       "        vertical-align: middle;\n",
       "    }\n",
       "\n",
       "    .dataframe tbody tr th {\n",
       "        vertical-align: top;\n",
       "    }\n",
       "\n",
       "    .dataframe thead th {\n",
       "        text-align: right;\n",
       "    }\n",
       "</style>\n",
       "<table border=\"1\" class=\"dataframe\">\n",
       "  <thead>\n",
       "    <tr style=\"text-align: right;\">\n",
       "      <th></th>\n",
       "      <th>A</th>\n",
       "      <th>B</th>\n",
       "      <th>C</th>\n",
       "    </tr>\n",
       "  </thead>\n",
       "  <tbody>\n",
       "    <tr>\n",
       "      <th>0</th>\n",
       "      <td>NaN</td>\n",
       "      <td>NaN</td>\n",
       "      <td>NaN</td>\n",
       "    </tr>\n",
       "    <tr>\n",
       "      <th>1</th>\n",
       "      <td>1.5</td>\n",
       "      <td>6.5</td>\n",
       "      <td>11.5</td>\n",
       "    </tr>\n",
       "    <tr>\n",
       "      <th>2</th>\n",
       "      <td>2.5</td>\n",
       "      <td>7.5</td>\n",
       "      <td>12.5</td>\n",
       "    </tr>\n",
       "    <tr>\n",
       "      <th>3</th>\n",
       "      <td>3.5</td>\n",
       "      <td>8.5</td>\n",
       "      <td>13.5</td>\n",
       "    </tr>\n",
       "    <tr>\n",
       "      <th>4</th>\n",
       "      <td>4.5</td>\n",
       "      <td>9.5</td>\n",
       "      <td>14.5</td>\n",
       "    </tr>\n",
       "  </tbody>\n",
       "</table>\n",
       "</div>"
      ],
      "text/plain": [
       "     A    B     C\n",
       "0  NaN  NaN   NaN\n",
       "1  1.5  6.5  11.5\n",
       "2  2.5  7.5  12.5\n",
       "3  3.5  8.5  13.5\n",
       "4  4.5  9.5  14.5"
      ]
     },
     "execution_count": 6,
     "metadata": {},
     "output_type": "execute_result"
    }
   ],
   "source": [
    "rolling_mean"
   ]
  },
  {
   "cell_type": "code",
   "execution_count": 25,
   "id": "37b01a88-4122-4953-bd97-e6c78ba16d92",
   "metadata": {},
   "outputs": [
    {
     "data": {
      "text/html": [
       "<div>\n",
       "<style scoped>\n",
       "    .dataframe tbody tr th:only-of-type {\n",
       "        vertical-align: middle;\n",
       "    }\n",
       "\n",
       "    .dataframe tbody tr th {\n",
       "        vertical-align: top;\n",
       "    }\n",
       "\n",
       "    .dataframe thead th {\n",
       "        text-align: right;\n",
       "    }\n",
       "</style>\n",
       "<table border=\"1\" class=\"dataframe\">\n",
       "  <thead>\n",
       "    <tr style=\"text-align: right;\">\n",
       "      <th></th>\n",
       "      <th>A</th>\n",
       "      <th>B</th>\n",
       "      <th>C</th>\n",
       "    </tr>\n",
       "  </thead>\n",
       "  <tbody>\n",
       "    <tr>\n",
       "      <th>0</th>\n",
       "      <td>NaN</td>\n",
       "      <td>NaN</td>\n",
       "      <td>NaN</td>\n",
       "    </tr>\n",
       "    <tr>\n",
       "      <th>1</th>\n",
       "      <td>NaN</td>\n",
       "      <td>NaN</td>\n",
       "      <td>NaN</td>\n",
       "    </tr>\n",
       "    <tr>\n",
       "      <th>2</th>\n",
       "      <td>6.0</td>\n",
       "      <td>21.0</td>\n",
       "      <td>36.0</td>\n",
       "    </tr>\n",
       "    <tr>\n",
       "      <th>3</th>\n",
       "      <td>9.0</td>\n",
       "      <td>24.0</td>\n",
       "      <td>39.0</td>\n",
       "    </tr>\n",
       "    <tr>\n",
       "      <th>4</th>\n",
       "      <td>12.0</td>\n",
       "      <td>27.0</td>\n",
       "      <td>42.0</td>\n",
       "    </tr>\n",
       "  </tbody>\n",
       "</table>\n",
       "</div>"
      ],
      "text/plain": [
       "      A     B     C\n",
       "0   NaN   NaN   NaN\n",
       "1   NaN   NaN   NaN\n",
       "2   6.0  21.0  36.0\n",
       "3   9.0  24.0  39.0\n",
       "4  12.0  27.0  42.0"
      ]
     },
     "execution_count": 25,
     "metadata": {},
     "output_type": "execute_result"
    }
   ],
   "source": [
    "rolling_sum= df5.rolling(window = 3).sum()\n",
    "rolling_sum"
   ]
  },
  {
   "cell_type": "markdown",
   "id": "afb36559-0999-4b4c-9f44-4b9f68d10f15",
   "metadata": {},
   "source": [
    "7. Write a code to print only the current month and year at the time of answering this question."
   ]
  },
  {
   "cell_type": "code",
   "execution_count": 16,
   "id": "0239d3c4-36cb-4d47-862e-250c26c5aa03",
   "metadata": {},
   "outputs": [
    {
     "name": "stdout",
     "output_type": "stream",
     "text": [
      "Current month : 5\n",
      "Current year : 2023\n"
     ]
    }
   ],
   "source": [
    "current_datetime = pd.to_datetime(\"today\")\n",
    "current_month = current_datetime.month\n",
    "current_year = current_datetime.year\n",
    "print(f\"Current month : {current_month}\")\n",
    "print(f\"Current year : {current_year}\")"
   ]
  },
  {
   "cell_type": "markdown",
   "id": "1fc99ba1-05ec-4cad-9e30-f4700fdd3c10",
   "metadata": {},
   "source": [
    "8. Write a Python program that takes in two dates as input (in the format YYYY-MM-DD) and calculates the difference between them in days, hours, and minutes using Pandas time delta. The program should prompt the user to enter the dates and display the result."
   ]
  },
  {
   "cell_type": "code",
   "execution_count": 29,
   "id": "41d65630-91ac-4bde-abb8-f2de5cc460fa",
   "metadata": {},
   "outputs": [
    {
     "name": "stdin",
     "output_type": "stream",
     "text": [
      "Enter the date (YYYY-MM-DD) :  20230105\n",
      "Enter another date (YYYY-MM-DD) :  20230507\n"
     ]
    },
    {
     "name": "stdout",
     "output_type": "stream",
     "text": [
      "Time difference:\n",
      "Days: 122\n",
      "Hours: 0\n",
      "Minutes: 0\n"
     ]
    }
   ],
   "source": [
    "date1 = input(\"Enter the date (YYYY-MM-DD) : \")\n",
    "date2 = input(\"Enter another date (YYYY-MM-DD) : \")\n",
    "\n",
    "date1 = pd.to_datetime(date1)\n",
    "date2 = pd.to_datetime(date2)\n",
    "\n",
    "time_diff = pd.Timedelta(date2 - date1) \n",
    "#time_diff = date2 - date1\n",
    "days = time_diff.days\n",
    "hours = time_diff.seconds // 3600\n",
    "minutes = (time_diff.seconds % 3600) // 60\n",
    "\n",
    "print(\"Time difference:\")\n",
    "print(f\"Days: {days}\")\n",
    "print(f\"Hours: {hours}\")\n",
    "print(f\"Minutes: {minutes}\")"
   ]
  },
  {
   "cell_type": "markdown",
   "id": "7b196319-a581-4c94-90ba-925a1dc5f1b2",
   "metadata": {},
   "source": [
    "9. Write a Python program that reads a CSV file containing categorical data and converts a specified column to a categorical data type. The program should prompt the user to enter the file path, column name, and category order, and then display the sorted data."
   ]
  },
  {
   "cell_type": "code",
   "execution_count": 10,
   "id": "49f03ce8-5ac6-4d00-95a2-6d30731501d0",
   "metadata": {},
   "outputs": [
    {
     "name": "stdin",
     "output_type": "stream",
     "text": [
      "Enter the file path for the csv file :  data.csv\n",
      "Enter the column name to convert to categorical :  City\n",
      "Enter the category order (comma,seperated,values) :  Paris,London,New York\n"
     ]
    },
    {
     "name": "stdout",
     "output_type": "stream",
     "text": [
      "    Name  Age      City\n",
      "2    Bob   35     Paris\n",
      "1  Alice   30    London\n",
      "0   John   25  New York\n"
     ]
    }
   ],
   "source": [
    "file_path = input(\"Enter the file path for the csv file : \")\n",
    "column_name = input(\"Enter the column name to convert to categorical : \")\n",
    "category_order = input(\"Enter the category order (comma,seperated,values) : \").split(\",\")\n",
    "\n",
    "df = pd.read_csv(file_path)\n",
    "\n",
    "df[column_name] = pd.Categorical(df[column_name] , categories= category_order , ordered= True)\n",
    "\n",
    "sorted_df = df.sort_values(by = column_name)\n",
    "\n",
    "print(sorted_df)"
   ]
  },
  {
   "cell_type": "markdown",
   "id": "ca41bee0-aabd-403c-97d2-b9299fb82006",
   "metadata": {},
   "source": [
    "10. Write a Python program that reads a CSV file containing sales data for different products and visualizes the data using a stacked bar chart to show the sales of each product category over time. The program should prompt the user to enter the file path and display the chart."
   ]
  },
  {
   "cell_type": "code",
   "execution_count": 22,
   "id": "13c1cf2f-733b-423a-9857-cb1525ec1441",
   "metadata": {},
   "outputs": [
    {
     "name": "stdin",
     "output_type": "stream",
     "text": [
      "Enter file path :  data2.csv\n"
     ]
    },
    {
     "name": "stdout",
     "output_type": "stream",
     "text": [
      "AxesSubplot(0.125,0.11;0.775x0.77)\n"
     ]
    },
    {
     "data": {
      "image/png": "[encoded data removed]",
      "text/plain": [
       "<Figure size 640x480 with 1 Axes>"
      ]
     },
     "metadata": {},
     "output_type": "display_data"
    }
   ],
   "source": [
    "file_path = input(\"Enter file path : \")\n",
    "\n",
    "df2 = pd.read_csv(file_path)\n",
    "\n",
    "grouped_df = df2.groupby([\"Date\" ,\"Product Category\"])[\"Sales\"].sum().unstack()\n",
    "\n",
    "chart = grouped_df.plot(kind = \"bar\", stacked = True , xlabel = \"Product Category\" , ylabel = \"Sales\" )\n",
    "\n",
    "print(chart)"
   ]
  },
  {
   "cell_type": "markdown",
   "id": "f2ca9cab-845f-478b-9b8b-e8277d59e61d",
   "metadata": {},
   "source": [
    "11. You are given a CSV file containing student data that includes the student ID and their test score. Write a Python program that reads the CSV file, calculates the mean, median, and mode of the test scores, and displays the results in a table.\n",
    ">> The program should calculate the mean, median, and mode of the test scores and display the results\n",
    "in a table."
   ]
  },
  {
   "cell_type": "code",
   "execution_count": 24,
   "id": "68b4c2c6-f020-4df3-907b-35e0dd6b458a",
   "metadata": {},
   "outputs": [
    {
     "name": "stdin",
     "output_type": "stream",
     "text": [
      "Enter the csv file path :  data3.csv\n"
     ]
    },
    {
     "data": {
      "text/html": [
       "<div>\n",
       "<style scoped>\n",
       "    .dataframe tbody tr th:only-of-type {\n",
       "        vertical-align: middle;\n",
       "    }\n",
       "\n",
       "    .dataframe tbody tr th {\n",
       "        vertical-align: top;\n",
       "    }\n",
       "\n",
       "    .dataframe thead th {\n",
       "        text-align: right;\n",
       "    }\n",
       "</style>\n",
       "<table border=\"1\" class=\"dataframe\">\n",
       "  <thead>\n",
       "    <tr style=\"text-align: right;\">\n",
       "      <th></th>\n",
       "      <th>Student ID</th>\n",
       "      <th>Test Score</th>\n",
       "    </tr>\n",
       "  </thead>\n",
       "  <tbody>\n",
       "    <tr>\n",
       "      <th>0</th>\n",
       "      <td>1</td>\n",
       "      <td>85</td>\n",
       "    </tr>\n",
       "    <tr>\n",
       "      <th>1</th>\n",
       "      <td>2</td>\n",
       "      <td>90</td>\n",
       "    </tr>\n",
       "    <tr>\n",
       "      <th>2</th>\n",
       "      <td>3</td>\n",
       "      <td>80</td>\n",
       "    </tr>\n",
       "    <tr>\n",
       "      <th>3</th>\n",
       "      <td>4</td>\n",
       "      <td>75</td>\n",
       "    </tr>\n",
       "    <tr>\n",
       "      <th>4</th>\n",
       "      <td>5</td>\n",
       "      <td>85</td>\n",
       "    </tr>\n",
       "    <tr>\n",
       "      <th>5</th>\n",
       "      <td>6</td>\n",
       "      <td>82</td>\n",
       "    </tr>\n",
       "    <tr>\n",
       "      <th>6</th>\n",
       "      <td>7</td>\n",
       "      <td>78</td>\n",
       "    </tr>\n",
       "    <tr>\n",
       "      <th>7</th>\n",
       "      <td>8</td>\n",
       "      <td>85</td>\n",
       "    </tr>\n",
       "    <tr>\n",
       "      <th>8</th>\n",
       "      <td>9</td>\n",
       "      <td>90</td>\n",
       "    </tr>\n",
       "    <tr>\n",
       "      <th>9</th>\n",
       "      <td>10</td>\n",
       "      <td>85</td>\n",
       "    </tr>\n",
       "  </tbody>\n",
       "</table>\n",
       "</div>"
      ],
      "text/plain": [
       "   Student ID  Test Score\n",
       "0           1          85\n",
       "1           2          90\n",
       "2           3          80\n",
       "3           4          75\n",
       "4           5          85\n",
       "5           6          82\n",
       "6           7          78\n",
       "7           8          85\n",
       "8           9          90\n",
       "9          10          85"
      ]
     },
     "execution_count": 24,
     "metadata": {},
     "output_type": "execute_result"
    }
   ],
   "source": [
    "file_name = input(\"Enter the csv file path : \")\n",
    "student_df = pd.read_csv(file_name)\n",
    "student_df"
   ]
  },
  {
   "cell_type": "code",
   "execution_count": 29,
   "id": "44a64356-3ee6-4219-8d4b-8c8da8438caf",
   "metadata": {},
   "outputs": [],
   "source": [
    "stu_test_mean = student_df[\"Test Score\"].mean()"
   ]
  },
  {
   "cell_type": "code",
   "execution_count": 30,
   "id": "e2219ffc-1fe5-470b-8425-45b12d4a53f7",
   "metadata": {},
   "outputs": [],
   "source": [
    "stu_test_median = student_df[\"Test Score\"].median()"
   ]
  },
  {
   "cell_type": "code",
   "execution_count": 44,
   "id": "417518a2-c108-4247-8809-f59fcbb57a43",
   "metadata": {},
   "outputs": [],
   "source": [
    "stu_test_mode = student_df[\"Test Score\"].mode().values[0]"
   ]
  },
  {
   "cell_type": "code",
   "execution_count": 42,
   "id": "32d0c178-5ca3-48c6-880e-27f484f2cfe6",
   "metadata": {},
   "outputs": [
    {
     "name": "stdout",
     "output_type": "stream",
     "text": [
      "Students Test Statistics calculations : \n",
      "  Statistic  Test Score\n",
      "0      Mean        83.5\n",
      "1    Median        85.0\n",
      "2      Mode        85.0\n"
     ]
    }
   ],
   "source": [
    "test_df = pd.DataFrame({\"Statistic\" : ['Mean', 'Median', 'Mode'],\n",
    "    'Test Score': [stu_test_mean, stu_test_median, stu_test_mode]})\n",
    "print(\"Students Test Statistics calculations : \")\n",
    "print(test_df)"
   ]
  }
 ],
 "metadata": {
  "kernelspec": {
   "display_name": "Python 3 (ipykernel)",
   "language": "python",
   "name": "python3"
  },
  "language_info": {
   "codemirror_mode": {
    "name": "ipython",
    "version": 3
   },
   "file_extension": ".py",
   "mimetype": "text/x-python",
   "name": "python",
   "nbconvert_exporter": "python",
   "pygments_lexer": "ipython3",
   "version": "3.10.8"
  }
 },
 "nbformat": 4,
 "nbformat_minor": 5
}
