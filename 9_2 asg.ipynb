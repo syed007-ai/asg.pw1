{
 "cells": [
  {
   "cell_type": "markdown",
   "id": "9192b095-08a4-4179-870d-853d72560b28",
   "metadata": {},
   "source": [
    "1. Create a vehicle class with an init method having instance variables as name_of_vehicle, max_speed and average_of_vehicle."
   ]
  },
  {
   "cell_type": "code",
   "execution_count": 10,
   "id": "ae0f1d1d-e66b-4d5d-a45b-028d655ae035",
   "metadata": {},
   "outputs": [],
   "source": [
    "class vehicle :\n",
    "    \n",
    "    def __init__(ob , name_of_vehicle , max_speed , average_of_vehicle):\n",
    "        ob.name_of_vehicle = name_of_vehicle\n",
    "        ob.max_speed = max_speed\n",
    "        ob.average_of_vehicle = average_of_vehicle\n",
    "        \n",
    "    def return_details(ob) :\n",
    "        return ob.name_of_vehicle,ob.max_speed,ob.average_of_vehicle"
   ]
  },
  {
   "cell_type": "code",
   "execution_count": 11,
   "id": "efdb0406-58ff-4309-abc2-372beaee8813",
   "metadata": {},
   "outputs": [],
   "source": [
    "car = vehicle(\"audi\" , 241 , 17.4)"
   ]
  },
  {
   "cell_type": "code",
   "execution_count": 12,
   "id": "0ca02f14-9c8a-42af-9702-1f473b76b7b5",
   "metadata": {},
   "outputs": [
    {
     "data": {
      "text/plain": [
       "('audi', 241, 17.4)"
      ]
     },
     "execution_count": 12,
     "metadata": {},
     "output_type": "execute_result"
    }
   ],
   "source": [
    "car.return_details()"
   ]
  },
  {
   "cell_type": "code",
   "execution_count": 14,
   "id": "4fba7616-22be-401d-985c-25d813b486c7",
   "metadata": {},
   "outputs": [
    {
     "data": {
      "text/plain": [
       "'audi'"
      ]
     },
     "execution_count": 14,
     "metadata": {},
     "output_type": "execute_result"
    }
   ],
   "source": [
    "car.name_of_vehicle"
   ]
  },
  {
   "cell_type": "code",
   "execution_count": 15,
   "id": "4b949692-bdad-4511-b05a-d71461106f3a",
   "metadata": {},
   "outputs": [
    {
     "data": {
      "text/plain": [
       "241"
      ]
     },
     "execution_count": 15,
     "metadata": {},
     "output_type": "execute_result"
    }
   ],
   "source": [
    "car.max_speed"
   ]
  },
  {
   "cell_type": "code",
   "execution_count": 16,
   "id": "55cbcf89-e94f-4ee3-8f89-60a6308e9a00",
   "metadata": {},
   "outputs": [
    {
     "data": {
      "text/plain": [
       "17.4"
      ]
     },
     "execution_count": 16,
     "metadata": {},
     "output_type": "execute_result"
    }
   ],
   "source": [
    "car.average_of_vehicle"
   ]
  },
  {
   "cell_type": "markdown",
   "id": "727ef7b5-f984-441b-825b-88313687ca88",
   "metadata": {},
   "source": [
    "2. Create a child class car from the vehicle class created in Que 1, which will inherit the vehicle class. Create a method named seating_capacity which takes capacity as an argument and returns the name of the vehicle and its seating capacity."
   ]
  },
  {
   "cell_type": "code",
   "execution_count": 4,
   "id": "694bc840-754f-4879-8346-6a46ca411f0b",
   "metadata": {},
   "outputs": [
    {
     "data": {
      "text/plain": [
       "\"Audi's Q7 has the seating capacity of 7 passengers.\""
      ]
     },
     "execution_count": 4,
     "metadata": {},
     "output_type": "execute_result"
    }
   ],
   "source": [
    "class vehicle :\n",
    "    \n",
    "    def __init__(ob , brand , model , year ) :\n",
    "        ob.brand =  brand \n",
    "        ob.model = model\n",
    "        ob.year = year \n",
    "        \n",
    "class car(vehicle) :\n",
    "    def seating_capacity(ob , capacity) :\n",
    "        return f\"{ob.brand}'s {ob.model} has the seating capacity of {capacity} passengers.\"\n",
    "    \n",
    "my_car = car(\"Audi\",\"Q7\",2022)\n",
    "my_car.seating_capacity(7)"
   ]
  },
  {
   "cell_type": "markdown",
   "id": "8eae1966-c92a-4431-b6ad-8ec87d1bfb09",
   "metadata": {},
   "source": [
    "3) What is multiple inheritance? Write a python code to demonstrate multiple inheritance."
   ]
  },
  {
   "cell_type": "markdown",
   "id": "b8d9f04c-cc74-4a79-843a-277583a2ff71",
   "metadata": {},
   "source": [
    "* multiple inheritance is one of a kind of inheritance which is a part of four OOPs concepts in programming.\n",
    "* inheritance is the property of the class to inherit properties / use the properties from other class , specified as parent class and the class which inherits the properties is called the child class. \n",
    "* multiple inheritance is the inheritance where the child class inherits the properties from more than one class as required. "
   ]
  },
  {
   "cell_type": "code",
   "execution_count": 5,
   "id": "c82a419d-be91-4610-bf99-3e92a0012c70",
   "metadata": {},
   "outputs": [],
   "source": [
    "class demo_1 :\n",
    "    def welcome_msg (ob) :\n",
    "        return \" hi, I'm from demo 1 class \"\n",
    "class demo_2 :\n",
    "    def welcome_msg2 (ob) :\n",
    "        return \" hi, I'm from demo 2 class \"\n",
    "    \n",
    "class demo_3 (demo_1 , demo_2) :\n",
    "    pass"
   ]
  },
  {
   "cell_type": "code",
   "execution_count": 6,
   "id": "e9f8ef33-ee5c-4c50-a392-e39567b719a8",
   "metadata": {},
   "outputs": [],
   "source": [
    "mul_inheritance = demo_3()"
   ]
  },
  {
   "cell_type": "code",
   "execution_count": 7,
   "id": "03ad67c9-317e-450a-ba0f-f4222ba0e09b",
   "metadata": {},
   "outputs": [
    {
     "data": {
      "text/plain": [
       "\" hi, I'm from demo 1 class \""
      ]
     },
     "execution_count": 7,
     "metadata": {},
     "output_type": "execute_result"
    }
   ],
   "source": [
    "mul_inheritance.welcome_msg()"
   ]
  },
  {
   "cell_type": "code",
   "execution_count": 8,
   "id": "ee5fa6e2-be8d-4b4c-89b0-0c3fe4abe980",
   "metadata": {},
   "outputs": [
    {
     "data": {
      "text/plain": [
       "\" hi, I'm from demo 2 class \""
      ]
     },
     "execution_count": 8,
     "metadata": {},
     "output_type": "execute_result"
    }
   ],
   "source": [
    "mul_inheritance.welcome_msg2()"
   ]
  },
  {
   "cell_type": "markdown",
   "id": "4a20d491-75a5-4d1e-ba79-b75b15b68a23",
   "metadata": {},
   "source": [
    "* as we look the above eg, the class demo_3 is a child class, which inherits the properties from its parents classes, \n",
    "* demo_1 and demo_2. We can access the methods of both the classes and use it in the demo_3 class, this is called a multiple inheritance."
   ]
  },
  {
   "cell_type": "markdown",
   "id": "4051e2d1-ad9f-46ca-a593-8860d2b29b34",
   "metadata": {},
   "source": [
    "4) What are getter and setter in python? Create a class and create a getter and a setter method in this class."
   ]
  },
  {
   "cell_type": "markdown",
   "id": "820f6f77-db0a-4b7b-aa17-caef3fdf0a82",
   "metadata": {},
   "source": [
    "* getter and setter methods are the ways of accessing and modifying object attributes with methods , rather than directly accessing the attributes. \n",
    "* these methods are a part of \"encapsulation\" concept of OOPs . \n",
    "* when particular properties of the class are to be hidden from the user , encapsulation is achieved.\n",
    "* the user cannot directly access the instance variables of the class , but can get and set them using the methods provided. "
   ]
  },
  {
   "cell_type": "markdown",
   "id": "06403a96-a871-45f1-9a3e-65752238680a",
   "metadata": {},
   "source": [
    "1. Getter - method retrives the value of an object attribute\n",
    "2. setter - method sets the value of an object attribute "
   ]
  },
  {
   "cell_type": "code",
   "execution_count": 26,
   "id": "6326240f-db71-46df-8b4d-bc366618b0c3",
   "metadata": {},
   "outputs": [],
   "source": [
    "class person :\n",
    "    \n",
    "    def __init__(ob ,name ,age ) :\n",
    "        ob._name = name\n",
    "        ob._age = age \n",
    "        \n",
    "    def get_name(ob) :   \n",
    "        return ob._name \n",
    "    \n",
    "    def set_name(ob, name) :   \n",
    "        ob._name = name \n",
    "        \n",
    "    def get_age(ob) :  \n",
    "        return ob._age\n",
    "    \n",
    "    def set_age (ob , age):  \n",
    "        ob._age = age "
   ]
  },
  {
   "cell_type": "code",
   "execution_count": 27,
   "id": "6294e8a1-3b3f-4ae9-9452-73f9f3c6f499",
   "metadata": {},
   "outputs": [],
   "source": [
    "person1 = person(\"Mustafa\" , 10)"
   ]
  },
  {
   "cell_type": "code",
   "execution_count": 28,
   "id": "18a9f3f6-2a11-414d-a45c-004ef8f18699",
   "metadata": {},
   "outputs": [
    {
     "data": {
      "text/plain": [
       "'Mustafa'"
      ]
     },
     "execution_count": 28,
     "metadata": {},
     "output_type": "execute_result"
    }
   ],
   "source": [
    "person1.get_name()"
   ]
  },
  {
   "cell_type": "code",
   "execution_count": 29,
   "id": "975936b0-c765-450c-a2ba-327878b03664",
   "metadata": {},
   "outputs": [],
   "source": [
    "person1.set_name(\"Rehan\")"
   ]
  },
  {
   "cell_type": "code",
   "execution_count": 30,
   "id": "99fcf66f-9bbf-41bb-99a9-9e65418b4018",
   "metadata": {},
   "outputs": [
    {
     "data": {
      "text/plain": [
       "'Rehan'"
      ]
     },
     "execution_count": 30,
     "metadata": {},
     "output_type": "execute_result"
    }
   ],
   "source": [
    "person1.get_name()"
   ]
  },
  {
   "cell_type": "code",
   "execution_count": 31,
   "id": "8d9d16da-cf90-49e8-ab4f-8e7ade03dac7",
   "metadata": {},
   "outputs": [],
   "source": [
    "person1.set_age(9)"
   ]
  },
  {
   "cell_type": "code",
   "execution_count": 32,
   "id": "8229adbe-345a-487d-90ac-6c36c036de25",
   "metadata": {},
   "outputs": [
    {
     "data": {
      "text/plain": [
       "9"
      ]
     },
     "execution_count": 32,
     "metadata": {},
     "output_type": "execute_result"
    }
   ],
   "source": [
    "person1.get_age()"
   ]
  },
  {
   "cell_type": "markdown",
   "id": "ce899595-533d-4570-ad08-cfa2708cf4f1",
   "metadata": {},
   "source": [
    "\n",
    "hence encapsulation is achieved in this above example, where the instance variables of class person are hidden from\n",
    "the user and the user can only access them thru either giving the input or recieving the o/p i.e, thru getter and \n",
    "setter methods but not directly \n"
   ]
  },
  {
   "cell_type": "markdown",
   "id": "b67c6d1a-4304-4e62-aca0-5a1faff317ee",
   "metadata": {},
   "source": [
    "5) What is method overriding in python? Write a python code to demonstrate method overriding."
   ]
  },
  {
   "cell_type": "markdown",
   "id": "1a58b7a7-91ac-4921-88a8-862dcda87133",
   "metadata": {},
   "source": [
    "Method overriding is a concept in object-oriented programming where a subclass provides a different implementation of a method that is already defined in its parent class.\n",
    "\n",
    "When a method is overridden, the subclass version of the method is called instead of the parent class version when the method is invoked on an object of the subclass. This allows the subclass to provide its own behavior for the method, while still inheriting the other methods and attributes from the parent class."
   ]
  },
  {
   "cell_type": "code",
   "execution_count": 41,
   "id": "6b298f48-2110-4b6b-860a-77f21250bd6a",
   "metadata": {},
   "outputs": [
    {
     "name": "stdout",
     "output_type": "stream",
     "text": [
      "The animal makes a sound \n",
      "The cat's sound is meow \n"
     ]
    }
   ],
   "source": [
    "class animal :\n",
    "    \n",
    "    def make_sound (ob) :\n",
    "        print(\"The animal makes a sound \")\n",
    "        \n",
    "class cat(animal) :\n",
    "    \n",
    "    def make_sound (ob) :\n",
    "        print(\"The cat's sound is meow \")\n",
    "        \n",
    "my_animal = animal()   \n",
    "my_animal.make_sound()\n",
    "\n",
    "my_cat = cat()\n",
    "my_cat.make_sound()"
   ]
  },
  {
   "cell_type": "code",
   "execution_count": null,
   "id": "3fea6070-cb3a-4ba6-b4dc-6e152b62a706",
   "metadata": {},
   "outputs": [],
   "source": []
  }
 ],
 "metadata": {
  "kernelspec": {
   "display_name": "Python 3 (ipykernel)",
   "language": "python",
   "name": "python3"
  },
  "language_info": {
   "codemirror_mode": {
    "name": "ipython",
    "version": 3
   },
   "file_extension": ".py",
   "mimetype": "text/x-python",
   "name": "python",
   "nbconvert_exporter": "python",
   "pygments_lexer": "ipython3",
   "version": "3.10.8"
  }
 },
 "nbformat": 4,
 "nbformat_minor": 5
}
