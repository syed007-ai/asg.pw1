{
 "cells": [
  {
   "cell_type": "markdown",
   "id": "272f453b-fd37-4ee7-b4f6-46e8678fe4d3",
   "metadata": {},
   "source": [
    "1. What is a database? Differentiate between SQL and NoSQL databases."
   ]
  },
  {
   "cell_type": "markdown",
   "id": "df3bbd36-29fc-4d1e-af51-72b0de520270",
   "metadata": {},
   "source": [
    "> A database is a collection of organized data that can be easily accessed, managed, and updated. It allows users to store, organize, and retrieve data in a way that makes sense for their specific needs. Databases are used in a wide variety of applications, from simple to complex, to store information such as customer records, inventory, financial transactions, and more.\n",
    "\n",
    "* SQL (Structured Query Language) and NoSQL (Not Only SQL) are two types of databases that differ in how they store and manage data. SQL databases are relational databases that use tables to store data and rely on a specific schema that defines the structure and relationships of the data. SQL databases use a structured query language (SQL) to access and manipulate the data in the tables.\n",
    "\n",
    "* while, NoSQL databases are non-relational databases that can store data in various formats, such as key-value pairs, documents, or graphs. They don't rely on a specific schema and are designed to be more flexible and scalable than SQL databases. NoSQL databases use various query languages, depending on the type of database.\n",
    "\n",
    "* In simple terms, SQL databases are more rigid and have a fixed schema, making them ideal for applications that require consistency and transactions. NoSQL databases are more flexible and can handle large amounts of unstructured data, making them ideal for applications that require scalability and speed."
   ]
  },
  {
   "cell_type": "markdown",
   "id": "bfabfc78-9305-44df-950b-52b5329d3626",
   "metadata": {},
   "source": [
    "2. What is DDL? Explain why CREATE, DROP, ALTER, and TRUNCATE are used with an example."
   ]
  },
  {
   "cell_type": "markdown",
   "id": "a45a6249-1d2f-4b01-b08d-18759d95f6cd",
   "metadata": {},
   "source": [
    "> DDL stands for Data Definition Language, which is a set of SQL commands used to define and modify the structure of databases, tables, and other objects.\n",
    "\n",
    "* CREATE, DROP, ALTER, and TRUNCATE are some of the commonly used DDL commands in SQL:"
   ]
  },
  {
   "cell_type": "markdown",
   "id": "9c0a1180-bf7e-4410-aa78-5bcdaee68c74",
   "metadata": {},
   "source": [
    "> CREATE: This command is used to create new databases, tables, views, indexes, or other objects in the database. For example, the following SQL statement creates a new table called \"customers\" with columns for name, address, and phone number"
   ]
  },
  {
   "cell_type": "markdown",
   "id": "b7cee752-de34-465e-8bf5-53ac47ccdf0e",
   "metadata": {},
   "source": [
    "\n",
    "CREATE TABLE customers  (\n",
    "  name VARCHAR(50),\n",
    "  address VARCHAR(100),\n",
    "  phone VARCHAR(20)\n",
    ");"
   ]
  },
  {
   "cell_type": "markdown",
   "id": "ed600fb6-598f-4bdd-9717-ff552b507a25",
   "metadata": {},
   "source": [
    "> DROP : This command is used to delete an existing database, table, or other object from the database. For example, the following SQL statement drops the \"customers\" table:\n"
   ]
  },
  {
   "cell_type": "markdown",
   "id": "c13b004f-536a-4662-9b93-e25e79610d83",
   "metadata": {},
   "source": [
    "DROP TABLE customers;"
   ]
  },
  {
   "cell_type": "markdown",
   "id": "2d7f6761-4891-4c9b-af76-90b890a5564e",
   "metadata": {},
   "source": [
    "> ALTER : This command is used to modify the structure of an existing database, table, or other object in the database. For example, the following SQL statement adds a new column called \"email\" to the \"customers\" table:\n",
    "\n",
    "ALTER TABLE customers ADD COLUMN email VARCHAR(100);"
   ]
  },
  {
   "cell_type": "markdown",
   "id": "49cdb5eb-2650-4262-bbec-cc27df6380e7",
   "metadata": {},
   "source": [
    "> TRUNCATE : This command is used to remove all the data from an existing table while keeping its structure intact. For example, the following SQL statement truncates the \"customers\" table:\n",
    "\n",
    "TRUNCATE TABLE customers;"
   ]
  },
  {
   "cell_type": "markdown",
   "id": "9d2da893-505b-4ebd-b9ce-593f96896b7a",
   "metadata": {},
   "source": [
    "Overall , CREATE is used to make new objects, DROP is used to delete objects, ALTER is used to modify objects, and TRUNCATE is used to remove data from a table. These commands are essential for managing the structure and content of databases and tables in SQL."
   ]
  },
  {
   "cell_type": "markdown",
   "id": "741bd25d-b2ef-46d7-b515-002a3156a97b",
   "metadata": {},
   "source": [
    "3. What is DML? Explain INSERT, UPDATE, and DELETE with an example."
   ]
  },
  {
   "cell_type": "markdown",
   "id": "426bb1ca-d6ae-46b3-8511-6d217bf0b545",
   "metadata": {},
   "source": [
    "> DML stands for Data Manipulation Language, which is a subset of SQL commands used to manipulate data stored in databases.\n",
    "\n",
    "* The three most commonly used DML commands are INSERT, UPDATE, and DELETE:\n",
    "\n",
    "> INSERT: This command is used to add new data to a table in the database. For example, the following SQL statement inserts a new record into the \"customers\" table with name, address, phone, and email information:\n",
    "\n",
    "INSERT INTO customers (name, address, phone, email)\n",
    "VALUES ('John Smith', '123 Main St', '555-1234', 'john@example.com');\n"
   ]
  },
  {
   "cell_type": "markdown",
   "id": "7052ea8f-d3fd-43d5-8e3f-e610958f6fab",
   "metadata": {},
   "source": [
    "> UPDATE: This command is used to modify existing data in a table in the database. For example, the following SQL statement updates the phone number for the record with the name \"John Smith\" in the \"customers\" table:\n",
    "\n",
    "UPDATE customers SET phone='555-5678' WHERE name='John Smith';\n"
   ]
  },
  {
   "cell_type": "markdown",
   "id": "ab23aab6-869d-4e4a-821b-d9b7908e5cb8",
   "metadata": {},
   "source": [
    "> DELETE: This command is used to remove data from a table in the database. For example, the following SQL statement deletes the record with the name \"John Smith\" from the \"customers\" table:\n",
    "\n",
    "DELETE FROM customers WHERE name='John Smith';\n"
   ]
  },
  {
   "cell_type": "markdown",
   "id": "867a827d-6f4c-4473-b86e-1abac16458d4",
   "metadata": {},
   "source": [
    "> > INSERT is used to add new data, UPDATE is used to modify existing data, and DELETE is used to remove data from a table in the database. These commands are essential for manipulating the data stored in databases and tables in SQL\n"
   ]
  },
  {
   "cell_type": "markdown",
   "id": "92619c9b-23e5-4cd7-94c3-f50385de4432",
   "metadata": {},
   "source": [
    "4. What is DQL? Explain SELECT with an example."
   ]
  },
  {
   "cell_type": "markdown",
   "id": "d718d151-06e1-4156-a46e-b1c2a58c12cc",
   "metadata": {},
   "source": [
    "> DQL stands for Data Query Language, which is a subset of SQL commands used to retrieve data from a database.\n",
    "\n",
    "* The most commonly used DQL command is SELECT, which is used to fetch data from one or more tables in the database. For example, the following SQL statement selects all records from the \"customers\" table:\n",
    "\n",
    "SELECT * FROM customers;\n",
    "\n",
    "* This command returns all the data present in the \"customers\" table. We can also retrieve only specific columns from the table by specifying their names in the SELECT statement. For example, the following SQL statement selects only the \"name\" and \"email\" columns from the \"customers\" table:\n",
    "\n",
    "SELECT name, email FROM customers;\n",
    "\n",
    "* We can also use WHERE keyword to filter the data based on specific conditions. For example, the following SQL statement selects all the records from the \"customers\" table where the name is \"John Smith\":\n",
    "\n",
    "SELECT * FROM customers WHERE name = 'John Smith';"
   ]
  },
  {
   "cell_type": "markdown",
   "id": "57b35e8a-2286-4670-9e2f-0f3ad6f19be6",
   "metadata": {},
   "source": [
    "> in simple words, SELECT is used to fetch data from one or more tables in the database. It is an essential command for retrieving the required data from a large set of records stored in a table."
   ]
  },
  {
   "cell_type": "markdown",
   "id": "40b278ec-1a53-4f59-9b81-528d68ba25e8",
   "metadata": {},
   "source": [
    "5. Explain Primary Key and Foreign Key."
   ]
  },
  {
   "cell_type": "markdown",
   "id": "c30a861f-400d-41e4-94fb-108782168ae2",
   "metadata": {},
   "source": [
    "* In a database, a primary key is a unique identifier for a record in a table. It is a column or a set of columns that uniquely identifies each row in the table. For example, in a \"users\" table, the \"user_id\" column can be set as the primary key because it uniquely identifies each user in the table. A primary key can consist of a single column or a combination of columns. Primary keys ensure that each record in the table is unique and can be easily retrieved and updated.\n",
    "\n",
    "* whilst Foreign key is a column or a set of columns in a table that refers to the primary key of another table. It establishes a relationship between two tables and ensures referential integrity. For example, in a \"orders\" table, the \"customer_id\" column can be set as a foreign key because it refers to the primary key of the \"customers\" table. This ensures that each order in the \"orders\" table is associated with a valid customer in the \"customers\" table.\n",
    "\n",
    "* In simple words, a primary key is a unique identifier for a record in a table, while a foreign key is a column or set of columns in a table that refers to the primary key of another table. Primary keys ensure the uniqueness of each record, while foreign keys ensure the integrity and accuracy of data in a database."
   ]
  },
  {
   "cell_type": "markdown",
   "id": "f0fe6943-d363-4527-9a53-dfde79b14c96",
   "metadata": {},
   "source": [
    "6. Write a python code to connect MySQL to python. Explain the cursor() and execute() method."
   ]
  },
  {
   "cell_type": "code",
   "execution_count": null,
   "id": "a2012de9-51a4-467d-b600-5fceb55e1691",
   "metadata": {},
   "outputs": [],
   "source": [
    "import mysql.connector\n",
    "\n",
    "# establishing a connection to the MySQL server\n",
    "mydb = mysql.connector.connect(\n",
    "    host=\"localhost\",\n",
    "    user=\"username\",\n",
    "    password=\"password\",\n",
    "    database=\"databasename\"\n",
    ")\n",
    "\n",
    "# creating a cursor object to execute SQL queries\n",
    "mycursor = mydb.cursor()\n",
    "\n",
    "# executing an SQL query\n",
    "mycursor.execute(\"SELECT * FROM customers\")\n",
    "\n",
    "# fetching the results of the query\n",
    "myresult = mycursor.fetchall()\n",
    "\n",
    "# printing the results\n",
    "for x in myresult:\n",
    "  print(x)\n"
   ]
  },
  {
   "cell_type": "markdown",
   "id": "de3a196e-fa42-4418-86ed-57ae931007a5",
   "metadata": {},
   "source": [
    "* we first import the mysql.connector module and establish a connection to the MySQL server using the connect() method. We pass in the host, username, password, and database name as parameters to this method.\n",
    "\n",
    "* Next, we create a cursor object using the cursor() method. This object is used to execute SQL queries and fetch the results.\n",
    "\n",
    "* To execute an SQL query, we call the execute() method of the cursor object and pass in the SQL statement as a parameter. In this example, we execute a SELECT query to retrieve all the records from the customers table.\n",
    "\n",
    "* Once the query is executed, we can fetch the results using the fetchall() method of the cursor object. This method returns a list of tuples containing the rows fetched from the database.\n",
    "\n",
    "* Finally, we iterate over the results and print them using a for loop.\n",
    "\n",
    "* Overall , the cursor() method creates a cursor object that can be used to execute SQL queries, and the execute() method is used to execute an SQL statement passed as a parameter to the cursor object."
   ]
  },
  {
   "cell_type": "markdown",
   "id": "483e5b69-edf7-45a3-910c-82d93dac8da4",
   "metadata": {},
   "source": [
    "7. Give the order of execution of SQL clauses in an SQL query."
   ]
  },
  {
   "cell_type": "markdown",
   "id": "9917f93d-45e5-4e0e-8e76-cdd0c50e2b08",
   "metadata": {},
   "source": [
    "> The order of execution of SQL clauses in an SQL query is as follows:\n",
    "\n",
    "* FROM clause: It specifies the tables from which the data is to be retrieved.\n",
    "* WHERE clause: It filters the data based on certain conditions specified.\n",
    "* GROUP BY clause: It groups the data based on the specified columns.\n",
    "* HAVING clause: It filters the data based on conditions on groups created by the GROUP BY clause.\n",
    "* SELECT clause: It selects the columns to be retrieved.\n",
    "* ORDER BY clause: It sorts the result set based on specified columns.\n",
    "* LIMIT/OFFSET clause: It limits the number of rows to be retrieved or specifies the starting point for retrieval.\n"
   ]
  }
 ],
 "metadata": {
  "kernelspec": {
   "display_name": "Python 3 (ipykernel)",
   "language": "python",
   "name": "python3"
  },
  "language_info": {
   "codemirror_mode": {
    "name": "ipython",
    "version": 3
   },
   "file_extension": ".py",
   "mimetype": "text/x-python",
   "name": "python",
   "nbconvert_exporter": "python",
   "pygments_lexer": "ipython3",
   "version": "3.10.8"
  }
 },
 "nbformat": 4,
 "nbformat_minor": 5
}
