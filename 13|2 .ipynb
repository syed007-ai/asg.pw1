{
 "cells": [
  {
   "cell_type": "markdown",
   "id": "c3a4d1d1-5697-4466-882c-72e8bf731a58",
   "metadata": {},
   "source": [
    "1. Explain why we have to use the Exception class while creating a Custom Exception.\n",
    "Note: Here Exception class refers to the base class for all the exceptions."
   ]
  },
  {
   "cell_type": "markdown",
   "id": "284ca308-a2e7-4d1b-afdc-cd5fee74ad57",
   "metadata": {},
   "source": [
    "> we have to use the custom exception because sometimes the super Excception class doesn't catch the error and pass it as a success case and executes the code with a user i/p error."
   ]
  },
  {
   "cell_type": "markdown",
   "id": "4e089bc5-8dac-4f13-995c-025070b588d6",
   "metadata": {},
   "source": [
    ">> It's like if you want to build a new type of car, you would start with a basic car design and then add your own unique features to it. Similarly, by using the Exception class as a base, you can build your own custom error with your own unique properties.\n",
    "eg :"
   ]
  },
  {
   "cell_type": "code",
   "execution_count": 2,
   "id": "2998d08e-cc03-4e2a-b095-49a450423197",
   "metadata": {},
   "outputs": [
    {
     "name": "stdin",
     "output_type": "stream",
     "text": [
      "enter age :  -81\n"
     ]
    }
   ],
   "source": [
    "try :\n",
    "    age = int(input(\"enter age : \"))\n",
    "except Exception as e :\n",
    "    print(e)"
   ]
  },
  {
   "cell_type": "code",
   "execution_count": 3,
   "id": "c582fb7d-1b44-4522-b43e-39bc44b8e83a",
   "metadata": {},
   "outputs": [],
   "source": [
    "# to fix this error , we create custom exception class "
   ]
  },
  {
   "cell_type": "code",
   "execution_count": 11,
   "id": "31787834-44ba-425d-b928-79a4e1ce9457",
   "metadata": {},
   "outputs": [],
   "source": [
    "class validateage (Exception) :\n",
    "    \n",
    "    def __init__(ob , msg) :\n",
    "         ob.msg = msg"
   ]
  },
  {
   "cell_type": "code",
   "execution_count": 12,
   "id": "d103be2b-d4a9-40bd-adb6-6667c251ef97",
   "metadata": {},
   "outputs": [],
   "source": [
    "def validateage1 (Exception) :\n",
    "    \n",
    "    if age <= 0 :\n",
    "        raise validateage(\" Please enter valid age \")\n",
    "    elif age > 200 :\n",
    "        raise validateage(\" Please enter valid age \")\n",
    "    else :\n",
    "        print(\"thank you \")"
   ]
  },
  {
   "cell_type": "code",
   "execution_count": 13,
   "id": "ac82dc43-b9b8-4ef9-9e24-74e9c69201eb",
   "metadata": {},
   "outputs": [
    {
     "name": "stdin",
     "output_type": "stream",
     "text": [
      "enter age :  -98\n"
     ]
    },
    {
     "name": "stdout",
     "output_type": "stream",
     "text": [
      " Please enter valid age \n"
     ]
    }
   ],
   "source": [
    "try : \n",
    "    age = int(input('enter age : '))\n",
    "    validateage1(age)\n",
    "except validateage as v :\n",
    "        print(v)\n",
    "else :\n",
    "    print(\"your age is recorded\")\n",
    "              "
   ]
  },
  {
   "cell_type": "markdown",
   "id": "8ffd93a5-4772-4bab-806e-9e24bd532fb2",
   "metadata": {},
   "source": [
    "> hence this way custom handling works out."
   ]
  },
  {
   "cell_type": "markdown",
   "id": "c4e6b87a-ab75-4877-a321-b7be3b0df10e",
   "metadata": {},
   "source": [
    "2. Write a python program to print Python Exception Hierarchy."
   ]
  },
  {
   "cell_type": "code",
   "execution_count": 17,
   "id": "0dbdc7e7-9772-48c5-8c1d-2e7e84eb064a",
   "metadata": {},
   "outputs": [
    {
     "name": "stdout",
     "output_type": "stream",
     "text": [
      "Exception\n",
      "    TypeError\n",
      "    StopAsyncIteration\n",
      "    StopIteration\n",
      "    ImportError\n",
      "    OSError\n",
      "    EOFError\n",
      "    RuntimeError\n",
      "    NameError\n",
      "    AttributeError\n",
      "    SyntaxError\n",
      "    LookupError\n",
      "    ValueError\n",
      "    AssertionError\n",
      "    ArithmeticError\n",
      "    SystemError\n",
      "    ReferenceError\n",
      "    MemoryError\n",
      "    BufferError\n",
      "    Warning\n",
      "    _OptionError\n",
      "    _Error\n",
      "    error\n",
      "    Verbose\n",
      "    Error\n",
      "    SubprocessError\n",
      "    TokenError\n",
      "    StopTokenizing\n",
      "    ClassFoundException\n",
      "    EndOfBlock\n",
      "    TraitError\n",
      "    Error\n",
      "    Error\n",
      "    _GiveupOnSendfile\n",
      "    error\n",
      "    Incomplete\n",
      "    TimeoutError\n",
      "    InvalidStateError\n",
      "    LimitOverrunError\n",
      "    QueueEmpty\n",
      "    QueueFull\n",
      "    Empty\n",
      "    Full\n",
      "    ArgumentError\n",
      "    ZMQBaseError\n",
      "    PickleError\n",
      "    _Stop\n",
      "    ArgumentError\n",
      "    ArgumentTypeError\n",
      "    ConfigError\n",
      "    ConfigurableError\n",
      "    ApplicationError\n",
      "    error\n",
      "    TimeoutError\n",
      "    error\n",
      "    ReturnValueIgnoredError\n",
      "    KeyReuseError\n",
      "    UnknownKeyError\n",
      "    LeakedCallbackError\n",
      "    BadYieldError\n",
      "    ReturnValueIgnoredError\n",
      "    Return\n",
      "    InvalidPortNumber\n",
      "    error\n",
      "    LZMAError\n",
      "    RegistryError\n",
      "    _GiveupOnFastCopy\n",
      "    Error\n",
      "    NoIPAddresses\n",
      "    BadZipFile\n",
      "    LargeZipFile\n",
      "    BadEntryPoint\n",
      "    NoSuchEntryPoint\n",
      "    DuplicateKernelError\n",
      "    ErrorDuringImport\n",
      "    NotOneValueFound\n",
      "    CannotEval\n",
      "    OptionError\n",
      "    BdbQuit\n",
      "    Restart\n",
      "    ExceptionPexpect\n",
      "    PtyProcessError\n",
      "    FindCmdError\n",
      "    HomeDirError\n",
      "    ProfileDirError\n",
      "    IPythonCoreError\n",
      "    InputRejected\n",
      "    GetoptError\n",
      "    ErrorToken\n",
      "    PrefilterError\n",
      "    AliasError\n",
      "    Error\n",
      "    Warning\n",
      "    SpaceInInput\n",
      "    DOMException\n",
      "    ValidationError\n",
      "    EditReadOnlyBuffer\n",
      "    _Retry\n",
      "    InvalidLayoutError\n",
      "    HeightIsUnknownError\n",
      "    ParserSyntaxError\n",
      "    InternalParseError\n",
      "    _PositionUpdatingFinished\n",
      "    SimpleGetItemNotFound\n",
      "    UncaughtAttributeError\n",
      "    HasNoContext\n",
      "    ParamIssue\n",
      "    _JediError\n",
      "    OnErrorLeaf\n",
      "    InvalidPythonEnvironment\n",
      "    MessageError\n",
      "    Error\n",
      "    HTTPException\n",
      "    InteractivelyDefined\n",
      "    KillEmbedded\n",
      "    Error\n",
      "    _Ipv6UnsupportedError\n",
      "    QueueEmpty\n",
      "    QueueFull\n",
      "    DebuggerInitializationError\n",
      "    ExpatError\n",
      "    Error\n",
      "    ParseBaseException\n",
      "    RecursiveGrammarException\n",
      "    ResolutionError\n",
      "    _Error\n",
      "    UnableToResolveVariableException\n",
      "    InvalidTypeInArgsException\n",
      "    validateage\n",
      "GeneratorExit\n",
      "SystemExit\n",
      "KeyboardInterrupt\n",
      "CancelledError\n",
      "AbortThread\n"
     ]
    }
   ],
   "source": [
    "for cls in BaseException.__subclasses__():\n",
    "    print(cls.__name__)\n",
    "    for sub_cls in cls.__subclasses__():\n",
    "        print(f\"    {sub_cls.__name__}\")"
   ]
  },
  {
   "cell_type": "markdown",
   "id": "64147ee5-72e2-4d38-acff-664d02cc9d53",
   "metadata": {},
   "source": [
    "* Think of hierarchy as a plate of biryani. At the bottom of the plate, you have the rice, which is the base class. On top of the rice, you have the meat or vegetables, which are the direct subclasses of the base class. And on top of the meat or vegetables, you have the garnishes and spices, which are the subclasses of the direct subclasses.\n",
    "\n",
    "\n",
    "* So, the rice is the foundation of the biryani, just like the base class is the foundation of the hierarchy. The meat or vegetables are like the direct subclasses, which add flavor and variety to the dish just as the direct subclasses add more functionality to the base class. And the garnishes and spices are like the subclasses of the direct subclasses, which are even more specific and add unique characteristics to the dish just as the subclasses of the direct subclasses provide even more specialized functionality.\n",
    "\n",
    "* Just like a delicious plate of biryani can be built by layering different ingredients on top of each other, a hierarchy of exceptions in Python can be built by layering subclasses on top of each other.\n",
    "\n",
    "\n"
   ]
  },
  {
   "cell_type": "markdown",
   "id": "78e88170-5026-471c-ae4b-af99a2355b34",
   "metadata": {},
   "source": [
    "3. What errors are defined in the ArithmeticError class? Explain any two with an example "
   ]
  },
  {
   "cell_type": "markdown",
   "id": "f84d6c2b-88cb-4d09-b9b9-f584f7281af5",
   "metadata": {},
   "source": [
    "* The ArithmeticError class in Python is a base class for all errors related to arithmetic operations. It includes errors such as ZeroDivisionError, OverflowError, and FloatingPointError"
   ]
  },
  {
   "cell_type": "code",
   "execution_count": 18,
   "id": "c97c17dd-dccf-460a-baea-9d5b66762f27",
   "metadata": {},
   "outputs": [
    {
     "ename": "ZeroDivisionError",
     "evalue": "division by zero",
     "output_type": "error",
     "traceback": [
      "\u001b[0;31m---------------------------------------------------------------------------\u001b[0m",
      "\u001b[0;31mZeroDivisionError\u001b[0m                         Traceback (most recent call last)",
      "Cell \u001b[0;32mIn[18], line 1\u001b[0m\n\u001b[0;32m----> 1\u001b[0m \u001b[38;5;241;43m100\u001b[39;49m\u001b[38;5;241;43m/\u001b[39;49m\u001b[38;5;241;43m0\u001b[39;49m\n",
      "\u001b[0;31mZeroDivisionError\u001b[0m: division by zero"
     ]
    }
   ],
   "source": [
    "#eg :\n",
    "100/0"
   ]
  },
  {
   "cell_type": "code",
   "execution_count": 23,
   "id": "367f5ccb-85ff-480e-903d-d2c280774722",
   "metadata": {},
   "outputs": [
    {
     "ename": "ValueError",
     "evalue": "Exceeds the limit (4300) for integer string conversion; use sys.set_int_max_str_digits() to increase the limit",
     "output_type": "error",
     "traceback": [
      "\u001b[0;31m---------------------------------------------------------------------------\u001b[0m",
      "\u001b[0;31mValueError\u001b[0m                                Traceback (most recent call last)",
      "File \u001b[0;32m/opt/conda/lib/python3.10/site-packages/IPython/core/formatters.py:706\u001b[0m, in \u001b[0;36mPlainTextFormatter.__call__\u001b[0;34m(self, obj)\u001b[0m\n\u001b[1;32m    699\u001b[0m stream \u001b[38;5;241m=\u001b[39m StringIO()\n\u001b[1;32m    700\u001b[0m printer \u001b[38;5;241m=\u001b[39m pretty\u001b[38;5;241m.\u001b[39mRepresentationPrinter(stream, \u001b[38;5;28mself\u001b[39m\u001b[38;5;241m.\u001b[39mverbose,\n\u001b[1;32m    701\u001b[0m     \u001b[38;5;28mself\u001b[39m\u001b[38;5;241m.\u001b[39mmax_width, \u001b[38;5;28mself\u001b[39m\u001b[38;5;241m.\u001b[39mnewline,\n\u001b[1;32m    702\u001b[0m     max_seq_length\u001b[38;5;241m=\u001b[39m\u001b[38;5;28mself\u001b[39m\u001b[38;5;241m.\u001b[39mmax_seq_length,\n\u001b[1;32m    703\u001b[0m     singleton_pprinters\u001b[38;5;241m=\u001b[39m\u001b[38;5;28mself\u001b[39m\u001b[38;5;241m.\u001b[39msingleton_printers,\n\u001b[1;32m    704\u001b[0m     type_pprinters\u001b[38;5;241m=\u001b[39m\u001b[38;5;28mself\u001b[39m\u001b[38;5;241m.\u001b[39mtype_printers,\n\u001b[1;32m    705\u001b[0m     deferred_pprinters\u001b[38;5;241m=\u001b[39m\u001b[38;5;28mself\u001b[39m\u001b[38;5;241m.\u001b[39mdeferred_printers)\n\u001b[0;32m--> 706\u001b[0m \u001b[43mprinter\u001b[49m\u001b[38;5;241;43m.\u001b[39;49m\u001b[43mpretty\u001b[49m\u001b[43m(\u001b[49m\u001b[43mobj\u001b[49m\u001b[43m)\u001b[49m\n\u001b[1;32m    707\u001b[0m printer\u001b[38;5;241m.\u001b[39mflush()\n\u001b[1;32m    708\u001b[0m \u001b[38;5;28;01mreturn\u001b[39;00m stream\u001b[38;5;241m.\u001b[39mgetvalue()\n",
      "File \u001b[0;32m/opt/conda/lib/python3.10/site-packages/IPython/lib/pretty.py:393\u001b[0m, in \u001b[0;36mRepresentationPrinter.pretty\u001b[0;34m(self, obj)\u001b[0m\n\u001b[1;32m    390\u001b[0m \u001b[38;5;28;01mfor\u001b[39;00m \u001b[38;5;28mcls\u001b[39m \u001b[38;5;129;01min\u001b[39;00m _get_mro(obj_class):\n\u001b[1;32m    391\u001b[0m     \u001b[38;5;28;01mif\u001b[39;00m \u001b[38;5;28mcls\u001b[39m \u001b[38;5;129;01min\u001b[39;00m \u001b[38;5;28mself\u001b[39m\u001b[38;5;241m.\u001b[39mtype_pprinters:\n\u001b[1;32m    392\u001b[0m         \u001b[38;5;66;03m# printer registered in self.type_pprinters\u001b[39;00m\n\u001b[0;32m--> 393\u001b[0m         \u001b[38;5;28;01mreturn\u001b[39;00m \u001b[38;5;28;43mself\u001b[39;49m\u001b[38;5;241;43m.\u001b[39;49m\u001b[43mtype_pprinters\u001b[49m\u001b[43m[\u001b[49m\u001b[38;5;28;43mcls\u001b[39;49m\u001b[43m]\u001b[49m\u001b[43m(\u001b[49m\u001b[43mobj\u001b[49m\u001b[43m,\u001b[49m\u001b[43m \u001b[49m\u001b[38;5;28;43mself\u001b[39;49m\u001b[43m,\u001b[49m\u001b[43m \u001b[49m\u001b[43mcycle\u001b[49m\u001b[43m)\u001b[49m\n\u001b[1;32m    394\u001b[0m     \u001b[38;5;28;01melse\u001b[39;00m:\n\u001b[1;32m    395\u001b[0m         \u001b[38;5;66;03m# deferred printer\u001b[39;00m\n\u001b[1;32m    396\u001b[0m         printer \u001b[38;5;241m=\u001b[39m \u001b[38;5;28mself\u001b[39m\u001b[38;5;241m.\u001b[39m_in_deferred_types(\u001b[38;5;28mcls\u001b[39m)\n",
      "File \u001b[0;32m/opt/conda/lib/python3.10/site-packages/IPython/lib/pretty.py:778\u001b[0m, in \u001b[0;36m_repr_pprint\u001b[0;34m(obj, p, cycle)\u001b[0m\n\u001b[1;32m    776\u001b[0m \u001b[38;5;124;03m\"\"\"A pprint that just redirects to the normal repr function.\"\"\"\u001b[39;00m\n\u001b[1;32m    777\u001b[0m \u001b[38;5;66;03m# Find newlines and replace them with p.break_()\u001b[39;00m\n\u001b[0;32m--> 778\u001b[0m output \u001b[38;5;241m=\u001b[39m \u001b[38;5;28;43mrepr\u001b[39;49m\u001b[43m(\u001b[49m\u001b[43mobj\u001b[49m\u001b[43m)\u001b[49m\n\u001b[1;32m    779\u001b[0m lines \u001b[38;5;241m=\u001b[39m output\u001b[38;5;241m.\u001b[39msplitlines()\n\u001b[1;32m    780\u001b[0m \u001b[38;5;28;01mwith\u001b[39;00m p\u001b[38;5;241m.\u001b[39mgroup():\n",
      "\u001b[0;31mValueError\u001b[0m: Exceeds the limit (4300) for integer string conversion; use sys.set_int_max_str_digits() to increase the limit"
     ]
    }
   ],
   "source": [
    "#eg :\n",
    "a = 10 ** 10000\n",
    "a"
   ]
  },
  {
   "cell_type": "code",
   "execution_count": 27,
   "id": "15efbd48-bc09-402d-a42c-d0db44def2d9",
   "metadata": {},
   "outputs": [
    {
     "ename": "ZeroDivisionError",
     "evalue": "float division by zero",
     "output_type": "error",
     "traceback": [
      "\u001b[0;31m---------------------------------------------------------------------------\u001b[0m",
      "\u001b[0;31mZeroDivisionError\u001b[0m                         Traceback (most recent call last)",
      "Cell \u001b[0;32mIn[27], line 2\u001b[0m\n\u001b[1;32m      1\u001b[0m \u001b[38;5;66;03m#eg :\u001b[39;00m\n\u001b[0;32m----> 2\u001b[0m \u001b[38;5;241;43m10.0\u001b[39;49m\u001b[38;5;241;43m/\u001b[39;49m\u001b[38;5;241;43m0.0\u001b[39;49m\n",
      "\u001b[0;31mZeroDivisionError\u001b[0m: float division by zero"
     ]
    }
   ],
   "source": [
    "#eg :\n",
    "10.0/0.0"
   ]
  },
  {
   "cell_type": "markdown",
   "id": "b8d982be-a03d-4720-b8be-263721ec531b",
   "metadata": {},
   "source": [
    "4. Why LookupError class is used? Explain with an example KeyError and IndexError."
   ]
  },
  {
   "cell_type": "markdown",
   "id": "51b77a97-cf7f-4de0-8d56-d5a95fb84e92",
   "metadata": {},
   "source": [
    "> lookup error is used at times when index or key errors get raised."
   ]
  },
  {
   "cell_type": "markdown",
   "id": "ce294516-ff9b-40dd-8b74-3a9c200d4414",
   "metadata": {},
   "source": [
    "LookupError class is a base class for errors that occur when a key or index is not found in a sequence or mapping. It includes errors such as KeyError, IndexError, and ValueError"
   ]
  },
  {
   "cell_type": "code",
   "execution_count": 34,
   "id": "8d8c5777-9bd4-4033-b490-c61453a07086",
   "metadata": {},
   "outputs": [
    {
     "ename": "KeyError",
     "evalue": "3",
     "output_type": "error",
     "traceback": [
      "\u001b[0;31m---------------------------------------------------------------------------\u001b[0m",
      "\u001b[0;31mKeyError\u001b[0m                                  Traceback (most recent call last)",
      "Cell \u001b[0;32mIn[34], line 2\u001b[0m\n\u001b[1;32m      1\u001b[0m my_dict \u001b[38;5;241m=\u001b[39m {\u001b[38;5;241m1\u001b[39m : \u001b[38;5;124m\"\u001b[39m\u001b[38;5;124mmallesh\u001b[39m\u001b[38;5;124m\"\u001b[39m , \u001b[38;5;241m2\u001b[39m:\u001b[38;5;124m\"\u001b[39m\u001b[38;5;124msuresh\u001b[39m\u001b[38;5;124m\"\u001b[39m}\n\u001b[0;32m----> 2\u001b[0m value \u001b[38;5;241m=\u001b[39m \u001b[43mmy_dict\u001b[49m\u001b[43m[\u001b[49m\u001b[38;5;241;43m3\u001b[39;49m\u001b[43m]\u001b[49m\n",
      "\u001b[0;31mKeyError\u001b[0m: 3"
     ]
    }
   ],
   "source": [
    "my_dict = {1 : \"mallesh\" , 2:\"suresh\"}\n",
    "value = my_dict[3]\n"
   ]
  },
  {
   "cell_type": "code",
   "execution_count": 35,
   "id": "00211e4f-a92d-4288-9e95-2615af5aebbc",
   "metadata": {},
   "outputs": [
    {
     "ename": "IndexError",
     "evalue": "list index out of range",
     "output_type": "error",
     "traceback": [
      "\u001b[0;31m---------------------------------------------------------------------------\u001b[0m",
      "\u001b[0;31mIndexError\u001b[0m                                Traceback (most recent call last)",
      "Cell \u001b[0;32mIn[35], line 2\u001b[0m\n\u001b[1;32m      1\u001b[0m my_list \u001b[38;5;241m=\u001b[39m [\u001b[38;5;124m\"\u001b[39m\u001b[38;5;124mmallesh\u001b[39m\u001b[38;5;124m\"\u001b[39m , \u001b[38;5;124m\"\u001b[39m\u001b[38;5;124msuresh \u001b[39m\u001b[38;5;124m\"\u001b[39m , \u001b[38;5;124m\"\u001b[39m\u001b[38;5;124mnaidu\u001b[39m\u001b[38;5;124m\"\u001b[39m]\n\u001b[0;32m----> 2\u001b[0m \u001b[38;5;28mprint\u001b[39m(\u001b[43mmy_list\u001b[49m\u001b[43m[\u001b[49m\u001b[38;5;241;43m3\u001b[39;49m\u001b[43m]\u001b[49m)\n",
      "\u001b[0;31mIndexError\u001b[0m: list index out of range"
     ]
    }
   ],
   "source": [
    "my_list = [\"mallesh\" , \"suresh \" , \"naidu\"]\n",
    "print(my_list[3])"
   ]
  },
  {
   "cell_type": "markdown",
   "id": "341ad3aa-c418-4d15-9093-53c55dfe2dd6",
   "metadata": {},
   "source": [
    "5. Explain ImportError. What is ModuleNotFoundError?"
   ]
  },
  {
   "cell_type": "code",
   "execution_count": 37,
   "id": "50355a3b-8d76-429e-83fe-653fd22d28e9",
   "metadata": {},
   "outputs": [
    {
     "ename": "ModuleNotFoundError",
     "evalue": "No module named 'stark'",
     "output_type": "error",
     "traceback": [
      "\u001b[0;31m---------------------------------------------------------------------------\u001b[0m",
      "\u001b[0;31mModuleNotFoundError\u001b[0m                       Traceback (most recent call last)",
      "Cell \u001b[0;32mIn[37], line 1\u001b[0m\n\u001b[0;32m----> 1\u001b[0m \u001b[38;5;28;01mimport\u001b[39;00m \u001b[38;5;21;01mstark\u001b[39;00m\n",
      "\u001b[0;31mModuleNotFoundError\u001b[0m: No module named 'stark'"
     ]
    }
   ],
   "source": [
    "import stark"
   ]
  },
  {
   "cell_type": "markdown",
   "id": "2ff0d5ea-5dfe-4eaf-990f-06600ea456e7",
   "metadata": {},
   "source": [
    "ImportError is a general exception that is raised when an imported module or attribute cannot be found, while ModuleNotFoundError is a more specific exception that is raised when a module or package cannot be found."
   ]
  },
  {
   "cell_type": "markdown",
   "id": "b9081038-f607-4b9a-baa5-073f5b1d0d03",
   "metadata": {},
   "source": [
    "6. List down some best practices for exception handling in python."
   ]
  },
  {
   "cell_type": "raw",
   "id": "bb13ebdc-01c1-452f-ab30-383796302c5b",
   "metadata": {},
   "source": [
    "* Catch only the exceptions you know how to handle: Avoid catching every exception in a single try-except block, as this can make it harder to debug errors. Instead, catch only the specific exceptions that you know how to handle.\n",
    "* Use multiple except blocks: When catching multiple exceptions, use separate except blocks for each exception. This makes it clear which exceptions are being caught and how they are being handled.\n",
    "* Handle exceptions at the appropriate level: Catch exceptions at the appropriate level in your code, such as in functions or methods, rather than catching them at the top-level of your application. This can help you avoid masking errors and make it easier to identify the source of the error.\n",
    "* Use the finally block for cleanup code: Use the finally block to execute cleanup code, such as closing files or releasing resources, regardless of whether an exception was raised or not.\n",
    "* Be specific with exception messages: Use descriptive and specific error messages when raising and catching exceptions. This can help with debugging and make it easier to identify the cause of the error.\n",
    "* Use built-in exception classes when possible: Use built-in exception classes when possible, rather than defining custom exceptions. This can help make your code more readable and make it easier for others to understand your code.\n",
    "* Avoid catching Exception: Avoid catching the Exception class, as this can catch too many exceptions and mask errors. Instead, catch only the specific exceptions that you know how to handle.\n",
    "* Log exceptions: Use logging to log exceptions, along with other useful information such as the stack trace, to help with debugging and diagnosing issues"
   ]
  },
  {
   "cell_type": "markdown",
   "id": "bb9756f3-c054-4ed5-adc5-068642f6da46",
   "metadata": {},
   "source": [
    "* Only catch exceptions that you know how to handle: Don't try to catch every error, just the ones you're prepared to deal with.\n",
    "* Use different blocks for different exceptions: Separate out the different types of errors you're catching, so you can handle each one in a different way.\n",
    "* Handle exceptions at the right place: If an error happens inside a function, catch it inside that function, not outside it.\n",
    "* Use the \"finally\" block: This block of code will always be executed, whether or not an error occurs. Use it to clean up resources, like files or network connections.\n",
    "* Be specific with error messages: When you raise an exception, make sure the message is clear and specific, so you know exactly what went wrong.\n",
    "* Use built-in exceptions when possible: Instead of creating your own custom exceptions, use the ones that come with Python. This makes your code more readable and easier to understand.\n",
    "* Avoid catching too many exceptions: Only catch the errors you expect and know how to deal with. Don't try to catch everything, or you'll make it harder to debug your code.\n",
    "* Log your exceptions: Use logging to keep track of the errors your program encounters. This will help you figure out what went wrong and how to fix it.\n"
   ]
  }
 ],
 "metadata": {
  "kernelspec": {
   "display_name": "Python 3 (ipykernel)",
   "language": "python",
   "name": "python3"
  },
  "language_info": {
   "codemirror_mode": {
    "name": "ipython",
    "version": 3
   },
   "file_extension": ".py",
   "mimetype": "text/x-python",
   "name": "python",
   "nbconvert_exporter": "python",
   "pygments_lexer": "ipython3",
   "version": "3.10.8"
  }
 },
 "nbformat": 4,
 "nbformat_minor": 5
}
