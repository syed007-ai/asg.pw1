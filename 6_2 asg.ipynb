{
 "cells": [
  {
   "cell_type": "raw",
   "id": "07b8e93e-3090-4321-b8b7-b246ea76b793",
   "metadata": {},
   "source": [
    "Create a function which will take a list as an argument and return the product of all the numbers\n",
    "after creating a flat list.\n",
    "Use the below-given list as an argument for your function.\n",
    "list1 = [1,2,3,4, [44,55,66, True], False, (34,56,78,89,34), {1,2,3,3,2,1}, {1:34, \"key2\": [55, 67, 78, 89], 4: (45,22, 61, 34)}, [56, 'data science'], 'Machine Learning']\n",
    "Note: you must extract numeric keys and values of the dictionary also."
   ]
  },
  {
   "cell_type": "code",
   "execution_count": 8,
   "id": "fed7c2dd-2851-485e-b2fc-a359f917c45f",
   "metadata": {},
   "outputs": [
    {
     "name": "stdout",
     "output_type": "stream",
     "text": [
      "('The product of all the numbers in the given list is', 858654720)\n"
     ]
    }
   ],
   "source": [
    "def prod(l):\n",
    "    l1= []\n",
    "    product = 1\n",
    "    for i in l :\n",
    "        if type(i) == list or type(i) == dict : #only covers list. \n",
    "            for j in i :\n",
    "                if type(j) == int or type(j) == float :\n",
    "                    product = product * j\n",
    "        else : \n",
    "            if type(i) == int or type(i) == float :\n",
    "                product = product * i\n",
    "    l1.append(prod)\n",
    "    return (\"The product of all the numbers in the given list is\",product)\n",
    "list1 = [1,2,3,4, [44,55,66, True], False, (34,56,78,89,34), {1,2,3,3,2,1},\n",
    "         {1:34, \"key2\": [55, 67, 78, 89], 4: (45,22, 61, 34)}, [56, 'data science'], 'Machine Learning']\n",
    "print(prod(list1))\n",
    "                "
   ]
  },
  {
   "cell_type": "code",
   "execution_count": 6,
   "id": "945ccf86-1f59-42e8-8e3b-3aa0e048c205",
   "metadata": {},
   "outputs": [
    {
     "name": "stdout",
     "output_type": "stream",
     "text": [
      "('The product of all the numbers in the given list is', 385877123104112640)\n"
     ]
    }
   ],
   "source": [
    "def prod(l):\n",
    "    l1= []\n",
    "    product = 1\n",
    "    for i in l :\n",
    "        if type(i) == list or type(i) == dict :\n",
    "            for j in i :\n",
    "                if type(j) == int or type(j) == float :\n",
    "                    product = product * j\n",
    "        elif type(i) == dict :\n",
    "            for k,v in i.items():\n",
    "                if type(k) == int or type(k) == float:\n",
    "                    product = product* k\n",
    "                if type(v) == int or type(v) == float :\n",
    "                    product = product*v\n",
    "        elif type(i) == tuple :\n",
    "            for t in i :\n",
    "                product = product*t    \n",
    "        else : \n",
    "            if type(i) == int or type(i) == float :\n",
    "                product = product * i\n",
    "    l1.append(product)\n",
    "    return (\"The product of all the numbers in the given list is\",product)\n",
    "list1 = [1,2,3,4, [44,55,66, True], False, (34,56,78,89,34), {1,2,3,3,2,1},\n",
    "         {1:34, \"key2\": [55, 67, 78, 89], 4: (45,22, 61, 34)}, [56, 'data science'], 'Machine Learning']\n",
    "print(prod(list1))"
   ]
  },
  {
   "cell_type": "raw",
   "id": "9afbf35f-f55a-4438-ac8f-fd3c05f882c7",
   "metadata": {},
   "source": [
    "Q2. Write a python program for encrypting a message sent to you by your friend. The logic of encryption\n",
    "should be such that, for a the output should be z. For b, the output should be y. For c, the output should\n",
    "be x respectively. Also, the whitespace should be replaced with a dollar sign. Keep the punctuation\n",
    "marks unchanged.\n",
    "Input Sentence: I want to become a Data Scientist.\n",
    "Encrypt the above input sentence using the program you just created.\n",
    "Note: Convert the given input sentence into lowercase before encrypting. The final output should be\n",
    "lowercase."
   ]
  },
  {
   "cell_type": "code",
   "execution_count": 16,
   "id": "b1542b3f-d9d1-405d-b51e-7d7efbb785ec",
   "metadata": {},
   "outputs": [
    {
     "data": {
      "text/plain": [
       "'r$dzmg$gl$yvxlnv$z$wzgz$hxrvmgrhg.'"
      ]
     },
     "execution_count": 16,
     "metadata": {},
     "output_type": "execute_result"
    }
   ],
   "source": [
    "def encrypt(s) :\n",
    "    encrypted_msg = \"\"\n",
    "    encryption_mapping = {\n",
    "        'a': 'z',\n",
    "        'b': 'y',\n",
    "        'c': 'x',\n",
    "        'd': 'w',\n",
    "        'e': 'v',\n",
    "        'f': 'u',\n",
    "        'g': 't',\n",
    "        'h': 's',\n",
    "        'i': 'r',\n",
    "        'j': 'q',\n",
    "        'k': 'p',\n",
    "        'l': 'o',\n",
    "        'm': 'n',\n",
    "        'n': 'm',\n",
    "        'o': 'l',\n",
    "        'p': 'k',\n",
    "        'q': 'j',\n",
    "        'r': 'i',\n",
    "        's': 'h',\n",
    "        't': 'g',\n",
    "        'u': 'f',\n",
    "        'v': 'e',\n",
    "        'w': 'd',\n",
    "        'x': 'c',\n",
    "        'y': 'b',\n",
    "        'z': 'a',\n",
    "        \n",
    "    }\n",
    "    s = s.lower()\n",
    "    for char in s :\n",
    "        if char.isalpha() : \n",
    "            encrypted_msg += encryption_mapping[char]\n",
    "        elif char == \" \" :\n",
    "            encrypted_msg += \"$\"\n",
    "        else :\n",
    "            encrypted_msg += char\n",
    "    return encrypted_msg        \n",
    "s = \"I Want To Become A Data Scientist.\"\n",
    "encrypt(s)"
   ]
  },
  {
   "cell_type": "code",
   "execution_count": 19,
   "id": "85a31a01-8612-4580-a1ba-4218ce18eb4f",
   "metadata": {},
   "outputs": [
    {
     "data": {
      "text/plain": [
       "24808271033922512873003047452672000"
      ]
     },
     "execution_count": 19,
     "metadata": {},
     "output_type": "execute_result"
    }
   ],
   "source": [
    "l =  [1,2,3,4,44,55,66,34,56,78,89,34,1,2,3,3,2,1,1,34,55, 67, 78, 89, 4, 45,22, 61, 34,56]\n",
    "from functools import reduce \n",
    "reduce(lambda x,y : x*y , l)\n"
   ]
  },
  {
   "cell_type": "code",
   "execution_count": 20,
   "id": "30e2ec6a-e5dc-4f79-a3f6-6a85b51296fa",
   "metadata": {},
   "outputs": [
    {
     "data": {
      "text/plain": [
       "24808271033922512873003047452672000"
      ]
     },
     "execution_count": 20,
     "metadata": {},
     "output_type": "execute_result"
    }
   ],
   "source": [
    "prod = 1\n",
    "for i in l :\n",
    "    prod*=i\n",
    "prod    "
   ]
  },
  {
   "cell_type": "code",
   "execution_count": 31,
   "id": "ac683073-2aa5-46cf-b173-31cbed2c5fa4",
   "metadata": {},
   "outputs": [
    {
     "data": {
      "text/plain": [
       "24"
      ]
     },
     "execution_count": 31,
     "metadata": {},
     "output_type": "execute_result"
    }
   ],
   "source": [
    "l2 = [1,2,(3,4)]\n",
    "prod = 1\n",
    "for i in l2 :\n",
    "    if type(i) == tuple :\n",
    "        for j in i :\n",
    "            prod *= j\n",
    "    else :\n",
    "        prod = prod * i\n",
    "prod        "
   ]
  },
  {
   "cell_type": "code",
   "execution_count": null,
   "id": "91a85c7f-e0c8-4ef4-b58c-f11feba94c2a",
   "metadata": {},
   "outputs": [],
   "source": []
  }
 ],
 "metadata": {
  "kernelspec": {
   "display_name": "Python 3 (ipykernel)",
   "language": "python",
   "name": "python3"
  },
  "language_info": {
   "codemirror_mode": {
    "name": "ipython",
    "version": 3
   },
   "file_extension": ".py",
   "mimetype": "text/x-python",
   "name": "python",
   "nbconvert_exporter": "python",
   "pygments_lexer": "ipython3",
   "version": "3.10.8"
  }
 },
 "nbformat": 4,
 "nbformat_minor": 5
}
