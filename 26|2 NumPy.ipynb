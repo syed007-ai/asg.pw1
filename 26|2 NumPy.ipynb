{
 "cells": [
  {
   "cell_type": "code",
   "execution_count": 20,
   "id": "6b3afead-c052-49db-b6ce-9d95decd1879",
   "metadata": {},
   "outputs": [],
   "source": [
    "import numpy as np"
   ]
  },
  {
   "cell_type": "code",
   "execution_count": 23,
   "id": "2137cb6f-e380-4c0e-b45d-b3c95d1277df",
   "metadata": {},
   "outputs": [],
   "source": [
    "list_ = [ '1' , '2' , '3' ,'4' , '5' ]\n",
    "array_list = np.array(object = list_)"
   ]
  },
  {
   "cell_type": "markdown",
   "id": "50655d13-3778-4926-b9b4-1419cf99e051",
   "metadata": {},
   "source": [
    "1. Is there any difference in the data type of variables list_ and array_list? If there is then write a code to print the data types of both the variables."
   ]
  },
  {
   "cell_type": "markdown",
   "id": "b16f5777-da9b-4dd8-bddd-95178e9a0082",
   "metadata": {},
   "source": [
    "> yes, there's a difference between the data type of list_ and array_list variables. \n",
    "* list_ is a python list, while array_list is a Numpy array."
   ]
  },
  {
   "cell_type": "code",
   "execution_count": 8,
   "id": "846e0180-93c1-4ff8-bdf8-28826aaf8762",
   "metadata": {},
   "outputs": [
    {
     "name": "stdout",
     "output_type": "stream",
     "text": [
      "The data type of ['1', '2', '3', '4', '5'] is : <class 'list'>\n",
      "The data type of ['1' '2' '3' '4' '5'] is : <class 'numpy.ndarray'>\n"
     ]
    }
   ],
   "source": [
    "print(f\"The data type of {list_} is : {type(list_)}\")\n",
    "print(f\"The data type of {array_list} is : {type(array_list)}\")"
   ]
  },
  {
   "cell_type": "markdown",
   "id": "10f39eb9-dc1d-4777-abcf-ef478475943e",
   "metadata": {},
   "source": [
    "2. Write a code to print the data type of each and every element of both the variables list_ and array_list."
   ]
  },
  {
   "cell_type": "code",
   "execution_count": 13,
   "id": "1db8067a-08b8-4c0a-9f54-7827ef183998",
   "metadata": {},
   "outputs": [
    {
     "name": "stdout",
     "output_type": "stream",
     "text": [
      "<class 'str'>\n",
      "<class 'str'>\n",
      "<class 'str'>\n",
      "<class 'str'>\n",
      "<class 'str'>\n"
     ]
    }
   ],
   "source": [
    "for i in list_:\n",
    "    print(type(i))"
   ]
  },
  {
   "cell_type": "code",
   "execution_count": 15,
   "id": "2b2b33ce-b5c5-46cf-a76d-2100143846b0",
   "metadata": {},
   "outputs": [
    {
     "name": "stdout",
     "output_type": "stream",
     "text": [
      "<class 'numpy.str_'>\n",
      "<class 'numpy.str_'>\n",
      "<class 'numpy.str_'>\n",
      "<class 'numpy.str_'>\n",
      "<class 'numpy.str_'>\n"
     ]
    }
   ],
   "source": [
    "for i in array_list :\n",
    "    print(type(i))"
   ]
  },
  {
   "cell_type": "markdown",
   "id": "115c67d8-54d3-448f-ba48-c99c0762ed4c",
   "metadata": {},
   "source": [
    "3. Considering the following changes in the variable, array_list: \n",
    "* array_list = np.array(object = list_, dtype = int)\n",
    "> Will there be any difference in the data type of the elements present in both the variables, list_ and\n",
    "array_list? If so then print the data types of each and every element present in both the variables, list_\n",
    "and array_list"
   ]
  },
  {
   "cell_type": "code",
   "execution_count": 26,
   "id": "03255752-0fdf-4d88-aaba-6bb97b2828b0",
   "metadata": {},
   "outputs": [],
   "source": [
    "array_list = np.array(object = list_, dtype = int)"
   ]
  },
  {
   "cell_type": "code",
   "execution_count": 27,
   "id": "acb7b3d3-864d-4fe5-ae79-1218f775f07c",
   "metadata": {},
   "outputs": [
    {
     "data": {
      "text/plain": [
       "dtype('int64')"
      ]
     },
     "execution_count": 27,
     "metadata": {},
     "output_type": "execute_result"
    }
   ],
   "source": [
    "array_list.dtype"
   ]
  },
  {
   "cell_type": "code",
   "execution_count": 24,
   "id": "58fa4aee-0fe0-484f-94f8-1e67097b5d85",
   "metadata": {},
   "outputs": [
    {
     "name": "stdout",
     "output_type": "stream",
     "text": [
      "<class 'str'>\n",
      "<class 'str'>\n",
      "<class 'str'>\n",
      "<class 'str'>\n",
      "<class 'str'>\n"
     ]
    }
   ],
   "source": [
    "for i in list_ :\n",
    "    print(type(i))"
   ]
  },
  {
   "cell_type": "code",
   "execution_count": 28,
   "id": "8d10dc35-3315-4db0-a026-c02749a577ef",
   "metadata": {},
   "outputs": [
    {
     "name": "stdout",
     "output_type": "stream",
     "text": [
      "<class 'numpy.int64'>\n",
      "<class 'numpy.int64'>\n",
      "<class 'numpy.int64'>\n",
      "<class 'numpy.int64'>\n",
      "<class 'numpy.int64'>\n"
     ]
    }
   ],
   "source": [
    "for i in array_list :\n",
    "    print(type(i))"
   ]
  },
  {
   "cell_type": "markdown",
   "id": "edbbb883-4213-4b1b-9478-24b0dbdc3ef2",
   "metadata": {},
   "source": [
    "> the data type of the elements in the list_ doesn't change and remain \"str\", because the list_ itself isn't modified. \n",
    ">> while , the datatype of the array_list are converted to \"numpy.int64\" - this is because of creating the array_list with dtype parameter as int.  \n",
    "* hence the elements in the array_list are converted to integers."
   ]
  },
  {
   "cell_type": "markdown",
   "id": "91a254af-6c47-4d32-9caa-0d57064d5a7a",
   "metadata": {},
   "source": [
    "4.  Consider the following code to answer the below : \n",
    "* num_list = [ [ 1 , 2 , 3 ] , [ 4 , 5 , 6 ] ]\n",
    "* num_array = np.array(object = num_list)\n",
    "> Write a code to find the following characteristics of variable, num_array:\n",
    "* (i) shape\n",
    "* (ii) size"
   ]
  },
  {
   "cell_type": "code",
   "execution_count": 31,
   "id": "3ff4133e-39cc-4a07-9a93-d79bf7a26774",
   "metadata": {},
   "outputs": [],
   "source": [
    "num_list = [ [ 1 , 2 , 3 ] , [ 4 , 5 , 6 ] ]\n",
    "num_array = np.array(num_list)"
   ]
  },
  {
   "cell_type": "code",
   "execution_count": 32,
   "id": "3c67814f-5a4f-466c-8d45-9958244e1d47",
   "metadata": {},
   "outputs": [
    {
     "data": {
      "text/plain": [
       "array([[1, 2, 3],\n",
       "       [4, 5, 6]])"
      ]
     },
     "execution_count": 32,
     "metadata": {},
     "output_type": "execute_result"
    }
   ],
   "source": [
    "num_array"
   ]
  },
  {
   "cell_type": "code",
   "execution_count": 37,
   "id": "5c791423-e20f-4630-a700-c065754f1635",
   "metadata": {},
   "outputs": [
    {
     "name": "stdout",
     "output_type": "stream",
     "text": [
      "The shape of [[1 2 3]\n",
      " [4 5 6]] is (2, 3)\n",
      "The size of [[1 2 3]\n",
      " [4 5 6]] is 6\n"
     ]
    }
   ],
   "source": [
    "print(f\"The shape of {num_array} is {num_array.shape }\")\n",
    "print(f\"The size of {num_array} is {num_array.size}\")"
   ]
  },
  {
   "cell_type": "markdown",
   "id": "2cb00fde-32a4-4d54-9494-724a80bc8ca0",
   "metadata": {},
   "source": [
    "5. Write a code to create numpy array of 3*3 matrix containing zeros only, using a numpy array creation function."
   ]
  },
  {
   "cell_type": "code",
   "execution_count": 41,
   "id": "cdd0c787-56a0-4955-ba83-078466c12626",
   "metadata": {},
   "outputs": [
    {
     "data": {
      "text/plain": [
       "array([[0, 0, 0],\n",
       "       [0, 0, 0],\n",
       "       [0, 0, 0]])"
      ]
     },
     "execution_count": 41,
     "metadata": {},
     "output_type": "execute_result"
    }
   ],
   "source": [
    "zeroes_array = np.array([[0,0,0],\n",
    "          [0,0,0],\n",
    "          [0,0,0]])\n",
    "zeroes_array"
   ]
  },
  {
   "cell_type": "markdown",
   "id": "763a144d-bf7b-4cdb-bc37-73ddfe5ed193",
   "metadata": {},
   "source": [
    "6. Create an identity matrix of shape (5,5) using numpy functions?"
   ]
  },
  {
   "cell_type": "code",
   "execution_count": 46,
   "id": "28c90fd8-86db-4ea5-9b37-93d444ee105f",
   "metadata": {},
   "outputs": [
    {
     "data": {
      "text/plain": [
       "array([[1., 0., 0., 0., 0.],\n",
       "       [0., 1., 0., 0., 0.],\n",
       "       [0., 0., 1., 0., 0.],\n",
       "       [0., 0., 0., 1., 0.],\n",
       "       [0., 0., 0., 0., 1.]])"
      ]
     },
     "execution_count": 46,
     "metadata": {},
     "output_type": "execute_result"
    }
   ],
   "source": [
    "identity_matrix = np.eye(5,5)\n",
    "identity_matrix"
   ]
  }
 ],
 "metadata": {
  "kernelspec": {
   "display_name": "Python 3 (ipykernel)",
   "language": "python",
   "name": "python3"
  },
  "language_info": {
   "codemirror_mode": {
    "name": "ipython",
    "version": 3
   },
   "file_extension": ".py",
   "mimetype": "text/x-python",
   "name": "python",
   "nbconvert_exporter": "python",
   "pygments_lexer": "ipython3",
   "version": "3.10.8"
  }
 },
 "nbformat": 4,
 "nbformat_minor": 5
}
