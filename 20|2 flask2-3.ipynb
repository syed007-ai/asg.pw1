{
 "cells": [
  {
   "cell_type": "markdown",
   "id": "42f92f26-5666-435b-a41a-e1431c6a5f08",
   "metadata": {},
   "source": [
    "1. Explain GET and POST methods."
   ]
  },
  {
   "cell_type": "markdown",
   "id": "207f1978-181e-4f8c-be85-1d3e2da2b4fd",
   "metadata": {},
   "source": [
    "> GET and POST are two HTTP methods that are used to send data over the web. \n",
    "\n",
    "* GET: When you use the GET method, you're asking a web server to send you data. \n",
    ">For example, when you enter a search term into Google and hit enter, you're sending a GET request to Google's web server, asking it to send you a page of search results. \n",
    ">> GET requests are typically used to retrieve data from a server, like a web page or an image. When you make a GET request, the data you're requesting is typically included in the URL of the request.\n",
    "\n",
    "* POST: When you use the POST method, you're sending data to a web server.\n",
    "> For example, when you fill out a form on a website and hit submit, you're sending a POST request to the website's web server, with all the data you entered in the form. \n",
    ">> POST requests are typically used to send data to a server, like when you're submitting a form or creating a new user account. When you make a POST request, the data you're sending is typically included in the body of the request.\n",
    "\n",
    "GET is used to retrieve data from a server, while POST is used to send data to a server. Which means both the GET and POST methods get the data. When you make a GET request, the data is included in the URL of the request, while with a POST request, the data is included in the body of the request"
   ]
  },
  {
   "cell_type": "markdown",
   "id": "cb4bf5bb-7fd0-4a3c-92cd-176ba180157b",
   "metadata": {},
   "source": [
    "2. Why is request used in Flask?"
   ]
  },
  {
   "cell_type": "markdown",
   "id": "d6a5b9bd-0105-4809-8d29-711a614142a5",
   "metadata": {},
   "source": [
    "> request is a tool in Flask that helps you get data from a user's web browser when they submit a form or make a request to your web application. This data can include things like their name, email address, or the search term they're looking for.\n",
    "\n",
    "* For example, let's say you have a search bar on your website that allows users to search for products.\n",
    ">> When a user enters a search term and clicks the search button, request helps your Flask application understand what the user is searching for, and then your app can respond by showing them a list of matching products.\n",
    "\n",
    "request is a tool that helps your Flask app receive and process data from users, which is crucial for building interactive and dynamic web applications."
   ]
  },
  {
   "cell_type": "markdown",
   "id": "878a11b3-5117-4be6-829b-23a024a9871a",
   "metadata": {},
   "source": [
    "3. Why is redirect() used in Flask?"
   ]
  },
  {
   "cell_type": "markdown",
   "id": "b37c4a3d-ff99-4bef-9de4-5b6382ae12da",
   "metadata": {},
   "source": [
    "> redirect() is a function in Flask that allows you to send users to a different URL within your web application.\n",
    "\n",
    "* Imagine you are browsing a website and you click on a link. When you click on that link, the website will send you to a different page. The redirect() function in Flask does the same thing. It sends the user to a different URL or webpage in your Flask app.\n",
    "\n",
    ">> For example, let's say you have a login page on your Flask app.\n",
    "When a user enters their username and password and clicks the login button, you might use redirect() to send them to their account dashboard page or any other page you want them to be directed to.\n",
    "\n",
    " redirect() is used in Flask to help users move between different pages or routes in your web application. It is a useful tool for managing user navigation and making your Flask app easy to use.\n"
   ]
  },
  {
   "cell_type": "markdown",
   "id": "ed5959f9-6159-48b6-ae96-ee52afac21b2",
   "metadata": {},
   "source": [
    "4. What are templates in Flask? Why is the render_template() function used?"
   ]
  },
  {
   "cell_type": "markdown",
   "id": "a74e3b65-6194-47d4-9c7c-e38697a33774",
   "metadata": {},
   "source": [
    "> Templates in Flask are HTML files that are used to generate dynamic web pages. They allow you to create a consistent look and feel for your web application, and can include things like variables, loops, and conditionals to generate content dynamically based on user input or other data.\n",
    "\n",
    "> To generate HTML pages from templates, Flask uses the render_template() function. This function takes the name of a template file (such as \"index.html\"), as well as any data that should be passed to the template, and returns the rendered HTML as a string.\n",
    "\n",
    "> For example, let's say you have a Flask app that displays a list of products on a page. You might create an HTML template file that includes a loop to iterate over the products and display their names, prices, and descriptions. When a user visits the page, your Flask app would use render_template() to generate the HTML for the page based on the contents of the template file and the data about the products.\n",
    "\n",
    "> In summary, templates are a key part of building dynamic web applications in Flask, and the render_template() function is what allows you to generate HTML pages from these templates.\n",
    "\n",
    "\n",
    "\n",
    "\n"
   ]
  }
 ],
 "metadata": {
  "kernelspec": {
   "display_name": "Python 3 (ipykernel)",
   "language": "python",
   "name": "python3"
  },
  "language_info": {
   "codemirror_mode": {
    "name": "ipython",
    "version": 3
   },
   "file_extension": ".py",
   "mimetype": "text/x-python",
   "name": "python",
   "nbconvert_exporter": "python",
   "pygments_lexer": "ipython3",
   "version": "3.10.8"
  }
 },
 "nbformat": 4,
 "nbformat_minor": 5
}
