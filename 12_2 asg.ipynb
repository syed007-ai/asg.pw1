{
 "cells": [
  {
   "cell_type": "markdown",
   "id": "62537abd-6640-4092-a2e3-cceeac8a01ea",
   "metadata": {},
   "source": [
    "1. What is Exception in python? Write the difference between Exception and Syntax Errors"
   ]
  },
  {
   "cell_type": "markdown",
   "id": "f5c79636-5251-47c8-9a85-ea15b6fb4976",
   "metadata": {},
   "source": [
    "* an exception occurs during the execution of a program that disrupts the normal flow of instructions. When an exception is raised, the program stops executing and the Python interpreter searches for an exception handler to handle the exception.\n",
    "\n",
    "* Exceptions can be caused by a variety of things, including user input errors, logical errors, hardware errors, or bugs in the code. Python has a variety of built-in exception types, and you can also define your own custom exceptions.\n",
    "\n",
    "* Syntax errors, on the other hand, occur when the Python interpreter encounters code that violates the language syntax rules. For example, if you forget to put a colon at the end of an if statement, the interpreter will raise a syntax error.\n",
    "\n",
    "* syntax errors are typically easier to fix, as the interpreter will usually point out the exact location of the error. Exceptions, on the other hand, can be more difficult to diagnose and fix, as they can be caused by a wide range of factors and may not always have an obvious solution"
   ]
  },
  {
   "cell_type": "markdown",
   "id": "87b34f79-1fc5-4a3e-a1fe-3de064f61df4",
   "metadata": {},
   "source": [
    "2. What happens when an exception is not handled ? Explain with an example."
   ]
  },
  {
   "cell_type": "markdown",
   "id": "289ec70f-2bf9-42e9-846a-d56203e25391",
   "metadata": {},
   "source": [
    "> imagine you are trying to bake a cake and you forget to check if you have all the necessary ingredients. When you start baking, you realize that you don't have sugar, but you don't have a recipe for a cake without sugar. Instead of stopping the baking process and finding an alternative recipe, you continue with the original recipe, and the cake turns out to be a disaster. Similarly, when an exception is not handled in Python, the program continues to run with the assumption that everything will work as expected, but it fails, and the program terminates abruptly with an error message."
   ]
  },
  {
   "cell_type": "code",
   "execution_count": 5,
   "id": "65eac18c-e794-484e-bdb5-54271899b14f",
   "metadata": {},
   "outputs": [
    {
     "name": "stdin",
     "output_type": "stream",
     "text": [
      "Enter a number:  a\n"
     ]
    },
    {
     "ename": "ValueError",
     "evalue": "invalid literal for int() with base 10: 'a'",
     "output_type": "error",
     "traceback": [
      "\u001b[0;31m---------------------------------------------------------------------------\u001b[0m",
      "\u001b[0;31mValueError\u001b[0m                                Traceback (most recent call last)",
      "Cell \u001b[0;32mIn[5], line 2\u001b[0m\n\u001b[1;32m      1\u001b[0m \u001b[38;5;66;03m#eg: \u001b[39;00m\n\u001b[0;32m----> 2\u001b[0m num \u001b[38;5;241m=\u001b[39m \u001b[38;5;28;43mint\u001b[39;49m\u001b[43m(\u001b[49m\u001b[38;5;28;43minput\u001b[39;49m\u001b[43m(\u001b[49m\u001b[38;5;124;43m\"\u001b[39;49m\u001b[38;5;124;43mEnter a number: \u001b[39;49m\u001b[38;5;124;43m\"\u001b[39;49m\u001b[43m)\u001b[49m\u001b[43m)\u001b[49m\n\u001b[1;32m      3\u001b[0m result \u001b[38;5;241m=\u001b[39m \u001b[38;5;241m100\u001b[39m \u001b[38;5;241m/\u001b[39m num\n\u001b[1;32m      4\u001b[0m \u001b[38;5;28mprint\u001b[39m(\u001b[38;5;124m\"\u001b[39m\u001b[38;5;124mResult:\u001b[39m\u001b[38;5;124m\"\u001b[39m, result)\n",
      "\u001b[0;31mValueError\u001b[0m: invalid literal for int() with base 10: 'a'"
     ]
    }
   ],
   "source": [
    "#eg: \n",
    "num = int(input(\"Enter a number: \"))\n",
    "result = 100 / num\n",
    "print(\"Result:\", result)"
   ]
  },
  {
   "cell_type": "code",
   "execution_count": 6,
   "id": "7dd787ac-1a0f-4efe-952c-57b11d2ee13a",
   "metadata": {},
   "outputs": [
    {
     "name": "stdin",
     "output_type": "stream",
     "text": [
      "Enter a number:  a\n"
     ]
    },
    {
     "name": "stdout",
     "output_type": "stream",
     "text": [
      "Invalid input. You must enter a number.\n"
     ]
    }
   ],
   "source": [
    "#eg : using exception :\n",
    "try:\n",
    "    num = int(input(\"Enter a number: \"))\n",
    "    result = 100 / num\n",
    "    print(\"Result:\", result)\n",
    "except ValueError:\n",
    "    print(\"Invalid input. You must enter a number.\")\n"
   ]
  },
  {
   "cell_type": "markdown",
   "id": "eaecbdab-8643-440c-b8de-c267f55e7c6d",
   "metadata": {},
   "source": [
    "3. Which Python statements are used to catch and handle excpetions ? Explain with an example"
   ]
  },
  {
   "cell_type": "markdown",
   "id": "e7ab50ea-56d7-481e-a16e-469fe377cd17",
   "metadata": {},
   "source": [
    "try and except statements are used to satch and handle exceptions in python."
   ]
  },
  {
   "cell_type": "code",
   "execution_count": 7,
   "id": "ae3df9a1-3cd4-4208-a31c-48ea817c2ab4",
   "metadata": {},
   "outputs": [
    {
     "name": "stdin",
     "output_type": "stream",
     "text": [
      "Enter a number:  ab\n"
     ]
    },
    {
     "name": "stdout",
     "output_type": "stream",
     "text": [
      "Invalid input. You must enter a number.\n"
     ]
    }
   ],
   "source": [
    "#eg : using exception :\n",
    "try:\n",
    "    num = int(input(\"Enter a number: \"))\n",
    "    result = 100 / num\n",
    "    print(\"Result:\", result)\n",
    "except ValueError:\n",
    "    print(\"Invalid input. You must enter a number.\")\n"
   ]
  },
  {
   "cell_type": "markdown",
   "id": "5044f356-a0e9-4532-a2e5-8edcb4c206d8",
   "metadata": {},
   "source": [
    "4. Explain with an eg :\n",
    "    a. try and else \n",
    "    b. finally\n",
    "    c. raise\n",
    "    "
   ]
  },
  {
   "cell_type": "markdown",
   "id": "51af9076-8435-4c84-adcf-ec7bd26f55dd",
   "metadata": {},
   "source": [
    "try and else statements are used in Python to handle exceptions when you want to execute some code only when the try block does not raise any exception. "
   ]
  },
  {
   "cell_type": "code",
   "execution_count": null,
   "id": "d80ac998-1a08-4466-9ecb-767a24a547c3",
   "metadata": {},
   "outputs": [],
   "source": [
    "try:\n",
    "    num = int(input(\"Enter a number: \"))\n",
    "    result = 100 / num\n",
    "except ValueError:\n",
    "    print(\"Invalid input. You must enter a number.\")\n",
    "else:\n",
    "    print(\"The result is:\", result)\n"
   ]
  },
  {
   "cell_type": "markdown",
   "id": "0491e1b0-e8d9-427f-9749-4cf05a182dba",
   "metadata": {},
   "source": [
    "finally statements are used in Python to execute some code regardless of whether an exception was raised or not. "
   ]
  },
  {
   "cell_type": "code",
   "execution_count": 3,
   "id": "a709d6c6-279e-487c-b981-8d93860bd484",
   "metadata": {},
   "outputs": [
    {
     "name": "stdout",
     "output_type": "stream",
     "text": [
      "Unable to read file.\n"
     ]
    }
   ],
   "source": [
    "file = None\n",
    "try:\n",
    "    file = open(\"example.txt\", \"r\")\n",
    "    content = file.read()\n",
    "except IOError:\n",
    "    print(\"Unable to read file.\")\n",
    "finally:\n",
    "    if file is not None :\n",
    "        file.close()"
   ]
  },
  {
   "cell_type": "markdown",
   "id": "0e3d174e-72d8-4d4b-862b-7a6c141589e5",
   "metadata": {},
   "source": [
    "raise statement is used in Python to raise an exception explicitly"
   ]
  },
  {
   "cell_type": "code",
   "execution_count": 4,
   "id": "de8bf44e-3002-411f-9865-7927dede57e4",
   "metadata": {},
   "outputs": [
    {
     "name": "stdout",
     "output_type": "stream",
     "text": [
      "Cannot divide by zero.\n"
     ]
    }
   ],
   "source": [
    "def divide(num1, num2):\n",
    "    if num2 == 0:\n",
    "        raise ValueError(\"Cannot divide by zero.\")\n",
    "    return num1 / num2\n",
    "\n",
    "try:\n",
    "    result = divide(10, 0)\n",
    "except ValueError as e:\n",
    "    print(e)\n"
   ]
  },
  {
   "cell_type": "markdown",
   "id": "ceec5a65-eac9-4a59-9609-9246cfe60b93",
   "metadata": {},
   "source": [
    "5. What are Custom Exceptions in python? Why do we need Custom Exceptions ? explain with an example"
   ]
  },
  {
   "cell_type": "markdown",
   "id": "efa48899-cd66-4f19-8759-fde6a083eeee",
   "metadata": {},
   "source": [
    "Custom exceptions in Python are user-defined exceptions that can be raised in addition to the built-in exceptions provided by Python. Custom exceptions are used when the built-in exceptions do not accurately describe the error that occurred or when you want to handle certain errors in a specific way."
   ]
  },
  {
   "cell_type": "code",
   "execution_count": null,
   "id": "d4d01545-35aa-4eeb-8ce1-2bdd95da8915",
   "metadata": {},
   "outputs": [],
   "source": []
  },
  {
   "cell_type": "markdown",
   "id": "43a1e7c4-1a28-4c11-b31f-d7e6bccfe2ed",
   "metadata": {},
   "source": [
    "6. Create a custom Exception class . Use this class to handle an exception."
   ]
  },
  {
   "cell_type": "code",
   "execution_count": 8,
   "id": "9bf6c092-6571-4da5-8818-eec381ea15d5",
   "metadata": {},
   "outputs": [
    {
     "name": "stdout",
     "output_type": "stream",
     "text": [
      "Negative number error: Negative numbers are not allowed.\n"
     ]
    }
   ],
   "source": [
    "\n"
   ]
  },
  {
   "cell_type": "code",
   "execution_count": null,
   "id": "4ca18872-a87a-4bfb-bfb0-87b46e01e69c",
   "metadata": {},
   "outputs": [],
   "source": []
  }
 ],
 "metadata": {
  "kernelspec": {
   "display_name": "Python 3 (ipykernel)",
   "language": "python",
   "name": "python3"
  },
  "language_info": {
   "codemirror_mode": {
    "name": "ipython",
    "version": 3
   },
   "file_extension": ".py",
   "mimetype": "text/x-python",
   "name": "python",
   "nbconvert_exporter": "python",
   "pygments_lexer": "ipython3",
   "version": "3.10.8"
  }
 },
 "nbformat": 4,
 "nbformat_minor": 5
}
