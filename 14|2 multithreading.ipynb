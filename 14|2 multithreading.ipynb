{
 "cells": [
  {
   "cell_type": "markdown",
   "id": "9e016d5f-3c00-4148-a9e7-2885f3580ce3",
   "metadata": {},
   "source": [
    "1. what is multithreading in python? why is it used? Name the module used to handle threads in python"
   ]
  },
  {
   "cell_type": "markdown",
   "id": "b4060cdd-253f-4c18-beef-0c3d8a92459a",
   "metadata": {},
   "source": [
    "* multithreading is the concept of running multiple threads in a program.  This optimizes the memory space. \n",
    "> for example , lets consider a chef . The chef's preparing a dish and he has to chop the vegetables and also prepare the meat, as he can do one work at a time , i.e either chopping the vegetables or preparing the meat, this will take a lot of time to prepare a single dish.\n",
    "Now's lets add a assistant to the chef, the assistant chops the veggies and the chef prepares the meat , this is how the dish gets ready in a efficient time.\n",
    "* The same applies for a computer too , a program is divided into its threads in a core of the processor and the program gets executed effectively in less time and also the memory gets optimized.\n",
    "* we use threading module to handle threads in python."
   ]
  },
  {
   "cell_type": "markdown",
   "id": "4f4ee018-6226-4680-b0e8-a8b54222845e",
   "metadata": {},
   "source": [
    "2. why threading module used? write the use of the following functions\n",
    "* activeCount()\n",
    "* currentThread()\n",
    "*  enumerate()"
   ]
  },
  {
   "cell_type": "markdown",
   "id": "b6d4e66e-09c4-4afa-a6b8-cfa3bc715942",
   "metadata": {},
   "source": [
    "> threading module is used to create and manage threads and implement the concept of multithreading.\n",
    ">> Threads allows a program to run multiple tasks concurrently . This improves performance and responsiveness"
   ]
  },
  {
   "cell_type": "markdown",
   "id": "ffa85345-7806-4d38-a710-a903f407cf2e",
   "metadata": {},
   "source": [
    "* activeCount() :  This function returns the number of active threads in the current process. It can be useful for debugging and monitoring purposes, as it allows you to check the number of threads that are currently running. \n",
    "* currentThread() : This function returns a reference to the current thread object. It can be useful for accessing information about the current thread, such as its name or ID.\n",
    "* enumerate() :  This function returns a list of all active Thread objects in the current process. It can be useful for monitoring and debugging, as it allows you to inspect the state of all threads in the process."
   ]
  },
  {
   "cell_type": "markdown",
   "id": "c8345a5d-cbbc-46da-8217-deeb1d3772bd",
   "metadata": {},
   "source": [
    "3) Explain the following functions\n",
    "* run ()\n",
    "* start()\n",
    "* join()\n",
    "* isAlive()"
   ]
  },
  {
   "cell_type": "markdown",
   "id": "a9f5e0c2-6a6d-4df4-9dc4-18a6b9099be7",
   "metadata": {},
   "source": [
    "These functions are used to create and run threads using the threading module"
   ]
  },
  {
   "cell_type": "markdown",
   "id": "e205d5c9-0f50-4c18-bad6-044243a07f8a",
   "metadata": {},
   "source": [
    "* run() : This function is called by the Thread object to run the target function in a new thread. \n",
    "* start() : This function starts the thread's activity by calling the run() method in a separate thread of execution. It is used to spawn a new thread and start executing the target function.\n",
    "* join() : This function blocks the calling thread until the thread whose join() method is called completes or terminates. This allows you to wait for a thread to finish before continuing execution in the main thread.\n",
    "* isAlive() : his function returns a boolean value indicating whether the thread is currently executing or has finished executing. It can be useful for checking the status of a thread from another thread."
   ]
  },
  {
   "cell_type": "markdown",
   "id": "85c22ec2-c1ae-41eb-84ef-436cf4a57b63",
   "metadata": {},
   "source": [
    "4. Write a python program to create two threads. Thread one must print the list of squares and thread two must print the list of cubes"
   ]
  },
  {
   "cell_type": "code",
   "execution_count": 14,
   "id": "454f7163-c002-447c-8d3b-d1375de81d16",
   "metadata": {},
   "outputs": [
    {
     "name": "stdout",
     "output_type": "stream",
     "text": [
      "List of squares: [1, 4, 9, 16, 25]\n",
      "List of cubes: [1, 8, 27, 64, 125]\n",
      "both threads have been executed\n"
     ]
    }
   ],
   "source": [
    "import threading\n",
    "\n",
    "def square(numbers):\n",
    "    squares = [num**2 for num in numbers]\n",
    "    print(\"List of squares:\", squares)\n",
    "\n",
    "def cube(numbers):\n",
    "    cubes = [num**3 for num in numbers]\n",
    "    print(\"List of cubes:\", cubes)\n",
    "\n",
    "numbers = [1, 2, 3, 4, 5]\n",
    "\n",
    "thread1 = threading.Thread(target=square, args=(numbers,))\n",
    "thread2 = threading.Thread(target=cube, args=(numbers,))\n",
    "\n",
    "thread1.start()\n",
    "thread2.start()\n",
    "print(\"both threads have been executed\")\n",
    "thread1.join()\n",
    "thread2.join()\n",
    "\n"
   ]
  },
  {
   "cell_type": "markdown",
   "id": "755a8d37-e6f9-4c27-9d4d-8d688de9cf39",
   "metadata": {},
   "source": [
    "5. State advantages and disadvantages of multithreading"
   ]
  },
  {
   "cell_type": "markdown",
   "id": "e88d7656-1eef-42ac-bfce-5c4382ca695c",
   "metadata": {},
   "source": [
    "#Advantages of multithreading :\n",
    "* Faster performance: Multithreading can make a program run faster by doing multiple things at the same time.\n",
    "* Better responsiveness: Multithreading can make a program respond quickly to user input or network requests while it's doing other things in the background.\n",
    "* Sharing resources: Multithreading allows different parts of a program to share resources, like memory or network connections.\n",
    "* Easier programming: Multithreading can make it easier to write programs by breaking them into smaller, simpler parts that can run at the same time."
   ]
  },
  {
   "cell_type": "markdown",
   "id": "405634c0-10fb-45c2-ad1f-48467fdd1d8e",
   "metadata": {},
   "source": [
    "#Disadvantages of multithreading :\n",
    "* More complex programming: Multithreaded programs can be harder to write and fix than single-threaded programs because they have more issues to deal with, like making sure different threads don't interfere with each other.\n",
    "* Slower performance: Multithreading can sometimes make a program slower because of the extra work needed to manage the different threads.\n",
    "* Less portable: Multithreading can be harder to make work on different computers or operating systems.\n",
    "* Not always useful: Some programs don't benefit much from multithreading, so it's not always worth the effort to add it."
   ]
  },
  {
   "cell_type": "markdown",
   "id": "919bb6b1-da43-4f2c-99db-9212a454584c",
   "metadata": {},
   "source": [
    "hence , multithreading can be a powerful tool for improving performance and responsiveness of certain programs. But it needs to be carefully designed and managed so that it avoids deadlocks and race conditions"
   ]
  },
  {
   "cell_type": "markdown",
   "id": "9016919e-25b5-4850-a7a2-dc74db8e2651",
   "metadata": {},
   "source": [
    "6. Explain deadlocks and race conditions."
   ]
  },
  {
   "cell_type": "markdown",
   "id": "914cfebb-ff8d-4844-9fcc-2b1fca310607",
   "metadata": {},
   "source": [
    "* Deadlock and race conditions are two common problems that can occur when multiple threads or processes try to access shared resources like memory or files.\n",
    "\n",
    "* > A deadlock occurs when two or more threads or processes are waiting for each other to release a resource they both need to proceed. It's like two people standing in a narrow hallway and each waiting for the other to move first, so neither can pass. Deadlocks can cause programs to freeze or crash.\n",
    "\n",
    "* >  A race condition occurs when two or more threads or processes are trying to access or modify the same shared resource at the same time, and the outcome depends on the order in which they are executed. It's like two people trying to write on the same whiteboard at the same time, and the result is messy and unpredictable. Race conditions can cause programs to produce incorrect or inconsistent results.\n",
    "\n",
    "\n"
   ]
  }
 ],
 "metadata": {
  "kernelspec": {
   "display_name": "Python 3 (ipykernel)",
   "language": "python",
   "name": "python3"
  },
  "language_info": {
   "codemirror_mode": {
    "name": "ipython",
    "version": 3
   },
   "file_extension": ".py",
   "mimetype": "text/x-python",
   "name": "python",
   "nbconvert_exporter": "python",
   "pygments_lexer": "ipython3",
   "version": "3.10.8"
  }
 },
 "nbformat": 4,
 "nbformat_minor": 5
}
